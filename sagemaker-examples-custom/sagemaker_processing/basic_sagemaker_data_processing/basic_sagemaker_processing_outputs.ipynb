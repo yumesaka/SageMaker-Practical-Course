{
 "cells": [
  {
   "cell_type": "markdown",
   "id": "71eb508665124287",
   "metadata": {
    "papermill": {
     "duration": 0.006395,
     "end_time": "2022-04-18T00:08:55.010149",
     "exception": false,
     "start_time": "2022-04-18T00:08:55.003754",
     "status": "completed"
    },
    "pycharm": {
     "name": "#%% md\n"
    },
    "tags": []
   },
   "source": [
    "# Get started with SageMaker Processing\n"
   ]
  },
  {
   "attachments": {},
   "cell_type": "markdown",
   "metadata": {},
   "source": [
    "---\n",
    "\n",
    "This notebook's CI test result for us-west-2 is as follows. CI test results in other regions can be found at the end of the notebook. \n",
    "\n",
    "![This us-west-2 badge failed to load. Check your device's internet connectivity, otherwise the service is currently unavailable](https://prod.us-west-2.tcx-beacon.docs.aws.dev/sagemaker-nb/us-west-2/sagemaker_processing|basic_sagemaker_data_processing|basic_sagemaker_processing_outputs.ipynb)\n",
    "\n",
    "---"
   ],
   "id": "18fb67e74919006d"
  },
  {
   "cell_type": "markdown",
   "id": "666fd43b82ab56b3",
   "metadata": {
    "papermill": {
     "duration": 0.006395,
     "end_time": "2022-04-18T00:08:55.010149",
     "exception": false,
     "start_time": "2022-04-18T00:08:55.003754",
     "status": "completed"
    },
    "pycharm": {
     "name": "#%% md\n"
    },
    "tags": []
   },
   "source": [
    "\n",
    "This notebook corresponds to the section \"Preprocessing Data With The Built-In Scikit-Learn Container\" in the blog post [Amazon SageMaker Processing – Fully Managed Data Processing and Model Evaluation](https://aws.amazon.com/blogs/aws/amazon-sagemaker-processing-fully-managed-data-processing-and-model-evaluation/). \n",
    "It shows a lightweight example of using SageMaker Processing to create train, test, and validation datasets. SageMaker Processing is used to create these datasets, which then are written back to S3.\n",
    "\n",
    "## Runtime\n",
    "\n",
    "This notebook takes approximately 5 minutes to run.\n",
    "\n",
    "## Contents\n",
    "\n",
    "1. [Prepare resources](#Prepare-resources)\n",
    "1. [Download data](#Download-data)\n",
    "1. [Prepare Processing script](#Prepare-Processing-script)\n",
    "1. [Run Processing job](#Run-Processing-job)\n",
    "1. [Conclusion](#Conclusion)"
   ]
  },
  {
   "cell_type": "markdown",
   "id": "3cf7028a",
   "metadata": {
    "papermill": {
     "duration": 0.006333,
     "end_time": "2022-04-18T00:08:55.022942",
     "exception": false,
     "start_time": "2022-04-18T00:08:55.016609",
     "status": "completed"
    },
    "pycharm": {
     "name": "#%% md\n"
    },
    "tags": []
   },
   "source": [
    "## Prepare resources\n",
    "\n",
    "First, let’s create an SKLearnProcessor object, passing the scikit-learn version we want to use, as well as our managed infrastructure requirements."
   ]
  },
  {
   "cell_type": "code",
   "execution_count": null,
   "outputs": [],
   "source": [
    "# !pip install -U sagemaker"
   ],
   "metadata": {
    "collapsed": false,
    "pycharm": {
     "name": "#%%\n"
    }
   },
   "id": "1d532a9d6c91f7ed"
  },
  {
   "cell_type": "code",
   "outputs": [],
   "source": [
    "from omegaconf import OmegaConf\n",
    "\n",
    "path_root = \"/Users/elnath/004_deep_learning/SageMaker-Practical-Course\"\n",
    "conf = OmegaConf.load(f\"{path_root}/config_my.json\")"
   ],
   "metadata": {
    "collapsed": false
   },
   "id": "72b599967eb906cf",
   "execution_count": null
  },
  {
   "cell_type": "code",
   "execution_count": null,
   "id": "862f8d1f",
   "metadata": {
    "execution": {
     "iopub.execute_input": "2022-04-18T00:08:55.039310Z",
     "iopub.status.busy": "2022-04-18T00:08:55.038857Z",
     "iopub.status.idle": "2022-04-18T00:08:56.057474Z",
     "shell.execute_reply": "2022-04-18T00:08:56.057892Z"
    },
    "papermill": {
     "duration": 1.028712,
     "end_time": "2022-04-18T00:08:56.058050",
     "exception": false,
     "start_time": "2022-04-18T00:08:55.029338",
     "status": "completed"
    },
    "pycharm": {
     "name": "#%%\n"
    },
    "tags": []
   },
   "outputs": [],
   "source": [
    "import boto3\n",
    "import sagemaker\n",
    "from sagemaker import get_execution_role\n",
    "from sagemaker.sklearn.processing import SKLearnProcessor\n",
    "\n",
    "region = sagemaker.Session().boto_region_name\n",
    "# role = get_execution_role()\n",
    "role = conf.common.execution_role\n",
    "sklearn_processor = SKLearnProcessor(\n",
    "    framework_version=\"1.2-1\", role=role, instance_type=\"ml.m5.xlarge\", instance_count=1\n",
    ")"
   ]
  },
  {
   "cell_type": "markdown",
   "id": "b35ea4ea",
   "metadata": {
    "papermill": {
     "duration": 0.006588,
     "end_time": "2022-04-18T00:08:56.071404",
     "exception": false,
     "start_time": "2022-04-18T00:08:56.064816",
     "status": "completed"
    },
    "pycharm": {
     "name": "#%% md\n"
    },
    "tags": []
   },
   "source": [
    "## Download data\n",
    "\n",
    "Read in the raw data from a public S3 bucket. This example uses the [Census-Income (KDD) Dataset](https://archive.ics.uci.edu/ml/datasets/Census-Income+%28KDD%29) from the UCI Machine Learning Repository.\n",
    "\n",
    "> Dua, D. and Graff, C. (2019). UCI Machine Learning Repository [http://archive.ics.uci.edu/ml]. Irvine, CA: University of California, School of Information and Computer Science."
   ]
  },
  {
   "cell_type": "code",
   "execution_count": null,
   "id": "6eaf6050",
   "metadata": {
    "execution": {
     "iopub.execute_input": "2022-04-18T00:08:56.096003Z",
     "iopub.status.busy": "2022-04-18T00:08:56.095500Z",
     "iopub.status.idle": "2022-04-18T00:09:00.816015Z",
     "shell.execute_reply": "2022-04-18T00:09:00.815586Z"
    },
    "papermill": {
     "duration": 4.738175,
     "end_time": "2022-04-18T00:09:00.816126",
     "exception": false,
     "start_time": "2022-04-18T00:08:56.077951",
     "status": "completed"
    },
    "pycharm": {
     "name": "#%%\n"
    },
    "tags": []
   },
   "outputs": [],
   "source": [
    "import pandas as pd\n",
    "\n",
    "s3 = boto3.client(\"s3\")\n",
    "s3.download_file(\n",
    "    \"sagemaker-sample-data-{}\".format(region),\n",
    "    \"processing/census/census-income.csv\",\n",
    "    \"census-income.csv\",\n",
    ")\n",
    "df = pd.read_csv(\"census-income.csv\")\n",
    "df.to_csv(\"dataset.csv\")\n",
    "df.head()"
   ]
  },
  {
   "cell_type": "markdown",
   "id": "240ac1a3",
   "metadata": {
    "papermill": {
     "duration": 0.007158,
     "end_time": "2022-04-18T00:09:00.830803",
     "exception": false,
     "start_time": "2022-04-18T00:09:00.823645",
     "status": "completed"
    },
    "pycharm": {
     "name": "#%% md\n"
    },
    "tags": []
   },
   "source": [
    "## Prepare Processing script\n",
    "\n",
    "Write the Python script that will be run by SageMaker Processing. This script reads the single data file from S3; splits the rows into train, test, and validation sets; and then writes the three output files to S3."
   ]
  },
  {
   "cell_type": "code",
   "execution_count": null,
   "id": "64b8e90c",
   "metadata": {
    "execution": {
     "iopub.execute_input": "2022-04-18T00:09:00.849237Z",
     "iopub.status.busy": "2022-04-18T00:09:00.848512Z",
     "iopub.status.idle": "2022-04-18T00:09:00.851175Z",
     "shell.execute_reply": "2022-04-18T00:09:00.851554Z"
    },
    "papermill": {
     "duration": 0.013691,
     "end_time": "2022-04-18T00:09:00.851669",
     "exception": false,
     "start_time": "2022-04-18T00:09:00.837978",
     "status": "completed"
    },
    "pycharm": {
     "name": "#%%\n"
    },
    "tags": []
   },
   "outputs": [],
   "source": [
    "%%writefile preprocessing.py\n",
    "import pandas as pd\n",
    "import os\n",
    "from sklearn.model_selection import train_test_split\n",
    "\n",
    "input_data_path = os.path.join(\"/opt/ml/processing/input\", \"dataset.csv\")\n",
    "df = pd.read_csv(input_data_path)\n",
    "print(\"Shape of data is:\", df.shape)\n",
    "train, test = train_test_split(df, test_size=0.2)\n",
    "train, validation = train_test_split(train, test_size=0.2)\n",
    "\n",
    "try:\n",
    "    os.makedirs(\"/opt/ml/processing/output/train\")\n",
    "    os.makedirs(\"/opt/ml/processing/output/validation\")\n",
    "    os.makedirs(\"/opt/ml/processing/output/test\")\n",
    "    print(\"Successfully created directories\")\n",
    "except Exception as e:\n",
    "    # if the Processing call already creates these directories (or directory otherwise cannot be created)\n",
    "    print(e)\n",
    "    print(\"Could not make directories\")\n",
    "    pass\n",
    "\n",
    "try:\n",
    "    train.to_csv(\"/opt/ml/processing/output/train/train.csv\")\n",
    "    validation.to_csv(\"/opt/ml/processing/output/validation/validation.csv\")\n",
    "    test.to_csv(\"/opt/ml/processing/output/test/test.csv\")\n",
    "    print(\"Wrote files successfully\")\n",
    "except Exception as e:\n",
    "    print(\"Failed to write the files\")\n",
    "    print(e)\n",
    "    pass\n",
    "\n",
    "print(\"Completed running the processing job\")"
   ]
  },
  {
   "cell_type": "markdown",
   "id": "1bab3ff2",
   "metadata": {
    "papermill": {
     "duration": 0.007373,
     "end_time": "2022-04-18T00:09:00.866414",
     "exception": false,
     "start_time": "2022-04-18T00:09:00.859041",
     "status": "completed"
    },
    "pycharm": {
     "name": "#%% md\n"
    },
    "tags": []
   },
   "source": [
    "## Run Processing job"
   ]
  },
  {
   "cell_type": "markdown",
   "id": "68190117",
   "metadata": {
    "papermill": {
     "duration": 0.007318,
     "end_time": "2022-04-18T00:09:00.881109",
     "exception": false,
     "start_time": "2022-04-18T00:09:00.873791",
     "status": "completed"
    },
    "pycharm": {
     "name": "#%% md\n"
    },
    "tags": []
   },
   "source": [
    "Run the Processing job, specifying the script name, input file, and output files."
   ]
  },
  {
   "cell_type": "code",
   "execution_count": null,
   "id": "450368db",
   "metadata": {
    "execution": {
     "iopub.execute_input": "2022-04-18T00:09:00.901375Z",
     "iopub.status.busy": "2022-04-18T00:09:00.900644Z",
     "iopub.status.idle": "2022-04-18T00:13:44.601792Z",
     "shell.execute_reply": "2022-04-18T00:13:44.602212Z"
    },
    "papermill": {
     "duration": 283.713812,
     "end_time": "2022-04-18T00:13:44.602351",
     "exception": false,
     "start_time": "2022-04-18T00:09:00.888539",
     "status": "completed"
    },
    "pycharm": {
     "name": "#%%\n"
    },
    "tags": []
   },
   "outputs": [],
   "source": [
    "%%capture output\n",
    "\n",
    "from sagemaker.processing import ProcessingInput, ProcessingOutput\n",
    "\n",
    "sklearn_processor.run(\n",
    "    code=\"preprocessing.py\",\n",
    "    # arguments = [\"arg1\", \"arg2\"], # Arguments can optionally be specified here\n",
    "    inputs=[ProcessingInput(source=\"dataset.csv\", destination=\"/opt/ml/processing/input\")],\n",
    "    outputs=[\n",
    "        ProcessingOutput(source=\"/opt/ml/processing/output/train\"),\n",
    "        ProcessingOutput(source=\"/opt/ml/processing/output/validation\"),\n",
    "        ProcessingOutput(source=\"/opt/ml/processing/output/test\"),\n",
    "    ],\n",
    ")"
   ]
  },
  {
   "cell_type": "markdown",
   "id": "135c2776",
   "metadata": {
    "papermill": {
     "duration": 0.007543,
     "end_time": "2022-04-18T00:13:44.617780",
     "exception": false,
     "start_time": "2022-04-18T00:13:44.610237",
     "status": "completed"
    },
    "pycharm": {
     "name": "#%% md\n"
    },
    "tags": []
   },
   "source": [
    "Get the Processing job logs and retrieve the job name."
   ]
  },
  {
   "cell_type": "code",
   "execution_count": null,
   "id": "8f3e9edf",
   "metadata": {
    "execution": {
     "iopub.execute_input": "2022-04-18T00:13:44.636660Z",
     "iopub.status.busy": "2022-04-18T00:13:44.636183Z",
     "iopub.status.idle": "2022-04-18T00:13:44.638287Z",
     "shell.execute_reply": "2022-04-18T00:13:44.638643Z"
    },
    "papermill": {
     "duration": 0.013467,
     "end_time": "2022-04-18T00:13:44.638753",
     "exception": false,
     "start_time": "2022-04-18T00:13:44.625286",
     "status": "completed"
    },
    "pycharm": {
     "name": "#%%\n"
    },
    "tags": []
   },
   "outputs": [],
   "source": [
    "print(output)\n",
    "job_name = str(output).split(\"\\n\")[1].split(\" \")[-1]"
   ]
  },
  {
   "cell_type": "markdown",
   "id": "386f656a",
   "metadata": {
    "papermill": {
     "duration": 0.007802,
     "end_time": "2022-04-18T00:13:44.654395",
     "exception": false,
     "start_time": "2022-04-18T00:13:44.646593",
     "status": "completed"
    },
    "pycharm": {
     "name": "#%% md\n"
    },
    "tags": []
   },
   "source": [
    "Confirm that the output dataset files were written to S3."
   ]
  },
  {
   "cell_type": "code",
   "execution_count": null,
   "id": "9b885d73",
   "metadata": {
    "execution": {
     "iopub.execute_input": "2022-04-18T00:13:44.677694Z",
     "iopub.status.busy": "2022-04-18T00:13:44.677253Z",
     "iopub.status.idle": "2022-04-18T00:13:45.043939Z",
     "shell.execute_reply": "2022-04-18T00:13:45.044361Z"
    },
    "papermill": {
     "duration": 0.382286,
     "end_time": "2022-04-18T00:13:45.044503",
     "exception": false,
     "start_time": "2022-04-18T00:13:44.662217",
     "status": "completed"
    },
    "pycharm": {
     "name": "#%%\n"
    },
    "tags": []
   },
   "outputs": [],
   "source": [
    "import boto3\n",
    "\n",
    "s3_client = boto3.client(\"s3\")\n",
    "default_bucket = sagemaker.Session().default_bucket()\n",
    "for i in range(1, 4):\n",
    "    prefix = s3_client.list_objects(\n",
    "        Bucket=default_bucket, Prefix=\"sagemaker-scikit-learn\"\n",
    "    )[\"Contents\"][-i][\"Key\"]\n",
    "    print(\"s3://\" + default_bucket + \"/\" + prefix)"
   ]
  },
  {
   "cell_type": "markdown",
   "id": "bd191e62",
   "metadata": {
    "papermill": {
     "duration": 0.008184,
     "end_time": "2022-04-18T00:13:45.060991",
     "exception": false,
     "start_time": "2022-04-18T00:13:45.052807",
     "status": "completed"
    },
    "pycharm": {
     "name": "#%% md\n"
    },
    "tags": []
   },
   "source": [
    "## Conclusion\n",
    "\n",
    "In this notebook, we read a dataset from S3 and processed it into train, test, and validation sets using a SageMaker Processing job. You can extend this example for preprocessing your own datasets in preparation for machine learning or other applications."
   ]
  }
 ],
 "metadata": {
  "kernelspec": {
   "name": "venv_sagemaker_39",
   "language": "python",
   "display_name": "venv_sagemaker_39"
  },
  "language_info": {
   "codemirror_mode": {
    "name": "ipython",
    "version": 3
   },
   "file_extension": ".py",
   "mimetype": "text/x-python",
   "name": "python",
   "nbconvert_exporter": "python",
   "pygments_lexer": "ipython3",
   "version": "3.7.10"
  },
  "papermill": {
   "default_parameters": {},
   "duration": 291.085709,
   "end_time": "2022-04-18T00:13:45.485219",
   "environment_variables": {},
   "exception": null,
   "input_path": "basic_sagemaker_processing.ipynb",
   "output_path": "/opt/ml/processing/output/basic_sagemaker_processing-2022-04-18-00-04-13.ipynb",
   "parameters": {
    "kms_key": "arn:aws:kms:us-west-2:000000000000:1234abcd-12ab-34cd-56ef-1234567890ab"
   },
   "start_time": "2022-04-18T00:08:54.399510",
   "version": "2.3.4"
  }
 },
 "nbformat": 4,
 "nbformat_minor": 5
}
