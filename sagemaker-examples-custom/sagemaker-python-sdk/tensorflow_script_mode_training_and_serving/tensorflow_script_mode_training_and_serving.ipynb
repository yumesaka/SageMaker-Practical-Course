{
 "cells": [
  {
   "cell_type": "markdown",
   "metadata": {},
   "source": [
    "# TensorFlow script mode training and serving\n"
   ]
  },
  {
   "attachments": {},
   "cell_type": "markdown",
   "metadata": {},
   "source": [
    "---\n",
    "\n",
    "This notebook's CI test result for us-west-2 is as follows. CI test results in other regions can be found at the end of the notebook. \n",
    "\n",
    "![This us-west-2 badge failed to load. Check your device's internet connectivity, otherwise the service is currently unavailable](https://prod.us-west-2.tcx-beacon.docs.aws.dev/sagemaker-nb/us-west-2/sagemaker-python-sdk|tensorflow_script_mode_training_and_serving|tensorflow_script_mode_training_and_serving.ipynb)\n",
    "\n",
    "---"
   ]
  },
  {
   "cell_type": "markdown",
   "metadata": {},
   "source": [
    "\n",
    "Script mode is a training script format for TensorFlow that lets you execute any TensorFlow training script in SageMaker with minimal modification. The [SageMaker Python SDK](https://github.com/aws/sagemaker-python-sdk) handles transferring your script to a SageMaker training instance. On the training instance, SageMaker's native TensorFlow support sets up training-related environment variables and executes your training script. In this tutorial, we use the SageMaker Python SDK to launch a training job and deploy the trained model.\n",
    "\n",
    "Script mode supports training with a Python script, a Python module, or a shell script. In this example, we use a Python script to train a classification model on the [MNIST dataset](http://yann.lecun.com/exdb/mnist/). In this example, we will show how easily you can train a SageMaker using TensorFlow 1.x and TensorFlow 2.0 scripts with SageMaker Python SDK. In addition, this notebook demonstrates how to perform real time inference with the [SageMaker TensorFlow Serving container](https://github.com/aws/sagemaker-tensorflow-serving-container). The TensorFlow Serving container is the default inference method for script mode. For full documentation on the TensorFlow Serving container, please visit [here](https://github.com/aws/sagemaker-python-sdk/blob/master/src/sagemaker/tensorflow/deploying_tensorflow_serving.rst).\n"
   ]
  },
  {
   "cell_type": "markdown",
   "metadata": {},
   "source": [
    "## Set up the environment\n",
    "\n",
    "Let's start by setting up the environment:"
   ]
  },
  {
   "cell_type": "code",
   "outputs": [],
   "source": [
    "from omegaconf import OmegaConf\n",
    "\n",
    "path_root = \"/Users/elnath/004_deep_learning/SageMaker-Practical-Course\"\n",
    "conf = OmegaConf.load(f\"{path_root}/config_my.json\")"
   ],
   "metadata": {
    "collapsed": false,
    "ExecuteTime": {
     "end_time": "2024-03-25T10:59:08.578042Z",
     "start_time": "2024-03-25T10:59:08.511106Z"
    }
   },
   "execution_count": 1
  },
  {
   "cell_type": "code",
   "execution_count": 2,
   "metadata": {
    "ExecuteTime": {
     "end_time": "2024-03-25T10:59:10.429673Z",
     "start_time": "2024-03-25T10:59:08.768332Z"
    }
   },
   "outputs": [
    {
     "name": "stdout",
     "output_type": "stream",
     "text": [
      "sagemaker.config INFO - Not applying SDK defaults from location: /Library/Application Support/sagemaker/config.yaml\n",
      "sagemaker.config INFO - Not applying SDK defaults from location: /Users/elnath/Library/Application Support/sagemaker/config.yaml\n",
      "sagemaker.config INFO - Not applying SDK defaults from location: /Library/Application Support/sagemaker/config.yaml\n",
      "sagemaker.config INFO - Not applying SDK defaults from location: /Users/elnath/Library/Application Support/sagemaker/config.yaml\n"
     ]
    }
   ],
   "source": [
    "import os\n",
    "import sagemaker\n",
    "from sagemaker import get_execution_role\n",
    "\n",
    "sagemaker_session = sagemaker.Session()\n",
    "\n",
    "# role = get_execution_role()\n",
    "role =  conf.common.execution_role\n",
    "region = sagemaker_session.boto_session.region_name"
   ]
  },
  {
   "cell_type": "markdown",
   "metadata": {},
   "source": [
    "## Training Data\n",
    "\n",
    "The MNIST dataset has been loaded to the public S3 buckets ``sagemaker-sample-data-<REGION>`` under the prefix ``tensorflow/mnist``. There are four ``.npy`` file under this prefix:\n",
    "* ``train_data.npy``\n",
    "* ``eval_data.npy``\n",
    "* ``train_labels.npy``\n",
    "* ``eval_labels.npy``"
   ]
  },
  {
   "cell_type": "code",
   "execution_count": 3,
   "metadata": {
    "ExecuteTime": {
     "end_time": "2024-03-25T10:59:10.430424Z",
     "start_time": "2024-03-25T10:59:10.426736Z"
    }
   },
   "outputs": [],
   "source": [
    "training_data_uri = \"s3://sagemaker-sample-data-{}/tensorflow/mnist\".format(region)"
   ]
  },
  {
   "cell_type": "markdown",
   "metadata": {},
   "source": [
    "## Construct a script for distributed training\n",
    "\n",
    "This tutorial's training script was adapted from an earlier version of TensorFlow's official [CNN MNIST example](https://github.com/tensorflow/tensorflow/blob/95e808ba44075dfe0b7db57bb49d2e64a1977a95/tensorflow/examples/tutorials/layers/cnn_mnist.py). An updated version is available at [Convolutional Neural Network (CNN)](https://github.com/tensorflow/docs/blob/master/site/en/tutorials/images/cnn.ipynb). We have modified the example to handle the ``model_dir`` parameter passed in by SageMaker. This is an S3 path which can be used for data sharing during distributed training and checkpointing and/or model persistence. We have also added an argument-parsing function to handle processing training-related variables.\n",
    "\n",
    "At the end of the training job we have added a step to export the trained model to the path stored in the environment variable ``SM_MODEL_DIR``, which always points to ``/opt/ml/model``. This is critical because SageMaker uploads all the model artifacts in this folder to S3 at end of training.\n",
    "\n",
    "Here is the entire script:"
   ]
  },
  {
   "cell_type": "code",
   "execution_count": 4,
   "metadata": {
    "scrolled": false,
    "ExecuteTime": {
     "end_time": "2024-03-25T10:59:11.860844Z",
     "start_time": "2024-03-25T10:59:10.431213Z"
    }
   },
   "outputs": [
    {
     "name": "stdout",
     "output_type": "stream",
     "text": [
      "\u001B[37m# Copyright 2018-2019 Amazon.com, Inc. or its affiliates. All Rights Reserved.\u001B[39;49;00m\u001B[37m\u001B[39;49;00m\r\n",
      "\u001B[37m#\u001B[39;49;00m\u001B[37m\u001B[39;49;00m\r\n",
      "\u001B[37m# Licensed under the Apache License, Version 2.0 (the \"License\"). You\u001B[39;49;00m\u001B[37m\u001B[39;49;00m\r\n",
      "\u001B[37m# may not use this file except in compliance with the License. A copy of\u001B[39;49;00m\u001B[37m\u001B[39;49;00m\r\n",
      "\u001B[37m# the License is located at\u001B[39;49;00m\u001B[37m\u001B[39;49;00m\r\n",
      "\u001B[37m#\u001B[39;49;00m\u001B[37m\u001B[39;49;00m\r\n",
      "\u001B[37m#     http://aws.amazon.com/apache2.0/\u001B[39;49;00m\u001B[37m\u001B[39;49;00m\r\n",
      "\u001B[37m#\u001B[39;49;00m\u001B[37m\u001B[39;49;00m\r\n",
      "\u001B[37m# or in the \"license\" file accompanying this file. This file is\u001B[39;49;00m\u001B[37m\u001B[39;49;00m\r\n",
      "\u001B[37m# distributed on an \"AS IS\" BASIS, WITHOUT WARRANTIES OR CONDITIONS OF\u001B[39;49;00m\u001B[37m\u001B[39;49;00m\r\n",
      "\u001B[37m# ANY KIND, either express or implied. See the License for the specific\u001B[39;49;00m\u001B[37m\u001B[39;49;00m\r\n",
      "\u001B[37m# language governing permissions and limitations under the License.\u001B[39;49;00m\u001B[37m\u001B[39;49;00m\r\n",
      "\u001B[33m\"\"\"Convolutional Neural Network Estimator for MNIST, built with tf.layers.\"\"\"\u001B[39;49;00m\u001B[37m\u001B[39;49;00m\r\n",
      "\u001B[37m\u001B[39;49;00m\r\n",
      "\u001B[34mfrom\u001B[39;49;00m \u001B[04m\u001B[36m__future__\u001B[39;49;00m \u001B[34mimport\u001B[39;49;00m absolute_import, division, print_function\u001B[37m\u001B[39;49;00m\r\n",
      "\u001B[37m\u001B[39;49;00m\r\n",
      "\u001B[34mimport\u001B[39;49;00m \u001B[04m\u001B[36margparse\u001B[39;49;00m\u001B[37m\u001B[39;49;00m\r\n",
      "\u001B[34mimport\u001B[39;49;00m \u001B[04m\u001B[36mjson\u001B[39;49;00m\u001B[37m\u001B[39;49;00m\r\n",
      "\u001B[34mimport\u001B[39;49;00m \u001B[04m\u001B[36mlogging\u001B[39;49;00m \u001B[34mas\u001B[39;49;00m \u001B[04m\u001B[36m_logging\u001B[39;49;00m\u001B[37m\u001B[39;49;00m\r\n",
      "\u001B[34mimport\u001B[39;49;00m \u001B[04m\u001B[36mos\u001B[39;49;00m\u001B[37m\u001B[39;49;00m\r\n",
      "\u001B[34mimport\u001B[39;49;00m \u001B[04m\u001B[36msys\u001B[39;49;00m \u001B[34mas\u001B[39;49;00m \u001B[04m\u001B[36m_sys\u001B[39;49;00m\u001B[37m\u001B[39;49;00m\r\n",
      "\u001B[37m\u001B[39;49;00m\r\n",
      "\u001B[34mimport\u001B[39;49;00m \u001B[04m\u001B[36mnumpy\u001B[39;49;00m \u001B[34mas\u001B[39;49;00m \u001B[04m\u001B[36mnp\u001B[39;49;00m\u001B[37m\u001B[39;49;00m\r\n",
      "\u001B[34mimport\u001B[39;49;00m \u001B[04m\u001B[36mtensorflow\u001B[39;49;00m \u001B[34mas\u001B[39;49;00m \u001B[04m\u001B[36mtf\u001B[39;49;00m\u001B[37m\u001B[39;49;00m\r\n",
      "\u001B[34mfrom\u001B[39;49;00m \u001B[04m\u001B[36mtensorflow\u001B[39;49;00m\u001B[04m\u001B[36m.\u001B[39;49;00m\u001B[04m\u001B[36mpython\u001B[39;49;00m\u001B[04m\u001B[36m.\u001B[39;49;00m\u001B[04m\u001B[36mplatform\u001B[39;49;00m \u001B[34mimport\u001B[39;49;00m tf_logging\u001B[37m\u001B[39;49;00m\r\n",
      "\u001B[37m\u001B[39;49;00m\r\n",
      "\u001B[37m\u001B[39;49;00m\r\n",
      "\u001B[34mdef\u001B[39;49;00m \u001B[32mcnn_model_fn\u001B[39;49;00m(features, labels, mode):\u001B[37m\u001B[39;49;00m\r\n",
      "\u001B[37m    \u001B[39;49;00m\u001B[33m\"\"\"Model function for CNN.\"\"\"\u001B[39;49;00m\u001B[37m\u001B[39;49;00m\r\n",
      "    \u001B[37m# Input Layer\u001B[39;49;00m\u001B[37m\u001B[39;49;00m\r\n",
      "    \u001B[37m# Reshape X to 4-D tensor: [batch_size, width, height, channels]\u001B[39;49;00m\u001B[37m\u001B[39;49;00m\r\n",
      "    \u001B[37m# MNIST images are 28x28 pixels, and have one color channel\u001B[39;49;00m\u001B[37m\u001B[39;49;00m\r\n",
      "    input_layer = tf.reshape(features[\u001B[33m\"\u001B[39;49;00m\u001B[33mx\u001B[39;49;00m\u001B[33m\"\u001B[39;49;00m], [-\u001B[34m1\u001B[39;49;00m, \u001B[34m28\u001B[39;49;00m, \u001B[34m28\u001B[39;49;00m, \u001B[34m1\u001B[39;49;00m])\u001B[37m\u001B[39;49;00m\r\n",
      "\u001B[37m\u001B[39;49;00m\r\n",
      "    \u001B[37m# Convolutional Layer #1\u001B[39;49;00m\u001B[37m\u001B[39;49;00m\r\n",
      "    \u001B[37m# Computes 32 features using a 5x5 filter with ReLU activation.\u001B[39;49;00m\u001B[37m\u001B[39;49;00m\r\n",
      "    \u001B[37m# Padding is added to preserve width and height.\u001B[39;49;00m\u001B[37m\u001B[39;49;00m\r\n",
      "    \u001B[37m# Input Tensor Shape: [batch_size, 28, 28, 1]\u001B[39;49;00m\u001B[37m\u001B[39;49;00m\r\n",
      "    \u001B[37m# Output Tensor Shape: [batch_size, 28, 28, 32]\u001B[39;49;00m\u001B[37m\u001B[39;49;00m\r\n",
      "    conv1 = tf.layers.conv2d(\u001B[37m\u001B[39;49;00m\r\n",
      "        inputs=input_layer, filters=\u001B[34m32\u001B[39;49;00m, kernel_size=[\u001B[34m5\u001B[39;49;00m, \u001B[34m5\u001B[39;49;00m], padding=\u001B[33m\"\u001B[39;49;00m\u001B[33msame\u001B[39;49;00m\u001B[33m\"\u001B[39;49;00m, activation=tf.nn.relu\u001B[37m\u001B[39;49;00m\r\n",
      "    )\u001B[37m\u001B[39;49;00m\r\n",
      "\u001B[37m\u001B[39;49;00m\r\n",
      "    \u001B[37m# Pooling Layer #1\u001B[39;49;00m\u001B[37m\u001B[39;49;00m\r\n",
      "    \u001B[37m# First max pooling layer with a 2x2 filter and stride of 2\u001B[39;49;00m\u001B[37m\u001B[39;49;00m\r\n",
      "    \u001B[37m# Input Tensor Shape: [batch_size, 28, 28, 32]\u001B[39;49;00m\u001B[37m\u001B[39;49;00m\r\n",
      "    \u001B[37m# Output Tensor Shape: [batch_size, 14, 14, 32]\u001B[39;49;00m\u001B[37m\u001B[39;49;00m\r\n",
      "    pool1 = tf.layers.max_pooling2d(inputs=conv1, pool_size=[\u001B[34m2\u001B[39;49;00m, \u001B[34m2\u001B[39;49;00m], strides=\u001B[34m2\u001B[39;49;00m)\u001B[37m\u001B[39;49;00m\r\n",
      "\u001B[37m\u001B[39;49;00m\r\n",
      "    \u001B[37m# Convolutional Layer #2\u001B[39;49;00m\u001B[37m\u001B[39;49;00m\r\n",
      "    \u001B[37m# Computes 64 features using a 5x5 filter.\u001B[39;49;00m\u001B[37m\u001B[39;49;00m\r\n",
      "    \u001B[37m# Padding is added to preserve width and height.\u001B[39;49;00m\u001B[37m\u001B[39;49;00m\r\n",
      "    \u001B[37m# Input Tensor Shape: [batch_size, 14, 14, 32]\u001B[39;49;00m\u001B[37m\u001B[39;49;00m\r\n",
      "    \u001B[37m# Output Tensor Shape: [batch_size, 14, 14, 64]\u001B[39;49;00m\u001B[37m\u001B[39;49;00m\r\n",
      "    conv2 = tf.layers.conv2d(\u001B[37m\u001B[39;49;00m\r\n",
      "        inputs=pool1, filters=\u001B[34m64\u001B[39;49;00m, kernel_size=[\u001B[34m5\u001B[39;49;00m, \u001B[34m5\u001B[39;49;00m], padding=\u001B[33m\"\u001B[39;49;00m\u001B[33msame\u001B[39;49;00m\u001B[33m\"\u001B[39;49;00m, activation=tf.nn.relu\u001B[37m\u001B[39;49;00m\r\n",
      "    )\u001B[37m\u001B[39;49;00m\r\n",
      "\u001B[37m\u001B[39;49;00m\r\n",
      "    \u001B[37m# Pooling Layer #2\u001B[39;49;00m\u001B[37m\u001B[39;49;00m\r\n",
      "    \u001B[37m# Second max pooling layer with a 2x2 filter and stride of 2\u001B[39;49;00m\u001B[37m\u001B[39;49;00m\r\n",
      "    \u001B[37m# Input Tensor Shape: [batch_size, 14, 14, 64]\u001B[39;49;00m\u001B[37m\u001B[39;49;00m\r\n",
      "    \u001B[37m# Output Tensor Shape: [batch_size, 7, 7, 64]\u001B[39;49;00m\u001B[37m\u001B[39;49;00m\r\n",
      "    pool2 = tf.layers.max_pooling2d(inputs=conv2, pool_size=[\u001B[34m2\u001B[39;49;00m, \u001B[34m2\u001B[39;49;00m], strides=\u001B[34m2\u001B[39;49;00m)\u001B[37m\u001B[39;49;00m\r\n",
      "\u001B[37m\u001B[39;49;00m\r\n",
      "    \u001B[37m# Flatten tensor into a batch of vectors\u001B[39;49;00m\u001B[37m\u001B[39;49;00m\r\n",
      "    \u001B[37m# Input Tensor Shape: [batch_size, 7, 7, 64]\u001B[39;49;00m\u001B[37m\u001B[39;49;00m\r\n",
      "    \u001B[37m# Output Tensor Shape: [batch_size, 7 * 7 * 64]\u001B[39;49;00m\u001B[37m\u001B[39;49;00m\r\n",
      "    pool2_flat = tf.reshape(pool2, [-\u001B[34m1\u001B[39;49;00m, \u001B[34m7\u001B[39;49;00m * \u001B[34m7\u001B[39;49;00m * \u001B[34m64\u001B[39;49;00m])\u001B[37m\u001B[39;49;00m\r\n",
      "\u001B[37m\u001B[39;49;00m\r\n",
      "    \u001B[37m# Dense Layer\u001B[39;49;00m\u001B[37m\u001B[39;49;00m\r\n",
      "    \u001B[37m# Densely connected layer with 1024 neurons\u001B[39;49;00m\u001B[37m\u001B[39;49;00m\r\n",
      "    \u001B[37m# Input Tensor Shape: [batch_size, 7 * 7 * 64]\u001B[39;49;00m\u001B[37m\u001B[39;49;00m\r\n",
      "    \u001B[37m# Output Tensor Shape: [batch_size, 1024]\u001B[39;49;00m\u001B[37m\u001B[39;49;00m\r\n",
      "    dense = tf.layers.dense(inputs=pool2_flat, units=\u001B[34m1024\u001B[39;49;00m, activation=tf.nn.relu)\u001B[37m\u001B[39;49;00m\r\n",
      "\u001B[37m\u001B[39;49;00m\r\n",
      "    \u001B[37m# Add dropout operation; 0.6 probability that element will be kept\u001B[39;49;00m\u001B[37m\u001B[39;49;00m\r\n",
      "    dropout = tf.layers.dropout(\u001B[37m\u001B[39;49;00m\r\n",
      "        inputs=dense, rate=\u001B[34m0.4\u001B[39;49;00m, training=mode == tf.estimator.ModeKeys.TRAIN\u001B[37m\u001B[39;49;00m\r\n",
      "    )\u001B[37m\u001B[39;49;00m\r\n",
      "\u001B[37m\u001B[39;49;00m\r\n",
      "    \u001B[37m# Logits layer\u001B[39;49;00m\u001B[37m\u001B[39;49;00m\r\n",
      "    \u001B[37m# Input Tensor Shape: [batch_size, 1024]\u001B[39;49;00m\u001B[37m\u001B[39;49;00m\r\n",
      "    \u001B[37m# Output Tensor Shape: [batch_size, 10]\u001B[39;49;00m\u001B[37m\u001B[39;49;00m\r\n",
      "    logits = tf.layers.dense(inputs=dropout, units=\u001B[34m10\u001B[39;49;00m)\u001B[37m\u001B[39;49;00m\r\n",
      "\u001B[37m\u001B[39;49;00m\r\n",
      "    predictions = {\u001B[37m\u001B[39;49;00m\r\n",
      "        \u001B[37m# Generate predictions (for PREDICT and EVAL mode)\u001B[39;49;00m\u001B[37m\u001B[39;49;00m\r\n",
      "        \u001B[33m\"\u001B[39;49;00m\u001B[33mclasses\u001B[39;49;00m\u001B[33m\"\u001B[39;49;00m: tf.argmax(\u001B[36minput\u001B[39;49;00m=logits, axis=\u001B[34m1\u001B[39;49;00m),\u001B[37m\u001B[39;49;00m\r\n",
      "        \u001B[37m# Add `softmax_tensor` to the graph. It is used for PREDICT and by the\u001B[39;49;00m\u001B[37m\u001B[39;49;00m\r\n",
      "        \u001B[37m# `logging_hook`.\u001B[39;49;00m\u001B[37m\u001B[39;49;00m\r\n",
      "        \u001B[33m\"\u001B[39;49;00m\u001B[33mprobabilities\u001B[39;49;00m\u001B[33m\"\u001B[39;49;00m: tf.nn.softmax(logits, name=\u001B[33m\"\u001B[39;49;00m\u001B[33msoftmax_tensor\u001B[39;49;00m\u001B[33m\"\u001B[39;49;00m),\u001B[37m\u001B[39;49;00m\r\n",
      "    }\u001B[37m\u001B[39;49;00m\r\n",
      "    \u001B[34mif\u001B[39;49;00m mode == tf.estimator.ModeKeys.PREDICT:\u001B[37m\u001B[39;49;00m\r\n",
      "        \u001B[34mreturn\u001B[39;49;00m tf.estimator.EstimatorSpec(mode=mode, predictions=predictions)\u001B[37m\u001B[39;49;00m\r\n",
      "\u001B[37m\u001B[39;49;00m\r\n",
      "    \u001B[37m# Calculate Loss (for both TRAIN and EVAL modes)\u001B[39;49;00m\u001B[37m\u001B[39;49;00m\r\n",
      "    loss = tf.losses.sparse_softmax_cross_entropy(labels=labels, logits=logits)\u001B[37m\u001B[39;49;00m\r\n",
      "\u001B[37m\u001B[39;49;00m\r\n",
      "    \u001B[37m# Configure the Training Op (for TRAIN mode)\u001B[39;49;00m\u001B[37m\u001B[39;49;00m\r\n",
      "    \u001B[34mif\u001B[39;49;00m mode == tf.estimator.ModeKeys.TRAIN:\u001B[37m\u001B[39;49;00m\r\n",
      "        optimizer = tf.train.GradientDescentOptimizer(learning_rate=\u001B[34m0.001\u001B[39;49;00m)\u001B[37m\u001B[39;49;00m\r\n",
      "        train_op = optimizer.minimize(loss=loss, global_step=tf.train.get_global_step())\u001B[37m\u001B[39;49;00m\r\n",
      "        \u001B[34mreturn\u001B[39;49;00m tf.estimator.EstimatorSpec(mode=mode, loss=loss, train_op=train_op)\u001B[37m\u001B[39;49;00m\r\n",
      "\u001B[37m\u001B[39;49;00m\r\n",
      "    \u001B[37m# Add evaluation metrics (for EVAL mode)\u001B[39;49;00m\u001B[37m\u001B[39;49;00m\r\n",
      "    eval_metric_ops = {\u001B[37m\u001B[39;49;00m\r\n",
      "        \u001B[33m\"\u001B[39;49;00m\u001B[33maccuracy\u001B[39;49;00m\u001B[33m\"\u001B[39;49;00m: tf.metrics.accuracy(labels=labels, predictions=predictions[\u001B[33m\"\u001B[39;49;00m\u001B[33mclasses\u001B[39;49;00m\u001B[33m\"\u001B[39;49;00m])\u001B[37m\u001B[39;49;00m\r\n",
      "    }\u001B[37m\u001B[39;49;00m\r\n",
      "    \u001B[34mreturn\u001B[39;49;00m tf.estimator.EstimatorSpec(mode=mode, loss=loss, eval_metric_ops=eval_metric_ops)\u001B[37m\u001B[39;49;00m\r\n",
      "\u001B[37m\u001B[39;49;00m\r\n",
      "\u001B[37m\u001B[39;49;00m\r\n",
      "\u001B[34mdef\u001B[39;49;00m \u001B[32m_load_training_data\u001B[39;49;00m(base_dir):\u001B[37m\u001B[39;49;00m\r\n",
      "    x_train = np.load(os.path.join(base_dir, \u001B[33m\"\u001B[39;49;00m\u001B[33mtrain_data.npy\u001B[39;49;00m\u001B[33m\"\u001B[39;49;00m))\u001B[37m\u001B[39;49;00m\r\n",
      "    y_train = np.load(os.path.join(base_dir, \u001B[33m\"\u001B[39;49;00m\u001B[33mtrain_labels.npy\u001B[39;49;00m\u001B[33m\"\u001B[39;49;00m))\u001B[37m\u001B[39;49;00m\r\n",
      "    \u001B[34mreturn\u001B[39;49;00m x_train, y_train\u001B[37m\u001B[39;49;00m\r\n",
      "\u001B[37m\u001B[39;49;00m\r\n",
      "\u001B[37m\u001B[39;49;00m\r\n",
      "\u001B[34mdef\u001B[39;49;00m \u001B[32m_load_testing_data\u001B[39;49;00m(base_dir):\u001B[37m\u001B[39;49;00m\r\n",
      "    x_test = np.load(os.path.join(base_dir, \u001B[33m\"\u001B[39;49;00m\u001B[33meval_data.npy\u001B[39;49;00m\u001B[33m\"\u001B[39;49;00m))\u001B[37m\u001B[39;49;00m\r\n",
      "    y_test = np.load(os.path.join(base_dir, \u001B[33m\"\u001B[39;49;00m\u001B[33meval_labels.npy\u001B[39;49;00m\u001B[33m\"\u001B[39;49;00m))\u001B[37m\u001B[39;49;00m\r\n",
      "    \u001B[34mreturn\u001B[39;49;00m x_test, y_test\u001B[37m\u001B[39;49;00m\r\n",
      "\u001B[37m\u001B[39;49;00m\r\n",
      "\u001B[37m\u001B[39;49;00m\r\n",
      "\u001B[34mdef\u001B[39;49;00m \u001B[32m_parse_args\u001B[39;49;00m():\u001B[37m\u001B[39;49;00m\r\n",
      "\u001B[37m\u001B[39;49;00m\r\n",
      "    parser = argparse.ArgumentParser()\u001B[37m\u001B[39;49;00m\r\n",
      "\u001B[37m\u001B[39;49;00m\r\n",
      "    \u001B[37m# Data, model, and output directories\u001B[39;49;00m\u001B[37m\u001B[39;49;00m\r\n",
      "    \u001B[37m# model_dir is always passed in from SageMaker. By default this is a S3 path under the default bucket.\u001B[39;49;00m\u001B[37m\u001B[39;49;00m\r\n",
      "    parser.add_argument(\u001B[33m\"\u001B[39;49;00m\u001B[33m--model_dir\u001B[39;49;00m\u001B[33m\"\u001B[39;49;00m, \u001B[36mtype\u001B[39;49;00m=\u001B[36mstr\u001B[39;49;00m)\u001B[37m\u001B[39;49;00m\r\n",
      "    parser.add_argument(\u001B[33m\"\u001B[39;49;00m\u001B[33m--sm-model-dir\u001B[39;49;00m\u001B[33m\"\u001B[39;49;00m, \u001B[36mtype\u001B[39;49;00m=\u001B[36mstr\u001B[39;49;00m, default=os.environ.get(\u001B[33m\"\u001B[39;49;00m\u001B[33mSM_MODEL_DIR\u001B[39;49;00m\u001B[33m\"\u001B[39;49;00m))\u001B[37m\u001B[39;49;00m\r\n",
      "    parser.add_argument(\u001B[33m\"\u001B[39;49;00m\u001B[33m--train\u001B[39;49;00m\u001B[33m\"\u001B[39;49;00m, \u001B[36mtype\u001B[39;49;00m=\u001B[36mstr\u001B[39;49;00m, default=os.environ.get(\u001B[33m\"\u001B[39;49;00m\u001B[33mSM_CHANNEL_TRAINING\u001B[39;49;00m\u001B[33m\"\u001B[39;49;00m))\u001B[37m\u001B[39;49;00m\r\n",
      "    parser.add_argument(\u001B[33m\"\u001B[39;49;00m\u001B[33m--hosts\u001B[39;49;00m\u001B[33m\"\u001B[39;49;00m, \u001B[36mtype\u001B[39;49;00m=\u001B[36mlist\u001B[39;49;00m, default=json.loads(os.environ.get(\u001B[33m\"\u001B[39;49;00m\u001B[33mSM_HOSTS\u001B[39;49;00m\u001B[33m\"\u001B[39;49;00m)))\u001B[37m\u001B[39;49;00m\r\n",
      "    parser.add_argument(\u001B[33m\"\u001B[39;49;00m\u001B[33m--current-host\u001B[39;49;00m\u001B[33m\"\u001B[39;49;00m, \u001B[36mtype\u001B[39;49;00m=\u001B[36mstr\u001B[39;49;00m, default=os.environ.get(\u001B[33m\"\u001B[39;49;00m\u001B[33mSM_CURRENT_HOST\u001B[39;49;00m\u001B[33m\"\u001B[39;49;00m))\u001B[37m\u001B[39;49;00m\r\n",
      "\u001B[37m\u001B[39;49;00m\r\n",
      "    \u001B[34mreturn\u001B[39;49;00m parser.parse_known_args()\u001B[37m\u001B[39;49;00m\r\n",
      "\u001B[37m\u001B[39;49;00m\r\n",
      "\u001B[37m\u001B[39;49;00m\r\n",
      "\u001B[34mdef\u001B[39;49;00m \u001B[32mserving_input_fn\u001B[39;49;00m():\u001B[37m\u001B[39;49;00m\r\n",
      "    inputs = {\u001B[33m\"\u001B[39;49;00m\u001B[33mx\u001B[39;49;00m\u001B[33m\"\u001B[39;49;00m: tf.placeholder(tf.float32, [\u001B[34mNone\u001B[39;49;00m, \u001B[34m784\u001B[39;49;00m])}\u001B[37m\u001B[39;49;00m\r\n",
      "    \u001B[34mreturn\u001B[39;49;00m tf.estimator.export.ServingInputReceiver(inputs, inputs)\u001B[37m\u001B[39;49;00m\r\n",
      "\u001B[37m\u001B[39;49;00m\r\n",
      "\u001B[37m\u001B[39;49;00m\r\n",
      "\u001B[34mif\u001B[39;49;00m \u001B[31m__name__\u001B[39;49;00m == \u001B[33m\"\u001B[39;49;00m\u001B[33m__main__\u001B[39;49;00m\u001B[33m\"\u001B[39;49;00m:\u001B[37m\u001B[39;49;00m\r\n",
      "    args, unknown = _parse_args()\u001B[37m\u001B[39;49;00m\r\n",
      "\u001B[37m\u001B[39;49;00m\r\n",
      "    train_data, train_labels = _load_training_data(args.train)\u001B[37m\u001B[39;49;00m\r\n",
      "    eval_data, eval_labels = _load_testing_data(args.train)\u001B[37m\u001B[39;49;00m\r\n",
      "\u001B[37m\u001B[39;49;00m\r\n",
      "    \u001B[37m# Create the Estimator\u001B[39;49;00m\u001B[37m\u001B[39;49;00m\r\n",
      "    mnist_classifier = tf.estimator.Estimator(model_fn=cnn_model_fn, model_dir=args.model_dir)\u001B[37m\u001B[39;49;00m\r\n",
      "\u001B[37m\u001B[39;49;00m\r\n",
      "    \u001B[37m# Set up logging for predictions\u001B[39;49;00m\u001B[37m\u001B[39;49;00m\r\n",
      "    \u001B[37m# Log the values in the \"Softmax\" tensor with label \"probabilities\"\u001B[39;49;00m\u001B[37m\u001B[39;49;00m\r\n",
      "    tensors_to_log = {\u001B[33m\"\u001B[39;49;00m\u001B[33mprobabilities\u001B[39;49;00m\u001B[33m\"\u001B[39;49;00m: \u001B[33m\"\u001B[39;49;00m\u001B[33msoftmax_tensor\u001B[39;49;00m\u001B[33m\"\u001B[39;49;00m}\u001B[37m\u001B[39;49;00m\r\n",
      "    logging_hook = tf.train.LoggingTensorHook(tensors=tensors_to_log, every_n_iter=\u001B[34m50\u001B[39;49;00m)\u001B[37m\u001B[39;49;00m\r\n",
      "\u001B[37m\u001B[39;49;00m\r\n",
      "    \u001B[37m# Train the model\u001B[39;49;00m\u001B[37m\u001B[39;49;00m\r\n",
      "    train_input_fn = tf.estimator.inputs.numpy_input_fn(\u001B[37m\u001B[39;49;00m\r\n",
      "        x={\u001B[33m\"\u001B[39;49;00m\u001B[33mx\u001B[39;49;00m\u001B[33m\"\u001B[39;49;00m: train_data}, y=train_labels, batch_size=\u001B[34m100\u001B[39;49;00m, num_epochs=\u001B[34mNone\u001B[39;49;00m, shuffle=\u001B[34mTrue\u001B[39;49;00m\u001B[37m\u001B[39;49;00m\r\n",
      "    )\u001B[37m\u001B[39;49;00m\r\n",
      "\u001B[37m\u001B[39;49;00m\r\n",
      "    \u001B[37m# Evaluate the model and print results\u001B[39;49;00m\u001B[37m\u001B[39;49;00m\r\n",
      "    eval_input_fn = tf.estimator.inputs.numpy_input_fn(\u001B[37m\u001B[39;49;00m\r\n",
      "        x={\u001B[33m\"\u001B[39;49;00m\u001B[33mx\u001B[39;49;00m\u001B[33m\"\u001B[39;49;00m: eval_data}, y=eval_labels, num_epochs=\u001B[34m1\u001B[39;49;00m, shuffle=\u001B[34mFalse\u001B[39;49;00m\u001B[37m\u001B[39;49;00m\r\n",
      "    )\u001B[37m\u001B[39;49;00m\r\n",
      "\u001B[37m\u001B[39;49;00m\r\n",
      "    train_spec = tf.estimator.TrainSpec(train_input_fn, max_steps=\u001B[34m20000\u001B[39;49;00m)\u001B[37m\u001B[39;49;00m\r\n",
      "    eval_spec = tf.estimator.EvalSpec(eval_input_fn)\u001B[37m\u001B[39;49;00m\r\n",
      "    tf.estimator.train_and_evaluate(mnist_classifier, train_spec, eval_spec)\u001B[37m\u001B[39;49;00m\r\n",
      "\u001B[37m\u001B[39;49;00m\r\n",
      "    \u001B[34mif\u001B[39;49;00m args.current_host == args.hosts[\u001B[34m0\u001B[39;49;00m]:\u001B[37m\u001B[39;49;00m\r\n",
      "        mnist_classifier.export_savedmodel(args.sm_model_dir, serving_input_fn)\u001B[37m\u001B[39;49;00m\r\n",
      "\u001B[37m# Copyright 2019 Amazon.com, Inc. or its affiliates. All Rights Reserved.\u001B[39;49;00m\u001B[37m\u001B[39;49;00m\r\n",
      "\u001B[37m#\u001B[39;49;00m\u001B[37m\u001B[39;49;00m\r\n",
      "\u001B[37m# Licensed under the Apache License, Version 2.0 (the \"License\"). You\u001B[39;49;00m\u001B[37m\u001B[39;49;00m\r\n",
      "\u001B[37m# may not use this file except in compliance with the License. A copy of\u001B[39;49;00m\u001B[37m\u001B[39;49;00m\r\n",
      "\u001B[37m# the License is located at\u001B[39;49;00m\u001B[37m\u001B[39;49;00m\r\n",
      "\u001B[37m#\u001B[39;49;00m\u001B[37m\u001B[39;49;00m\r\n",
      "\u001B[37m#     http://aws.amazon.com/apache2.0/\u001B[39;49;00m\u001B[37m\u001B[39;49;00m\r\n",
      "\u001B[37m#\u001B[39;49;00m\u001B[37m\u001B[39;49;00m\r\n",
      "\u001B[37m# or in the \"license\" file accompanying this file. This file is\u001B[39;49;00m\u001B[37m\u001B[39;49;00m\r\n",
      "\u001B[37m# distributed on an \"AS IS\" BASIS, WITHOUT WARRANTIES OR CONDITIONS OF\u001B[39;49;00m\u001B[37m\u001B[39;49;00m\r\n",
      "\u001B[37m# ANY KIND, either express or implied. See the License for the specific\u001B[39;49;00m\u001B[37m\u001B[39;49;00m\r\n",
      "\u001B[37m# language governing permissions and limitations under the License.import tensorflow as tf\u001B[39;49;00m\u001B[37m\u001B[39;49;00m\r\n",
      "\u001B[37m\u001B[39;49;00m\r\n",
      "\u001B[34mimport\u001B[39;49;00m \u001B[04m\u001B[36margparse\u001B[39;49;00m\u001B[37m\u001B[39;49;00m\r\n",
      "\u001B[34mimport\u001B[39;49;00m \u001B[04m\u001B[36mjson\u001B[39;49;00m\u001B[37m\u001B[39;49;00m\r\n",
      "\u001B[34mimport\u001B[39;49;00m \u001B[04m\u001B[36mos\u001B[39;49;00m\u001B[37m\u001B[39;49;00m\r\n",
      "\u001B[37m\u001B[39;49;00m\r\n",
      "\u001B[34mimport\u001B[39;49;00m \u001B[04m\u001B[36mnumpy\u001B[39;49;00m \u001B[34mas\u001B[39;49;00m \u001B[04m\u001B[36mnp\u001B[39;49;00m\u001B[37m\u001B[39;49;00m\r\n",
      "\u001B[34mimport\u001B[39;49;00m \u001B[04m\u001B[36mtensorflow\u001B[39;49;00m \u001B[34mas\u001B[39;49;00m \u001B[04m\u001B[36mtf\u001B[39;49;00m\u001B[37m\u001B[39;49;00m\r\n",
      "\u001B[37m\u001B[39;49;00m\r\n",
      "\u001B[37m\u001B[39;49;00m\r\n",
      "\u001B[34mdef\u001B[39;49;00m \u001B[32mmodel\u001B[39;49;00m(x_train, y_train, x_test, y_test):\u001B[37m\u001B[39;49;00m\r\n",
      "\u001B[37m    \u001B[39;49;00m\u001B[33m\"\"\"Generate a simple model\"\"\"\u001B[39;49;00m\u001B[37m\u001B[39;49;00m\r\n",
      "    model = tf.keras.models.Sequential(\u001B[37m\u001B[39;49;00m\r\n",
      "        [\u001B[37m\u001B[39;49;00m\r\n",
      "            tf.keras.layers.Flatten(),\u001B[37m\u001B[39;49;00m\r\n",
      "            tf.keras.layers.Dense(\u001B[34m1024\u001B[39;49;00m, activation=tf.nn.relu),\u001B[37m\u001B[39;49;00m\r\n",
      "            tf.keras.layers.Dropout(\u001B[34m0.4\u001B[39;49;00m),\u001B[37m\u001B[39;49;00m\r\n",
      "            tf.keras.layers.Dense(\u001B[34m10\u001B[39;49;00m, activation=tf.nn.softmax),\u001B[37m\u001B[39;49;00m\r\n",
      "        ]\u001B[37m\u001B[39;49;00m\r\n",
      "    )\u001B[37m\u001B[39;49;00m\r\n",
      "\u001B[37m\u001B[39;49;00m\r\n",
      "    model.compile(optimizer=\u001B[33m\"\u001B[39;49;00m\u001B[33madam\u001B[39;49;00m\u001B[33m\"\u001B[39;49;00m, loss=\u001B[33m\"\u001B[39;49;00m\u001B[33msparse_categorical_crossentropy\u001B[39;49;00m\u001B[33m\"\u001B[39;49;00m, metrics=[\u001B[33m\"\u001B[39;49;00m\u001B[33maccuracy\u001B[39;49;00m\u001B[33m\"\u001B[39;49;00m])\u001B[37m\u001B[39;49;00m\r\n",
      "    model.fit(x_train, y_train)\u001B[37m\u001B[39;49;00m\r\n",
      "    model.evaluate(x_test, y_test)\u001B[37m\u001B[39;49;00m\r\n",
      "\u001B[37m\u001B[39;49;00m\r\n",
      "    \u001B[34mreturn\u001B[39;49;00m model\u001B[37m\u001B[39;49;00m\r\n",
      "\u001B[37m\u001B[39;49;00m\r\n",
      "\u001B[37m\u001B[39;49;00m\r\n",
      "\u001B[34mdef\u001B[39;49;00m \u001B[32m_load_training_data\u001B[39;49;00m(base_dir):\u001B[37m\u001B[39;49;00m\r\n",
      "\u001B[37m    \u001B[39;49;00m\u001B[33m\"\"\"Load MNIST training data\"\"\"\u001B[39;49;00m\u001B[37m\u001B[39;49;00m\r\n",
      "    x_train = np.load(os.path.join(base_dir, \u001B[33m\"\u001B[39;49;00m\u001B[33mtrain_data.npy\u001B[39;49;00m\u001B[33m\"\u001B[39;49;00m))\u001B[37m\u001B[39;49;00m\r\n",
      "    y_train = np.load(os.path.join(base_dir, \u001B[33m\"\u001B[39;49;00m\u001B[33mtrain_labels.npy\u001B[39;49;00m\u001B[33m\"\u001B[39;49;00m))\u001B[37m\u001B[39;49;00m\r\n",
      "    \u001B[34mreturn\u001B[39;49;00m x_train, y_train\u001B[37m\u001B[39;49;00m\r\n",
      "\u001B[37m\u001B[39;49;00m\r\n",
      "\u001B[37m\u001B[39;49;00m\r\n",
      "\u001B[34mdef\u001B[39;49;00m \u001B[32m_load_testing_data\u001B[39;49;00m(base_dir):\u001B[37m\u001B[39;49;00m\r\n",
      "\u001B[37m    \u001B[39;49;00m\u001B[33m\"\"\"Load MNIST testing data\"\"\"\u001B[39;49;00m\u001B[37m\u001B[39;49;00m\r\n",
      "    x_test = np.load(os.path.join(base_dir, \u001B[33m\"\u001B[39;49;00m\u001B[33meval_data.npy\u001B[39;49;00m\u001B[33m\"\u001B[39;49;00m))\u001B[37m\u001B[39;49;00m\r\n",
      "    y_test = np.load(os.path.join(base_dir, \u001B[33m\"\u001B[39;49;00m\u001B[33meval_labels.npy\u001B[39;49;00m\u001B[33m\"\u001B[39;49;00m))\u001B[37m\u001B[39;49;00m\r\n",
      "    \u001B[34mreturn\u001B[39;49;00m x_test, y_test\u001B[37m\u001B[39;49;00m\r\n",
      "\u001B[37m\u001B[39;49;00m\r\n",
      "\u001B[37m\u001B[39;49;00m\r\n",
      "\u001B[34mdef\u001B[39;49;00m \u001B[32m_parse_args\u001B[39;49;00m():\u001B[37m\u001B[39;49;00m\r\n",
      "    parser = argparse.ArgumentParser()\u001B[37m\u001B[39;49;00m\r\n",
      "\u001B[37m\u001B[39;49;00m\r\n",
      "    \u001B[37m# Data, model, and output directories\u001B[39;49;00m\u001B[37m\u001B[39;49;00m\r\n",
      "    \u001B[37m# model_dir is always passed in from SageMaker. By default this is a S3 path under the default bucket.\u001B[39;49;00m\u001B[37m\u001B[39;49;00m\r\n",
      "    parser.add_argument(\u001B[33m\"\u001B[39;49;00m\u001B[33m--model_dir\u001B[39;49;00m\u001B[33m\"\u001B[39;49;00m, \u001B[36mtype\u001B[39;49;00m=\u001B[36mstr\u001B[39;49;00m)\u001B[37m\u001B[39;49;00m\r\n",
      "    parser.add_argument(\u001B[33m\"\u001B[39;49;00m\u001B[33m--sm-model-dir\u001B[39;49;00m\u001B[33m\"\u001B[39;49;00m, \u001B[36mtype\u001B[39;49;00m=\u001B[36mstr\u001B[39;49;00m, default=os.environ.get(\u001B[33m\"\u001B[39;49;00m\u001B[33mSM_MODEL_DIR\u001B[39;49;00m\u001B[33m\"\u001B[39;49;00m))\u001B[37m\u001B[39;49;00m\r\n",
      "    parser.add_argument(\u001B[33m\"\u001B[39;49;00m\u001B[33m--train\u001B[39;49;00m\u001B[33m\"\u001B[39;49;00m, \u001B[36mtype\u001B[39;49;00m=\u001B[36mstr\u001B[39;49;00m, default=os.environ.get(\u001B[33m\"\u001B[39;49;00m\u001B[33mSM_CHANNEL_TRAINING\u001B[39;49;00m\u001B[33m\"\u001B[39;49;00m))\u001B[37m\u001B[39;49;00m\r\n",
      "    parser.add_argument(\u001B[33m\"\u001B[39;49;00m\u001B[33m--hosts\u001B[39;49;00m\u001B[33m\"\u001B[39;49;00m, \u001B[36mtype\u001B[39;49;00m=\u001B[36mlist\u001B[39;49;00m, default=json.loads(os.environ.get(\u001B[33m\"\u001B[39;49;00m\u001B[33mSM_HOSTS\u001B[39;49;00m\u001B[33m\"\u001B[39;49;00m)))\u001B[37m\u001B[39;49;00m\r\n",
      "    parser.add_argument(\u001B[33m\"\u001B[39;49;00m\u001B[33m--current-host\u001B[39;49;00m\u001B[33m\"\u001B[39;49;00m, \u001B[36mtype\u001B[39;49;00m=\u001B[36mstr\u001B[39;49;00m, default=os.environ.get(\u001B[33m\"\u001B[39;49;00m\u001B[33mSM_CURRENT_HOST\u001B[39;49;00m\u001B[33m\"\u001B[39;49;00m))\u001B[37m\u001B[39;49;00m\r\n",
      "\u001B[37m\u001B[39;49;00m\r\n",
      "    \u001B[34mreturn\u001B[39;49;00m parser.parse_known_args()\u001B[37m\u001B[39;49;00m\r\n",
      "\u001B[37m\u001B[39;49;00m\r\n",
      "\u001B[37m\u001B[39;49;00m\r\n",
      "\u001B[34mif\u001B[39;49;00m \u001B[31m__name__\u001B[39;49;00m == \u001B[33m\"\u001B[39;49;00m\u001B[33m__main__\u001B[39;49;00m\u001B[33m\"\u001B[39;49;00m:\u001B[37m\u001B[39;49;00m\r\n",
      "    args, unknown = _parse_args()\u001B[37m\u001B[39;49;00m\r\n",
      "\u001B[37m\u001B[39;49;00m\r\n",
      "    train_data, train_labels = _load_training_data(args.train)\u001B[37m\u001B[39;49;00m\r\n",
      "    eval_data, eval_labels = _load_testing_data(args.train)\u001B[37m\u001B[39;49;00m\r\n",
      "\u001B[37m\u001B[39;49;00m\r\n",
      "    mnist_classifier = model(train_data, train_labels, eval_data, eval_labels)\u001B[37m\u001B[39;49;00m\r\n",
      "\u001B[37m\u001B[39;49;00m\r\n",
      "    \u001B[34mif\u001B[39;49;00m args.current_host == args.hosts[\u001B[34m0\u001B[39;49;00m]:\u001B[37m\u001B[39;49;00m\r\n",
      "        \u001B[37m# save model to an S3 directory with version number '00000001' in Tensorflow SavedModel Format\u001B[39;49;00m\u001B[37m\u001B[39;49;00m\r\n",
      "        \u001B[37m# To export the model as h5 format use model.save('my_model.h5')\u001B[39;49;00m\u001B[37m\u001B[39;49;00m\r\n",
      "        mnist_classifier.save(os.path.join(args.sm_model_dir, \u001B[33m\"\u001B[39;49;00m\u001B[33m000000001\u001B[39;49;00m\u001B[33m\"\u001B[39;49;00m))\u001B[37m\u001B[39;49;00m\r\n"
     ]
    }
   ],
   "source": [
    "!pygmentize 'mnist.py'\n",
    "\n",
    "# TensorFlow 2.1 script\n",
    "!pygmentize 'mnist-2.py'"
   ]
  },
  {
   "cell_type": "markdown",
   "metadata": {},
   "source": [
    "## Create a training job using the `TensorFlow` estimator\n",
    "\n",
    "The `sagemaker.tensorflow.TensorFlow` estimator handles locating the script mode container, uploading your script to a S3 location and creating a SageMaker training job. Let's call out a couple important parameters here:\n",
    "\n",
    "* `py_version` is set to `'py3'` to indicate that we are using script mode since legacy mode supports only Python 2. Though Python 2 will be deprecated soon, you can use script mode with Python 2 by setting `py_version` to `'py2'` and `script_mode` to `True`.\n",
    "\n",
    "* `distributions` is used to configure the distributed training setup. It's required only if you are doing distributed training either across a cluster of instances or across multiple GPUs. Here we are using parameter servers as the distributed training schema. SageMaker training jobs run on homogeneous clusters. To make parameter server more performant in the SageMaker setup, we run a parameter server on every instance in the cluster, so there is no need to specify the number of parameter servers to launch. Script mode also supports distributed training with [Horovod](https://github.com/horovod/horovod). You can find the full documentation on how to configure `distributions` [here](https://github.com/aws/sagemaker-python-sdk/tree/master/src/sagemaker/tensorflow#distributed-training). \n",
    "\n"
   ]
  },
  {
   "cell_type": "code",
   "execution_count": 5,
   "metadata": {
    "scrolled": false,
    "ExecuteTime": {
     "end_time": "2024-03-25T10:59:11.881426Z",
     "start_time": "2024-03-25T10:59:11.860154Z"
    }
   },
   "outputs": [],
   "source": [
    "from sagemaker.tensorflow import TensorFlow\n",
    "\n",
    "# \n",
    "# mnist_estimator = TensorFlow(\n",
    "#     entry_point=\"mnist.py\",\n",
    "#     role=role,\n",
    "#     instance_count=2,\n",
    "#     instance_type=\"ml.p3.2xlarge\",\n",
    "#     framework_version=\"1.15.2\",\n",
    "#     py_version=\"py3\",\n",
    "#     distribution={\"parameter_server\": {\"enabled\": True}},\n",
    "# )"
   ]
  },
  {
   "cell_type": "markdown",
   "metadata": {},
   "source": [
    "You can also initiate an estimator to train with TensorFlow 2.1 script. The only things that you will need to change are the script name and ``framework_version``"
   ]
  },
  {
   "cell_type": "code",
   "execution_count": 9,
   "metadata": {
    "scrolled": false,
    "ExecuteTime": {
     "end_time": "2024-03-25T11:00:05.213096Z",
     "start_time": "2024-03-25T11:00:05.071185Z"
    }
   },
   "outputs": [
    {
     "name": "stdout",
     "output_type": "stream",
     "text": [
      "sagemaker.config INFO - Not applying SDK defaults from location: /Library/Application Support/sagemaker/config.yaml\n",
      "sagemaker.config INFO - Not applying SDK defaults from location: /Users/elnath/Library/Application Support/sagemaker/config.yaml\n"
     ]
    }
   ],
   "source": [
    "mnist_estimator2 = TensorFlow(\n",
    "    entry_point=\"mnist-2.py\",\n",
    "    role=role,\n",
    "    instance_count=1,\n",
    "    instance_type=\"ml.p3.2xlarge\",\n",
    "    framework_version=\"2.1.0\",\n",
    "    py_version=\"py3\",\n",
    "    distribution={\"parameter_server\": {\"enabled\": True}},\n",
    ")"
   ]
  },
  {
   "cell_type": "markdown",
   "metadata": {},
   "source": [
    "## Calling ``fit``\n",
    "\n",
    "To start a training job, we call `estimator.fit(training_data_uri)`.\n",
    "\n",
    "An S3 location is used here as the input. `fit` creates a default channel named `'training'`, which points to this S3 location. In the training script we can then access the training data from the location stored in `SM_CHANNEL_TRAINING`. `fit` accepts a couple other types of input as well. See the API doc [here](https://sagemaker.readthedocs.io/en/stable/estimators.html#sagemaker.estimator.EstimatorBase.fit) for details.\n",
    "\n",
    "When training starts, the TensorFlow container executes mnist.py, passing `hyperparameters` and `model_dir` from the estimator as script arguments. Because we didn't define either in this example, no hyperparameters are passed, and `model_dir` defaults to `s3://<DEFAULT_BUCKET>/<TRAINING_JOB_NAME>`, so the script execution is as follows:\n",
    "```bash\n",
    "python mnist.py --model_dir s3://<DEFAULT_BUCKET>/<TRAINING_JOB_NAME>\n",
    "```\n",
    "When training is complete, the training job will upload the saved model for TensorFlow serving."
   ]
  },
  {
   "cell_type": "code",
   "execution_count": 10,
   "metadata": {
    "scrolled": false,
    "ExecuteTime": {
     "end_time": "2024-03-25T11:00:06.142054Z",
     "start_time": "2024-03-25T11:00:06.134385Z"
    }
   },
   "outputs": [],
   "source": [
    "# mnist_estimator.fit(training_data_uri)"
   ]
  },
  {
   "cell_type": "markdown",
   "metadata": {},
   "source": [
    "Calling fit to train a model with TensorFlow 2.1 script."
   ]
  },
  {
   "cell_type": "code",
   "execution_count": 11,
   "metadata": {
    "scrolled": false,
    "ExecuteTime": {
     "end_time": "2024-03-25T11:04:54.132920Z",
     "start_time": "2024-03-25T11:00:09.141912Z"
    }
   },
   "outputs": [
    {
     "name": "stderr",
     "output_type": "stream",
     "text": [
      "INFO:sagemaker.image_uris:image_uri is not presented, retrieving image_uri based on instance_type, framework etc.\n",
      "INFO:sagemaker:Amazon SageMaker Debugger does not currently support Parameter Server distribution\n",
      "INFO:sagemaker:Amazon SageMaker Debugger does not currently support Parameter Server distribution\n",
      "INFO:sagemaker.image_uris:image_uri is not presented, retrieving image_uri based on instance_type, framework etc.\n",
      "INFO:sagemaker:Creating training-job with name: tensorflow-training-2024-03-25-11-00-09-157\n"
     ]
    },
    {
     "name": "stdout",
     "output_type": "stream",
     "text": [
      "Using provided s3_resource\n",
      "2024-03-25 11:00:10 Starting - Starting the training job\n",
      "2024-03-25 11:00:10 Pending - Training job waiting for capacity......\n",
      "2024-03-25 11:00:52 Pending - Preparing the instances for training......\n",
      "2024-03-25 11:01:57 Downloading - Downloading input data...\n",
      "2024-03-25 11:02:28 Downloading - Downloading the training image......\n",
      "2024-03-25 11:03:28 Training - Training image download completed. Training in progress....\n",
      "2024-03-25 11:04:09 Uploading - Uploading generated training model\u001B[34m2024-03-25 11:03:54,672 sagemaker-containers INFO     Imported framework sagemaker_tensorflow_container.training\u001B[0m\n",
      "\u001B[34m2024-03-25 11:03:55,049 sagemaker-containers INFO     Invoking user script\u001B[0m\n",
      "\u001B[34mTraining Env:\u001B[0m\n",
      "\u001B[34m{\n",
      "    \"additional_framework_parameters\": {\n",
      "        \"sagemaker_parameter_server_enabled\": true\n",
      "    },\n",
      "    \"channel_input_dirs\": {\n",
      "        \"training\": \"/opt/ml/input/data/training\"\n",
      "    },\n",
      "    \"current_host\": \"algo-1\",\n",
      "    \"framework_module\": \"sagemaker_tensorflow_container.training:main\",\n",
      "    \"hosts\": [\n",
      "        \"algo-1\"\n",
      "    ],\n",
      "    \"hyperparameters\": {\n",
      "        \"model_dir\": \"s3://sagemaker-ap-northeast-2-688554574862/tensorflow-training-2024-03-25-11-00-09-157/model\"\n",
      "    },\n",
      "    \"input_config_dir\": \"/opt/ml/input/config\",\n",
      "    \"input_data_config\": {\n",
      "        \"training\": {\n",
      "            \"TrainingInputMode\": \"File\",\n",
      "            \"S3DistributionType\": \"FullyReplicated\",\n",
      "            \"RecordWrapperType\": \"None\"\n",
      "        }\n",
      "    },\n",
      "    \"input_dir\": \"/opt/ml/input\",\n",
      "    \"is_master\": true,\n",
      "    \"job_name\": \"tensorflow-training-2024-03-25-11-00-09-157\",\n",
      "    \"log_level\": 20,\n",
      "    \"master_hostname\": \"algo-1\",\n",
      "    \"model_dir\": \"/opt/ml/model\",\n",
      "    \"module_dir\": \"s3://sagemaker-ap-northeast-2-688554574862/tensorflow-training-2024-03-25-11-00-09-157/source/sourcedir.tar.gz\",\n",
      "    \"module_name\": \"mnist-2\",\n",
      "    \"network_interface_name\": \"eth0\",\n",
      "    \"num_cpus\": 8,\n",
      "    \"num_gpus\": 1,\n",
      "    \"output_data_dir\": \"/opt/ml/output/data\",\n",
      "    \"output_dir\": \"/opt/ml/output\",\n",
      "    \"output_intermediate_dir\": \"/opt/ml/output/intermediate\",\n",
      "    \"resource_config\": {\n",
      "        \"current_host\": \"algo-1\",\n",
      "        \"current_instance_type\": \"ml.p3.2xlarge\",\n",
      "        \"current_group_name\": \"homogeneousCluster\",\n",
      "        \"hosts\": [\n",
      "            \"algo-1\"\n",
      "        ],\n",
      "        \"instance_groups\": [\n",
      "            {\n",
      "                \"instance_group_name\": \"homogeneousCluster\",\n",
      "                \"instance_type\": \"ml.p3.2xlarge\",\n",
      "                \"hosts\": [\n",
      "                    \"algo-1\"\n",
      "                ]\n",
      "            }\n",
      "        ],\n",
      "        \"network_interface_name\": \"eth0\"\n",
      "    },\n",
      "    \"user_entry_point\": \"mnist-2.py\"\u001B[0m\n",
      "\u001B[34m}\u001B[0m\n",
      "\u001B[34mEnvironment variables:\u001B[0m\n",
      "\u001B[34mSM_HOSTS=[\"algo-1\"]\u001B[0m\n",
      "\u001B[34mSM_NETWORK_INTERFACE_NAME=eth0\u001B[0m\n",
      "\u001B[34mSM_HPS={\"model_dir\":\"s3://sagemaker-ap-northeast-2-688554574862/tensorflow-training-2024-03-25-11-00-09-157/model\"}\u001B[0m\n",
      "\u001B[34mSM_USER_ENTRY_POINT=mnist-2.py\u001B[0m\n",
      "\u001B[34mSM_FRAMEWORK_PARAMS={\"sagemaker_parameter_server_enabled\":true}\u001B[0m\n",
      "\u001B[34mSM_RESOURCE_CONFIG={\"current_group_name\":\"homogeneousCluster\",\"current_host\":\"algo-1\",\"current_instance_type\":\"ml.p3.2xlarge\",\"hosts\":[\"algo-1\"],\"instance_groups\":[{\"hosts\":[\"algo-1\"],\"instance_group_name\":\"homogeneousCluster\",\"instance_type\":\"ml.p3.2xlarge\"}],\"network_interface_name\":\"eth0\"}\u001B[0m\n",
      "\u001B[34mSM_INPUT_DATA_CONFIG={\"training\":{\"RecordWrapperType\":\"None\",\"S3DistributionType\":\"FullyReplicated\",\"TrainingInputMode\":\"File\"}}\u001B[0m\n",
      "\u001B[34mSM_OUTPUT_DATA_DIR=/opt/ml/output/data\u001B[0m\n",
      "\u001B[34mSM_CHANNELS=[\"training\"]\u001B[0m\n",
      "\u001B[34mSM_CURRENT_HOST=algo-1\u001B[0m\n",
      "\u001B[34mSM_MODULE_NAME=mnist-2\u001B[0m\n",
      "\u001B[34mSM_LOG_LEVEL=20\u001B[0m\n",
      "\u001B[34mSM_FRAMEWORK_MODULE=sagemaker_tensorflow_container.training:main\u001B[0m\n",
      "\u001B[34mSM_INPUT_DIR=/opt/ml/input\u001B[0m\n",
      "\u001B[34mSM_INPUT_CONFIG_DIR=/opt/ml/input/config\u001B[0m\n",
      "\u001B[34mSM_OUTPUT_DIR=/opt/ml/output\u001B[0m\n",
      "\u001B[34mSM_NUM_CPUS=8\u001B[0m\n",
      "\u001B[34mSM_NUM_GPUS=1\u001B[0m\n",
      "\u001B[34mSM_MODEL_DIR=/opt/ml/model\u001B[0m\n",
      "\u001B[34mSM_MODULE_DIR=s3://sagemaker-ap-northeast-2-688554574862/tensorflow-training-2024-03-25-11-00-09-157/source/sourcedir.tar.gz\u001B[0m\n",
      "\u001B[34mSM_TRAINING_ENV={\"additional_framework_parameters\":{\"sagemaker_parameter_server_enabled\":true},\"channel_input_dirs\":{\"training\":\"/opt/ml/input/data/training\"},\"current_host\":\"algo-1\",\"framework_module\":\"sagemaker_tensorflow_container.training:main\",\"hosts\":[\"algo-1\"],\"hyperparameters\":{\"model_dir\":\"s3://sagemaker-ap-northeast-2-688554574862/tensorflow-training-2024-03-25-11-00-09-157/model\"},\"input_config_dir\":\"/opt/ml/input/config\",\"input_data_config\":{\"training\":{\"RecordWrapperType\":\"None\",\"S3DistributionType\":\"FullyReplicated\",\"TrainingInputMode\":\"File\"}},\"input_dir\":\"/opt/ml/input\",\"is_master\":true,\"job_name\":\"tensorflow-training-2024-03-25-11-00-09-157\",\"log_level\":20,\"master_hostname\":\"algo-1\",\"model_dir\":\"/opt/ml/model\",\"module_dir\":\"s3://sagemaker-ap-northeast-2-688554574862/tensorflow-training-2024-03-25-11-00-09-157/source/sourcedir.tar.gz\",\"module_name\":\"mnist-2\",\"network_interface_name\":\"eth0\",\"num_cpus\":8,\"num_gpus\":1,\"output_data_dir\":\"/opt/ml/output/data\",\"output_dir\":\"/opt/ml/output\",\"output_intermediate_dir\":\"/opt/ml/output/intermediate\",\"resource_config\":{\"current_group_name\":\"homogeneousCluster\",\"current_host\":\"algo-1\",\"current_instance_type\":\"ml.p3.2xlarge\",\"hosts\":[\"algo-1\"],\"instance_groups\":[{\"hosts\":[\"algo-1\"],\"instance_group_name\":\"homogeneousCluster\",\"instance_type\":\"ml.p3.2xlarge\"}],\"network_interface_name\":\"eth0\"},\"user_entry_point\":\"mnist-2.py\"}\u001B[0m\n",
      "\u001B[34mSM_USER_ARGS=[\"--model_dir\",\"s3://sagemaker-ap-northeast-2-688554574862/tensorflow-training-2024-03-25-11-00-09-157/model\"]\u001B[0m\n",
      "\u001B[34mSM_OUTPUT_INTERMEDIATE_DIR=/opt/ml/output/intermediate\u001B[0m\n",
      "\u001B[34mSM_CHANNEL_TRAINING=/opt/ml/input/data/training\u001B[0m\n",
      "\u001B[34mSM_HP_MODEL_DIR=s3://sagemaker-ap-northeast-2-688554574862/tensorflow-training-2024-03-25-11-00-09-157/model\u001B[0m\n",
      "\u001B[34mPYTHONPATH=/opt/ml/code:/usr/local/bin:/usr/lib/python36.zip:/usr/lib/python3.6:/usr/lib/python3.6/lib-dynload:/usr/local/lib/python3.6/dist-packages:/usr/lib/python3/dist-packages\u001B[0m\n",
      "\u001B[34mInvoking script with the following command:\u001B[0m\n",
      "\u001B[34m/usr/bin/python3 mnist-2.py --model_dir s3://sagemaker-ap-northeast-2-688554574862/tensorflow-training-2024-03-25-11-00-09-157/model\u001B[0m\n",
      "\u001B[34mTrain on 55000 samples\u001B[0m\n",
      "\u001B[34m#015   32/55000 [..............................] - ETA: 16:17 - loss: 2.4541 - accuracy: 0.0625#010#010#010#010#010#010#010#010#010#010#010#010#010#010#010#010#010#010#010#010#010#010#010#010#010#010#010#010#010#010#010#010#010#010#010#010#010#010#010#010#010#010#010#010#010#010#010#010#010#010#010#010#010#010#010#010#010#010#010#010#010#010#010#010#010#010#010#010#010#010#010#010#010#010#010#010#010#010#010#010#010#010#010#010#010#010#010#010#010#010#010#015  736/55000 [..............................] - ETA: 45s - loss: 1.3019 - accuracy: 0.6033  #010#010#010#010#010#010#010#010#010#010#010#010#010#010#010#010#010#010#010#010#010#010#010#010#010#010#010#010#010#010#010#010#010#010#010#010#010#010#010#010#010#010#010#010#010#010#010#010#010#010#010#010#010#010#010#010#010#010#010#010#010#010#010#010#010#010#010#010#010#010#010#010#010#010#010#010#010#010#010#010#010#010#010#010#010#010#010#010#010#015 1472/55000 [..............................] - ETA: 24s - loss: 0.9420 - accuracy: 0.7099#010#010#010#010#010#010#010#010#010#010#010#010#010#010#010#010#010#010#010#010#010#010#010#010#010#010#010#010#010#010#010#010#010#010#010#010#010#010#010#010#010#010#010#010#010#010#010#010#010#010#010#010#010#010#010#010#010#010#010#010#010#010#010#010#010#010#010#010#010#010#010#010#010#010#010#010#010#010#010#010#010#010#010#010#010#010#010#010#010#015 2208/55000 [>.............................] - ETA: 17s - loss: 0.7846 - accuracy: 0.7514#010#010#010#010#010#010#010#010#010#010#010#010#010#010#010#010#010#010#010#010#010#010#010#010#010#010#010#010#010#010#010#010#010#010#010#010#010#010#010#010#010#010#010#010#010#010#010#010#010#010#010#010#010#010#010#010#010#010#010#010#010#010#010#010#010#010#010#010#010#010#010#010#010#010#010#010#010#010#010#010#010#010#010#010#010#010#010#010#010#015 2944/55000 [>.............................] - ETA: 13s - loss: 0.6949 - accuracy: 0.7826#010#010#010#010#010#010#010#010#010#010#010#010#010#010#010#010#010#010#010#010#010#010#010#010#010#010#010#010#010#010#010#010#010#010#010#010#010#010#010#010#010#010#010#010#010#010#010#010#010#010#010#010#010#010#010#010#010#010#010#010#010#010#010#010#010#010#010#010#010#010#010#010#010#010#010#010#010#010#010#010#010#010#010#010#010#010#010#010#010#015 3680/55000 [=>............................] - ETA: 11s - loss: 0.6383 - accuracy: 0.8022#010#010#010#010#010#010#010#010#010#010#010#010#010#010#010#010#010#010#010#010#010#010#010#010#010#010#010#010#010#010#010#010#010#010#010#010#010#010#010#010#010#010#010#010#010#010#010#010#010#010#010#010#010#010#010#010#010#010#010#010#010#010#010#010#010#010#010#010#010#010#010#010#010#010#010#010#010#010#010#010#010#010#010#010#010#010#010#010#010#015 4416/55000 [=>............................] - ETA: 10s - loss: 0.6055 - accuracy: 0.8109#010#010#010#010#010#010#010#010#010#010#010#010#010#010#010#010#010#010#010#010#010#010#010#010#010#010#010#010#010#010#010#010#010#010#010#010#010#010#010#010#010#010#010#010#010#010#010#010#010#010#010#010#010#010#010#010#010#010#010#010#010#010#010#010#010#010#010#010#010#010#010#010#010#010#010#010#010#010#010#010#010#010#010#010#010#010#010#010#010#015 5152/55000 [=>............................] - ETA: 8s - loss: 0.5755 - accuracy: 0.8193 #010#010#010#010#010#010#010#010#010#010#010#010#010#010#010#010#010#010#010#010#010#010#010#010#010#010#010#010#010#010#010#010#010#010#010#010#010#010#010#010#010#010#010#010#010#010#010#010#010#010#010#010#010#010#010#010#010#010#010#010#010#010#010#010#010#010#010#010#010#010#010#010#010#010#010#010#010#010#010#010#010#010#010#010#010#010#010#010#015 5888/55000 [==>...........................] - ETA: 8s - loss: 0.5480 - accuracy: 0.8307#010#010#010#010#010#010#010#010#010#010#010#010#010#010#010#010#010#010#010#010#010#010#010#010#010#010#010#010#010#010#010#010#010#010#010#010#010#010#010#010#010#010#010#010#010#010#010#010#010#010#010#010#010#010#010#010#010#010#010#010#010#010#010#010#010#010#010#010#010#010#010#010#010#010#010#010#010#010#010#010#010#010#010#010#010#010#010#010#015 6624/55000 [==>...........................] - ETA: 7s - loss: 0.5179 - accuracy: 0.8403#010#010#010#010#010#010#010#010#010#010#010#010#010#010#010#010#010#010#010#010#010#010#010#010#010#010#010#010#010#010#010#010#010#010#010#010#010#010#010#010#010#010#010#010#010#010#010#010#010#010#010#010#010#010#010#010#010#010#010#010#010#010#010#010#010#010#010#010#010#010#010#010#010#010#010#010#010#010#010#010#010#010#010#010#010#010#010#010#015 7360/55000 [===>..........................] - ETA: 6s - loss: 0.4988 - accuracy: 0.8466#010#010#010#010#010#010#010#010#010#010#010#010#010#010#010#010#010#010#010#010#010#010#010#010#010#010#010#010#010#010#010#010#010#010#010#010#010#010#010#010#010#010#010#010#010#010#010#010#010#010#010#010#010#010#010#010#010#010#010#010#010#010#010#010#010#010#010#010#010#010#010#010#010#010#010#010#010#010#010#010#010#010#010#010#010#010#010#010#015 8096/55000 [===>..........................] - ETA: 6s - loss: 0.4828 - accuracy: 0.8528#010#010#010#010#010#010#010#010#010#010#010#010#010#010#010#010#010#010#010#010#010#010#010#010#010#010#010#010#010#010#010#010#010#010#010#010#010#010#010#010#010#010#010#010#010#010#010#010#010#010#010#010#010#010#010#010#010#010#010#010#010#010#010#010#010#010#010#010#010#010#010#010#010#010#010#010#010#010#010#010#010#010#010#010#010#010#010#010#015 8832/55000 [===>..........................] - ETA: 6s - loss: 0.4652 - accuracy: 0.8573#010#010#010#010#010#010#010#010#010#010#010#010#010#010#010#010#010#010#010#010#010#010#010#010#010#010#010#010#010#010#010#010#010#010#010#010#010#010#010#010#010#010#010#010#010#010#010#010#010#010#010#010#010#010#010#010#010#010#010#010#010#010#010#010#010#010#010#010#010#010#010#010#010#010#010#010#010#010#010#010#010#010#010#010#010#010#010#010#015 9568/55000 [====>.........................] - ETA: 5s - loss: 0.4497 - accuracy: 0.8626#010#010#010#010#010#010#010#010#010#010#010#010#010#010#010#010#010#010#010#010#010#010#010#010#010#010#010#010#010#010#010#010#010#010#010#010#010#010#010#010#010#010#010#010#010#010#010#010#010#010#010#010#010#010#010#010#010#010#010#010#010#010#010#010#010#010#010#010#010#010#010#010#010#010#010#010#010#010#010#010#010#010#010#010#010#010#010#010#01510304/55000 [====>.........................] - ETA: 5s - loss: 0.4407 - accuracy: 0.8658#010#010#010#010#010#010#010#010#010#010#010#010#010#010#010#010#010#010#010#010#010#010#010#010#010#010#010#010#010#010#010#010#010#010#010#010#010#010#010#010#010#010#010#010#010#010#010#010#010#010#010#010#010#010#010#010#010#010#010#010#010#010#010#010#010#010#010#010#010#010#010#010#010#010#010#010#010#010#010#010#010#010#010#010#010#010#010#010#01511040/55000 [=====>........................] - ETA: 5s - loss: 0.4285 - accuracy: 0.8698#010#010#010#010#010#010#010#010#010#010#010#010#010#010#010#010#010#010#010#010#010#010#010#010#010#010#010#010#010#010#010#010#010#010#010#010#010#010#010#010#010#010#010#010#010#010#010#010#010#010#010#010#010#010#010#010#010#010#010#010#010#010#010#010#010#010#010#010#010#010#010#010#010#010#010#010#010#010#010#010#010#010#010#010#010#010#010#010#01511776/55000 [=====>........................] - ETA: 5s - loss: 0.4174 - accuracy: 0.8732#010#010#010#010#010#010#010#010#010#010#010#010#010#010#010#010#010#010#010#010#010#010#010#010#010#010#010#010#010#010#010#010#010#010#010#010#010#010#010#010#010#010#010#010#010#010#010#010#010#010#010#010#010#010#010#010#010#010#010#010#010#010#010#010#010#010#010#010#010#010#010#010#010#010#010#010#010#010#010#010#010#010#010#010#010#010#010#010#01512512/55000 [=====>........................] - ETA: 4s - loss: 0.4105 - accuracy: 0.8752#010#010#010#010#010#010#010#010#010#010#010#010#010#010#010#010#010#010#010#010#010#010#010#010#010#010#010#010#010#010#010#010#010#010#010#010#010#010#010#010#010#010#010#010#010#010#010#010#010#010#010#010#010#010#010#010#010#010#010#010#010#010#010#010#010#010#010#010#010#010#010#010#010#010#010#010#010#010#010#010#010#010#010#010#010#010#010#010#01513248/55000 [======>.......................] - ETA: 4s - loss: 0.4036 - accuracy: 0.8778#010#010#010#010#010#010#010#010#010#010#010#010#010#010#010#010#010#010#010#010#010#010#010#010#010#010#010#010#010#010#010#010#010#010#010#010#010#010#010#010#010#010#010#010#010#010#010#010#010#010#010#010#010#010#010#010#010#010#010#010#010#010#010#010#010#010#010#010#010#010#010#010#010#010#010#010#010#010#010#010#010#010#010#010#010#010#010#010#01513984/55000 [======>.......................] - ETA: 4s - loss: 0.3953 - accuracy: 0.8802#010#010#010#010#010#010#010#010#010#010#010#010#010#010#010#010#010#010#010#010#010#010#010#010#010#010#010#010#010#010#010#010#010#010#010#010#010#010#010#010#010#010#010#010#010#010#010#010#010#010#010#010#010#010#010#010#010#010#010#010#010#010#010#010#010#010#010#010#010#010#010#010#010#010#010#010#010#010#010#010#010#010#010#010#010#010#010#010#01514720/55000 [=======>......................] - ETA: 4s - loss: 0.3887 - accuracy: 0.8815#010#010#010#010#010#010#010#010#010#010#010#010#010#010#010#010#010#010#010#010#010#010#010#010#010#010#010#010#010#010#010#010#010#010#010#010#010#010#010#010#010#010#010#010#010#010#010#010#010#010#010#010#010#010#010#010#010#010#010#010#010#010#010#010#010#010#010#010#010#010#010#010#010#010#010#010#010#010#010#010#010#010#010#010#010#010#010#010#01515456/55000 [=======>......................] - ETA: 4s - loss: 0.3809 - accuracy: 0.8841#010#010#010#010#010#010#010#010#010#010#010#010#010#010#010#010#010#010#010#010#010#010#010#010#010#010#010#010#010#010#010#010#010#010#010#010#010#010#010#010#010#010#010#010#010#010#010#010#010#010#010#010#010#010#010#010#010#010#010#010#010#010#010#010#010#010#010#010#010#010#010#010#010#010#010#010#010#010#010#010#010#010#010#010#010#010#010#010#01516192/55000 [=======>......................] - ETA: 4s - loss: 0.3757 - accuracy: 0.8857#010#010#010#010#010#010#010#010#010#010#010#010#010#010#010#010#010#010#010#010#010#010#010#010#010#010#010#010#010#010#010#010#010#010#010#010#010#010#010#010#010#010#010#010#010#010#010#010#010#010#010#010#010#010#010#010#010#010#010#010#010#010#010#010#010#010#010#010#010#010#010#010#010#010#010#010#010#010#010#010#010#010#010#010#010#010#010#010#01516928/55000 [========>.....................] - ETA: 3s - loss: 0.3679 - accuracy: 0.8887#010#010#010#010#010#010#010#010#010#010#010#010#010#010#010#010#010#010#010#010#010#010#010#010#010#010#010#010#010#010#010#010#010#010#010#010#010#010#010#010#010#010#010#010#010#010#010#010#010#010#010#010#010#010#010#010#010#010#010#010#010#010#010#010#010#010#010#010#010#010#010#010#010#010#010#010#010#010#010#010#010#010#010#010#010#010#010#010#01517664/55000 [========>.....................] - ETA: 3s - loss: 0.3617 - accuracy: 0.8906#010#010#010#010#010#010#010#010#010#010#010#010#010#010#010#010#010#010#010#010#010#010#010#010#010#010#010#010#010#010#010#010#010#010#010#010#010#010#010#010#010#010#010#010#010#010#010#010#010#010#010#010#010#010#010#010#010#010#010#010#010#010#010#010#010#010#010#010#010#010#010#010#010#010#010#010#010#010#010#010#010#010#010#010#010#010#010#010#01518400/55000 [=========>....................] - ETA: 3s - loss: 0.3550 - accuracy: 0.8930#010#010#010#010#010#010#010#010#010#010#010#010#010#010#010#010#010#010#010#010#010#010#010#010#010#010#010#010#010#010#010#010#010#010#010#010#010#010#010#010#010#010#010#010#010#010#010#010#010#010#010#010#010#010#010#010#010#010#010#010#010#010#010#010#010#010#010#010#010#010#010#010#010#010#010#010#010#010#010#010#010#010#010#010#010#010#010#010#01519136/55000 [=========>....................] - ETA: 3s - loss: 0.3495 - accuracy: 0.8944#010#010#010#010#010#010#010#010#010#010#010#010#010#010#010#010#010#010#010#010#010#010#010#010#010#010#010#010#010#010#010#010#010#010#010#010#010#010#010#010#010#010#010#010#010#010#010#010#010#010#010#010#010#010#010#010#010#010#010#010#010#010#010#010#010#010#010#010#010#010#010#010#010#010#010#010#010#010#010#010#010#010#010#010#010#010#010#010#01519840/55000 [=========>....................] - ETA: 3s - loss: 0.3438 - accuracy: 0.8958#010#010#010#010#010#010#010#010#010#010#010#010#010#010#010#010#010#010#010#010#010#010#010#010#010#010#010#010#010#010#010#010#010#010#010#010#010#010#010#010#010#010#010#010#010#010#010#010#010#010#010#010#010#010#010#010#010#010#010#010#010#010#010#010#010#010#010#010#010#010#010#010#010#010#010#010#010#010#010#010#010#010#010#010#010#010#010#010#01520448/55000 [==========>...................] - ETA: 3s - loss: 0.3400 - accuracy: 0.8970#010#010#010#010#010#010#010#010#010#010#010#010#010#010#010#010#010#010#010#010#010#010#010#010#010#010#010#010#010#010#010#010#010#010#010#010#010#010#010#010#010#010#010#010#010#010#010#010#010#010#010#010#010#010#010#010#010#010#010#010#010#010#010#010#010#010#010#010#010#010#010#010#010#010#010#010#010#010#010#010#010#010#010#010#010#010#010#010#01521120/55000 [==========>...................] - ETA: 3s - loss: 0.3359 - accuracy: 0.8983#010#010#010#010#010#010#010#010#010#010#010#010#010#010#010#010#010#010#010#010#010#010#010#010#010#010#010#010#010#010#010#010#010#010#010#010#010#010#010#010#010#010#010#010#010#010#010#010#010#010#010#010#010#010#010#010#010#010#010#010#010#010#010#010#010#010#010#010#010#010#010#010#010#010#010#010#010#010#010#010#010#010#010#010#010#010#010#010#01521824/55000 [==========>...................] - ETA: 3s - loss: 0.3326 - accuracy: 0.8993#010#010#010#010#010#010#010#010#010#010#010#010#010#010#010#010#010#010#010#010#010#010#010#010#010#010#010#010#010#010#010#010#010#010#010#010#010#010#010#010#010#010#010#010#010#010#010#010#010#010#010#010#010#010#010#010#010#010#010#010#010#010#010#010#010#010#010#010#010#010#010#010#010#010#010#010#010#010#010#010#010#010#010#010#010#010#010#010#01522560/55000 [===========>..................] - ETA: 3s - loss: 0.3288 - accuracy: 0.9001#010#010#010#010#010#010#010#010#010#010#010#010#010#010#010#010#010#010#010#010#010#010#010#010#010#010#010#010#010#010#010#010#010#010#010#010#010#010#010#010#010#010#010#010#010#010#010#010#010#010#010#010#010#010#010#010#010#010#010#010#010#010#010#010#010#010#010#010#010#010#010#010#010#010#010#010#010#010#010#010#010#010#010#010#010#010#010#010#01523232/55000 [===========>..................] - ETA: 3s - loss: 0.3253 - accuracy: 0.9012#010#010#010#010#010#010#010#010#010#010#010#010#010#010#010#010#010#010#010#010#010#010#010#010#010#010#010#010#010#010#010#010#010#010#010#010#010#010#010#010#010#010#010#010#010#010#010#010#010#010#010#010#010#010#010#010#010#010#010#010#010#010#010#010#010#010#010#010#010#010#010#010#010#010#010#010#010#010#010#010#010#010#010#010#010#010#010#010#01523936/55000 [============>.................] - ETA: 2s - loss: 0.3213 - accuracy: 0.9023#010#010#010#010#010#010#010#010#010#010#010#010#010#010#010#010#010#010#010#010#010#010#010#010#010#010#010#010#010#010#010#010#010#010#010#010#010#010#010#010#010#010#010#010#010#010#010#010#010#010#010#010#010#010#010#010#010#010#010#010#010#010#010#010#010#010#010#010#010#010#010#010#010#010#010#010#010#010#010#010#010#010#010#010#010#010#010#010#01524640/55000 [============>.................] - ETA: 2s - loss: 0.3179 - accuracy: 0.9034#010#010#010#010#010#010#010#010#010#010#010#010#010#010#010#010#010#010#010#010#010#010#010#010#010#010#010#010#010#010#010#010#010#010#010#010#010#010#010#010#010#010#010#010#010#010#010#010#010#010#010#010#010#010#010#010#010#010#010#010#010#010#010#010#010#010#010#010#010#010#010#010#010#010#010#010#010#010#010#010#010#010#010#010#010#010#010#010#01525344/55000 [============>.................] - ETA: 2s - loss: 0.3148 - accuracy: 0.9044#010#010#010#010#010#010#010#010#010#010#010#010#010#010#010#010#010#010#010#010#010#010#010#010#010#010#010#010#010#010#010#010#010#010#010#010#010#010#010#010#010#010#010#010#010#010#010#010#010#010#010#010#010#010#010#010#010#010#010#010#010#010#010#010#010#010#010#010#010#010#010#010#010#010#010#010#010#010#010#010#010#010#010#010#010#010#010#010#01526048/55000 [=============>................] - ETA: 2s - loss: 0.3119 - accuracy: 0.9054#010#010#010#010#010#010#010#010#010#010#010#010#010#010#010#010#010#010#010#010#010#010#010#010#010#010#010#010#010#010#010#010#010#010#010#010#010#010#010#010#010#010#010#010#010#010#010#010#010#010#010#010#010#010#010#010#010#010#010#010#010#010#010#010#010#010#010#010#010#010#010#010#010#010#010#010#010#010#010#010#010#010#010#010#010#010#010#010#01526752/55000 [=============>................] - ETA: 2s - loss: 0.3093 - accuracy: 0.9062#010#010#010#010#010#010#010#010#010#010#010#010#010#010#010#010#010#010#010#010#010#010#010#010#010#010#010#010#010#010#010#010#010#010#010#010#010#010#010#010#010#010#010#010#010#010#010#010#010#010#010#010#010#010#010#010#010#010#010#010#010#010#010#010#010#010#010#010#010#010#010#010#010#010#010#010#010#010#010#010#010#010#010#010#010#010#010#010#01527456/55000 [=============>................] - ETA: 2s - loss: 0.3062 - accuracy: 0.9073#010#010#010#010#010#010#010#010#010#010#010#010#010#010#010#010#010#010#010#010#010#010#010#010#010#010#010#010#010#010#010#010#010#010#010#010#010#010#010#010#010#010#010#010#010#010#010#010#010#010#010#010#010#010#010#010#010#010#010#010#010#010#010#010#010#010#010#010#010#010#010#010#010#010#010#010#010#010#010#010#010#010#010#010#010#010#010#010#01528160/55000 [==============>...............] - ETA: 2s - loss: 0.3030 - accuracy: 0.9082#010#010#010#010#010#010#010#010#010#010#010#010#010#010#010#010#010#010#010#010#010#010#010#010#010#010#010#010#010#010#010#010#010#010#010#010#010#010#010#010#010#010#010#010#010#010#010#010#010#010#010#010#010#010#010#010#010#010#010#010#010#010#010#010#010#010#010#010#010#010#010#010#010#010#010#010#010#010#010#010#010#010#010#010#010#010#010#010#01528864/55000 [==============>...............] - ETA: 2s - loss: 0.2994 - accuracy: 0.9091#010#010#010#010#010#010#010#010#010#010#010#010#010#010#010#010#010#010#010#010#010#010#010#010#010#010#010#010#010#010#010#010#010#010#010#010#010#010#010#010#010#010#010#010#010#010#010#010#010#010#010#010#010#010#010#010#010#010#010#010#010#010#010#010#010#010#010#010#010#010#010#010#010#010#010#010#010#010#010#010#010#010#010#010#010#010#010#010#01529568/55000 [===============>..............] - ETA: 2s - loss: 0.2960 - accuracy: 0.9101#010#010#010#010#010#010#010#010#010#010#010#010#010#010#010#010#010#010#010#010#010#010#010#010#010#010#010#010#010#010#010#010#010#010#010#010#010#010#010#010#010#010#010#010#010#010#010#010#010#010#010#010#010#010#010#010#010#010#010#010#010#010#010#010#010#010#010#010#010#010#010#010#010#010#010#010#010#010#010#010#010#010#010#010#010#010#010#010#01530304/55000 [===============>..............] - ETA: 2s - loss: 0.2925 - accuracy: 0.9112#010#010#010#010#010#010#010#010#010#010#010#010#010#010#010#010#010#010#010#010#010#010#010#010#010#010#010#010#010#010#010#010#010#010#010#010#010#010#010#010#010#010#010#010#010#010#010#010#010#010#010#010#010#010#010#010#010#010#010#010#010#010#010#010#010#010#010#010#010#010#010#010#010#010#010#010#010#010#010#010#010#010#010#010#010#010#010#010#01531008/55000 [===============>..............] - ETA: 2s - loss: 0.2911 - accuracy: 0.9118#010#010#010#010#010#010#010#010#010#010#010#010#010#010#010#010#010#010#010#010#010#010#010#010#010#010#010#010#010#010#010#010#010#010#010#010#010#010#010#010#010#010#010#010#010#010#010#010#010#010#010#010#010#010#010#010#010#010#010#010#010#010#010#010#010#010#010#010#010#010#010#010#010#010#010#010#010#010#010#010#010#010#010#010#010#010#010#010#01531712/55000 [================>.............] - ETA: 2s - loss: 0.2889 - accuracy: 0.9126#010#010#010#010#010#010#010#010#010#010#010#010#010#010#010#010#010#010#010#010#010#010#010#010#010#010#010#010#010#010#010#010#010#010#010#010#010#010#010#010#010#010#010#010#010#010#010#010#010#010#010#010#010#010#010#010#010#010#010#010#010#010#010#010#010#010#010#010#010#010#010#010#010#010#010#010#010#010#010#010#010#010#010#010#010#010#010#010#01532448/55000 [================>.............] - ETA: 1s - loss: 0.2858 - accuracy: 0.9134#010#010#010#010#010#010#010#010#010#010#010#010#010#010#010#010#010#010#010#010#010#010#010#010#010#010#010#010#010#010#010#010#010#010#010#010#010#010#010#010#010#010#010#010#010#010#010#010#010#010#010#010#010#010#010#010#010#010#010#010#010#010#010#010#010#010#010#010#010#010#010#010#010#010#010#010#010#010#010#010#010#010#010#010#010#010#010#010#01533184/55000 [=================>............] - ETA: 1s - loss: 0.2823 - accuracy: 0.9144#010#010#010#010#010#010#010#010#010#010#010#010#010#010#010#010#010#010#010#010#010#010#010#010#010#010#010#010#010#010#010#010#010#010#010#010#010#010#010#010#010#010#010#010#010#010#010#010#010#010#010#010#010#010#010#010#010#010#010#010#010#010#010#010#010#010#010#010#010#010#010#010#010#010#010#010#010#010#010#010#010#010#010#010#010#010#010#010#01533888/55000 [=================>............] - ETA: 1s - loss: 0.2801 - accuracy: 0.9153#010#010#010#010#010#010#010#010#010#010#010#010#010#010#010#010#010#010#010#010#010#010#010#010#010#010#010#010#010#010#010#010#010#010#010#010#010#010#010#010#010#010#010#010#010#010#010#010#010#010#010#010#010#010#010#010#010#010#010#010#010#010#010#010#010#010#010#010#010#010#010#010#010#010#010#010#010#010#010#010#010#010#010#010#010#010#010#010#01534592/55000 [=================>............] - ETA: 1s - loss: 0.2775 - accuracy: 0.9160#010#010#010#010#010#010#010#010#010#010#010#010#010#010#010#010#010#010#010#010#010#010#010#010#010#010#010#010#010#010#010#010#010#010#010#010#010#010#010#010#010#010#010#010#010#010#010#010#010#010#010#010#010#010#010#010#010#010#010#010#010#010#010#010#010#010#010#010#010#010#010#010#010#010#010#010#010#010#010#010#010#010#010#010#010#010#010#010#01535264/55000 [==================>...........] - ETA: 1s - loss: 0.2762 - accuracy: 0.9165#010#010#010#010#010#010#010#010#010#010#010#010#010#010#010#010#010#010#010#010#010#010#010#010#010#010#010#010#010#010#010#010#010#010#010#010#010#010#010#010#010#010#010#010#010#010#010#010#010#010#010#010#010#010#010#010#010#010#010#010#010#010#010#010#010#010#010#010#010#010#010#010#010#010#010#010#010#010#010#010#010#010#010#010#010#010#010#010#01535904/55000 [==================>...........] - ETA: 1s - loss: 0.2740 - accuracy: 0.9171#010#010#010#010#010#010#010#010#010#010#010#010#010#010#010#010#010#010#010#010#010#010#010#010#010#010#010#010#010#010#010#010#010#010#010#010#010#010#010#010#010#010#010#010#010#010#010#010#010#010#010#010#010#010#010#010#010#010#010#010#010#010#010#010#010#010#010#010#010#010#010#010#010#010#010#010#010#010#010#010#010#010#010#010#010#010#010#010#01536544/55000 [==================>...........] - ETA: 1s - loss: 0.2726 - accuracy: 0.9174#010#010#010#010#010#010#010#010#010#010#010#010#010#010#010#010#010#010#010#010#010#010#010#010#010#010#010#010#010#010#010#010#010#010#010#010#010#010#010#010#010#010#010#010#010#010#010#010#010#010#010#010#010#010#010#010#010#010#010#010#010#010#010#010#010#010#010#010#010#010#010#010#010#010#010#010#010#010#010#010#010#010#010#010#010#010#010#010#01537216/55000 [===================>..........] - ETA: 1s - loss: 0.2709 - accuracy: 0.9179#010#010#010#010#010#010#010#010#010#010#010#010#010#010#010#010#010#010#010#010#010#010#010#010#010#010#010#010#010#010#010#010#010#010#010#010#010#010#010#010#010#010#010#010#010#010#010#010#010#010#010#010#010#010#010#010#010#010#010#010#010#010#010#010#010#010#010#010#010#010#010#010#010#010#010#010#010#010#010#010#010#010#010#010#010#010#010#010#01537888/55000 [===================>..........] - ETA: 1s - loss: 0.2693 - accuracy: 0.9182#010#010#010#010#010#010#010#010#010#010#010#010#010#010#010#010#010#010#010#010#010#010#010#010#010#010#010#010#010#010#010#010#010#010#010#010#010#010#010#010#010#010#010#010#010#010#010#010#010#010#010#010#010#010#010#010#010#010#010#010#010#010#010#010#010#010#010#010#010#010#010#010#010#010#010#010#010#010#010#010#010#010#010#010#010#010#010#010#01538560/55000 [====================>.........] - ETA: 1s - loss: 0.2675 - accuracy: 0.9188#010#010#010#010#010#010#010#010#010#010#010#010#010#010#010#010#010#010#010#010#010#010#010#010#010#010#010#010#010#010#010#010#010#010#010#010#010#010#010#010#010#010#010#010#010#010#010#010#010#010#010#010#010#010#010#010#010#010#010#010#010#010#010#010#010#010#010#010#010#010#010#010#010#010#010#010#010#010#010#010#010#010#010#010#010#010#010#010#01539232/55000 [====================>.........] - ETA: 1s - loss: 0.2663 - accuracy: 0.9192#010#010#010#010#010#010#010#010#010#010#010#010#010#010#010#010#010#010#010#010#010#010#010#010#010#010#010#010#010#010#010#010#010#010#010#010#010#010#010#010#010#010#010#010#010#010#010#010#010#010#010#010#010#010#010#010#010#010#010#010#010#010#010#010#010#010#010#010#010#010#010#010#010#010#010#010#010#010#010#010#010#010#010#010#010#010#010#010#01539872/55000 [====================>.........] - ETA: 1s - loss: 0.2643 - accuracy: 0.9198#010#010#010#010#010#010#010#010#010#010#010#010#010#010#010#010#010#010#010#010#010#010#010#010#010#010#010#010#010#010#010#010#010#010#010#010#010#010#010#010#010#010#010#010#010#010#010#010#010#010#010#010#010#010#010#010#010#010#010#010#010#010#010#010#010#010#010#010#010#010#010#010#010#010#010#010#010#010#010#010#010#010#010#010#010#010#010#010#01540512/55000 [=====================>........] - ETA: 1s - loss: 0.2624 - accuracy: 0.9204#010#010#010#010#010#010#010#010#010#010#010#010#010#010#010#010#010#010#010#010#010#010#010#010#010#010#010#010#010#010#010#010#010#010#010#010#010#010#010#010#010#010#010#010#010#010#010#010#010#010#010#010#010#010#010#010#010#010#010#010#010#010#010#010#010#010#010#010#010#010#010#010#010#010#010#010#010#010#010#010#010#010#010#010#010#010#010#010#01541216/55000 [=====================>........] - ETA: 1s - loss: 0.2604 - accuracy: 0.9210#010#010#010#010#010#010#010#010#010#010#010#010#010#010#010#010#010#010#010#010#010#010#010#010#010#010#010#010#010#010#010#010#010#010#010#010#010#010#010#010#010#010#010#010#010#010#010#010#010#010#010#010#010#010#010#010#010#010#010#010#010#010#010#010#010#010#010#010#010#010#010#010#010#010#010#010#010#010#010#010#010#010#010#010#010#010#010#010#01541920/55000 [=====================>........] - ETA: 1s - loss: 0.2577 - accuracy: 0.9218#010#010#010#010#010#010#010#010#010#010#010#010#010#010#010#010#010#010#010#010#010#010#010#010#010#010#010#010#010#010#010#010#010#010#010#010#010#010#010#010#010#010#010#010#010#010#010#010#010#010#010#010#010#010#010#010#010#010#010#010#010#010#010#010#010#010#010#010#010#010#010#010#010#010#010#010#010#010#010#010#010#010#010#010#010#010#010#010#01542560/55000 [======================>.......] - ETA: 1s - loss: 0.2561 - accuracy: 0.9223#010#010#010#010#010#010#010#010#010#010#010#010#010#010#010#010#010#010#010#010#010#010#010#010#010#010#010#010#010#010#010#010#010#010#010#010#010#010#010#010#010#010#010#010#010#010#010#010#010#010#010#010#010#010#010#010#010#010#010#010#010#010#010#010#010#010#010#010#010#010#010#010#010#010#010#010#010#010#010#010#010#010#010#010#010#010#010#010#01543200/55000 [======================>.......] - ETA: 1s - loss: 0.2547 - accuracy: 0.9228#010#010#010#010#010#010#010#010#010#010#010#010#010#010#010#010#010#010#010#010#010#010#010#010#010#010#010#010#010#010#010#010#010#010#010#010#010#010#010#010#010#010#010#010#010#010#010#010#010#010#010#010#010#010#010#010#010#010#010#010#010#010#010#010#010#010#010#010#010#010#010#010#010#010#010#010#010#010#010#010#010#010#010#010#010#010#010#010#01543840/55000 [======================>.......] - ETA: 0s - loss: 0.2533 - accuracy: 0.9233#010#010#010#010#010#010#010#010#010#010#010#010#010#010#010#010#010#010#010#010#010#010#010#010#010#010#010#010#010#010#010#010#010#010#010#010#010#010#010#010#010#010#010#010#010#010#010#010#010#010#010#010#010#010#010#010#010#010#010#010#010#010#010#010#010#010#010#010#010#010#010#010#010#010#010#010#010#010#010#010#010#010#010#010#010#010#010#010#01544480/55000 [=======================>......] - ETA: 0s - loss: 0.2517 - accuracy: 0.9239#010#010#010#010#010#010#010#010#010#010#010#010#010#010#010#010#010#010#010#010#010#010#010#010#010#010#010#010#010#010#010#010#010#010#010#010#010#010#010#010#010#010#010#010#010#010#010#010#010#010#010#010#010#010#010#010#010#010#010#010#010#010#010#010#010#010#010#010#010#010#010#010#010#010#010#010#010#010#010#010#010#010#010#010#010#010#010#010#01545120/55000 [=======================>......] - ETA: 0s - loss: 0.2502 - accuracy: 0.9242#010#010#010#010#010#010#010#010#010#010#010#010#010#010#010#010#010#010#010#010#010#010#010#010#010#010#010#010#010#010#010#010#010#010#010#010#010#010#010#010#010#010#010#010#010#010#010#010#010#010#010#010#010#010#010#010#010#010#010#010#010#010#010#010#010#010#010#010#010#010#010#010#010#010#010#010#010#010#010#010#010#010#010#010#010#010#010#010#01545760/55000 [=======================>......] - ETA: 0s - loss: 0.2491 - accuracy: 0.9245#010#010#010#010#010#010#010#010#010#010#010#010#010#010#010#010#010#010#010#010#010#010#010#010#010#010#010#010#010#010#010#010#010#010#010#010#010#010#010#010#010#010#010#010#010#010#010#010#010#010#010#010#010#010#010#010#010#010#010#010#010#010#010#010#010#010#010#010#010#010#010#010#010#010#010#010#010#010#010#010#010#010#010#010#010#010#010#010#01546400/55000 [========================>.....] - ETA: 0s - loss: 0.2479 - accuracy: 0.9250#010#010#010#010#010#010#010#010#010#010#010#010#010#010#010#010#010#010#010#010#010#010#010#010#010#010#010#010#010#010#010#010#010#010#010#010#010#010#010#010#010#010#010#010#010#010#010#010#010#010#010#010#010#010#010#010#010#010#010#010#010#010#010#010#010#010#010#010#010#010#010#010#010#010#010#010#010#010#010#010#010#010#010#010#010#010#010#010#01547104/55000 [========================>.....] - ETA: 0s - loss: 0.2468 - accuracy: 0.9254#010#010#010#010#010#010#010#010#010#010#010#010#010#010#010#010#010#010#010#010#010#010#010#010#010#010#010#010#010#010#010#010#010#010#010#010#010#010#010#010#010#010#010#010#010#010#010#010#010#010#010#010#010#010#010#010#010#010#010#010#010#010#010#010#010#010#010#010#010#010#010#010#010#010#010#010#010#010#010#010#010#010#010#010#010#010#010#010#01547808/55000 [=========================>....] - ETA: 0s - loss: 0.2449 - accuracy: 0.9260#010#010#010#010#010#010#010#010#010#010#010#010#010#010#010#010#010#010#010#010#010#010#010#010#010#010#010#010#010#010#010#010#010#010#010#010#010#010#010#010#010#010#010#010#010#010#010#010#010#010#010#010#010#010#010#010#010#010#010#010#010#010#010#010#010#010#010#010#010#010#010#010#010#010#010#010#010#010#010#010#010#010#010#010#010#010#010#010#01548544/55000 [=========================>....] - ETA: 0s - loss: 0.2435 - accuracy: 0.9264#010#010#010#010#010#010#010#010#010#010#010#010#010#010#010#010#010#010#010#010#010#010#010#010#010#010#010#010#010#010#010#010#010#010#010#010#010#010#010#010#010#010#010#010#010#010#010#010#010#010#010#010#010#010#010#010#010#010#010#010#010#010#010#010#010#010#010#010#010#010#010#010#010#010#010#010#010#010#010#010#010#010#010#010#010#010#010#010#01549280/55000 [=========================>....] - ETA: 0s - loss: 0.2418 - accuracy: 0.9269#010#010#010#010#010#010#010#010#010#010#010#010#010#010#010#010#010#010#010#010#010#010#010#010#010#010#010#010#010#010#010#010#010#010#010#010#010#010#010#010#010#010#010#010#010#010#010#010#010#010#010#010#010#010#010#010#010#010#010#010#010#010#010#010#010#010#010#010#010#010#010#010#010#010#010#010#010#010#010#010#010#010#010#010#010#010#010#010#01550016/55000 [==========================>...] - ETA: 0s - loss: 0.2404 - accuracy: 0.9275#010#010#010#010#010#010#010#010#010#010#010#010#010#010#010#010#010#010#010#010#010#010#010#010#010#010#010#010#010#010#010#010#010#010#010#010#010#010#010#010#010#010#010#010#010#010#010#010#010#010#010#010#010#010#010#010#010#010#010#010#010#010#010#010#010#010#010#010#010#010#010#010#010#010#010#010#010#010#010#010#010#010#010#010#010#010#010#010#01550752/55000 [==========================>...] - ETA: 0s - loss: 0.2394 - accuracy: 0.9278#010#010#010#010#010#010#010#010#010#010#010#010#010#010#010#010#010#010#010#010#010#010#010#010#010#010#010#010#010#010#010#010#010#010#010#010#010#010#010#010#010#010#010#010#010#010#010#010#010#010#010#010#010#010#010#010#010#010#010#010#010#010#010#010#010#010#010#010#010#010#010#010#010#010#010#010#010#010#010#010#010#010#010#010#010#010#010#010#01551488/55000 [===========================>..] - ETA: 0s - loss: 0.2382 - accuracy: 0.9282#010#010#010#010#010#010#010#010#010#010#010#010#010#010#010#010#010#010#010#010#010#010#010#010#010#010#010#010#010#010#010#010#010#010#010#010#010#010#010#010#010#010#010#010#010#010#010#010#010#010#010#010#010#010#010#010#010#010#010#010#010#010#010#010#010#010#010#010#010#010#010#010#010#010#010#010#010#010#010#010#010#010#010#010#010#010#010#010#01552224/55000 [===========================>..] - ETA: 0s - loss: 0.2376 - accuracy: 0.9284#010#010#010#010#010#010#010#010#010#010#010#010#010#010#010#010#010#010#010#010#010#010#010#010#010#010#010#010#010#010#010#010#010#010#010#010#010#010#010#010#010#010#010#010#010#010#010#010#010#010#010#010#010#010#010#010#010#010#010#010#010#010#010#010#010#010#010#010#010#010#010#010#010#010#010#010#010#010#010#010#010#010#010#010#010#010#010#010#01552960/55000 [===========================>..] - ETA: 0s - loss: 0.2361 - accuracy: 0.9289#010#010#010#010#010#010#010#010#010#010#010#010#010#010#010#010#010#010#010#010#010#010#010#010#010#010#010#010#010#010#010#010#010#010#010#010#010#010#010#010#010#010#010#010#010#010#010#010#010#010#010#010#010#010#010#010#010#010#010#010#010#010#010#010#010#010#010#010#010#010#010#010#010#010#010#010#010#010#010#010#010#010#010#010#010#010#010#010#01553696/55000 [============================>.] - ETA: 0s - loss: 0.2351 - accuracy: 0.9292#010#010#010#010#010#010#010#010#010#010#010#010#010#010#010#010#010#010#010#010#010#010#010#010#010#010#010#010#010#010#010#010#010#010#010#010#010#010#010#010#010#010#010#010#010#010#010#010#010#010#010#010#010#010#010#010#010#010#010#010#010#010#010#010#010#010#010#010#010#010#010#010#010#010#010#010#010#010#010#010#010#010#010#010#010#010#010#010#01554432/55000 [============================>.] - ETA: 0s - loss: 0.2345 - accuracy: 0.9294#010#010#010#010#010#010#010#010#010#010#010#010#010#010#010#010#010#010#010#010#010#010#010#010#010#010#010#010#010#010#010#010#010#010#010#010#010#010#010#010#010#010#010#010#010#010#010#010#010#010#010#010#010#010#010#010#010#010#010#010#010#010#010#010#010#010#010#010#010#010#010#010#010#010#010#010#010#010#010#010#010#010#010#010#010#010#010#010#01555000/55000 [==============================] - 5s 83us/sample - loss: 0.2331 - accuracy: 0.9297\u001B[0m\n",
      "\u001B[34m#015   32/10000 [..............................] - ETA: 23s - loss: 0.1288 - accuracy: 0.9688#010#010#010#010#010#010#010#010#010#010#010#010#010#010#010#010#010#010#010#010#010#010#010#010#010#010#010#010#010#010#010#010#010#010#010#010#010#010#010#010#010#010#010#010#010#010#010#010#010#010#010#010#010#010#010#010#010#010#010#010#010#010#010#010#010#010#010#010#010#010#010#010#010#010#010#010#010#010#010#010#010#010#010#010#010#010#010#010#010#015  992/10000 [=>............................] - ETA: 1s - loss: 0.1128 - accuracy: 0.9637 #010#010#010#010#010#010#010#010#010#010#010#010#010#010#010#010#010#010#010#010#010#010#010#010#010#010#010#010#010#010#010#010#010#010#010#010#010#010#010#010#010#010#010#010#010#010#010#010#010#010#010#010#010#010#010#010#010#010#010#010#010#010#010#010#010#010#010#010#010#010#010#010#010#010#010#010#010#010#010#010#010#010#010#010#010#010#010#010#015 1952/10000 [====>.........................] - ETA: 0s - loss: 0.1525 - accuracy: 0.9524#010#010#010#010#010#010#010#010#010#010#010#010#010#010#010#010#010#010#010#010#010#010#010#010#010#010#010#010#010#010#010#010#010#010#010#010#010#010#010#010#010#010#010#010#010#010#010#010#010#010#010#010#010#010#010#010#010#010#010#010#010#010#010#010#010#010#010#010#010#010#010#010#010#010#010#010#010#010#010#010#010#010#010#010#010#010#010#010#015 2912/10000 [=======>......................] - ETA: 0s - loss: 0.1578 - accuracy: 0.9505#010#010#010#010#010#010#010#010#010#010#010#010#010#010#010#010#010#010#010#010#010#010#010#010#010#010#010#010#010#010#010#010#010#010#010#010#010#010#010#010#010#010#010#010#010#010#010#010#010#010#010#010#010#010#010#010#010#010#010#010#010#010#010#010#010#010#010#010#010#010#010#010#010#010#010#010#010#010#010#010#010#010#010#010#010#010#010#010#015 3872/10000 [==========>...................] - ETA: 0s - loss: 0.1559 - accuracy: 0.9514#010#010#010#010#010#010#010#010#010#010#010#010#010#010#010#010#010#010#010#010#010#010#010#010#010#010#010#010#010#010#010#010#010#010#010#010#010#010#010#010#010#010#010#010#010#010#010#010#010#010#010#010#010#010#010#010#010#010#010#010#010#010#010#010#010#010#010#010#010#010#010#010#010#010#010#010#010#010#010#010#010#010#010#010#010#010#010#010#015 4832/10000 [=============>................] - ETA: 0s - loss: 0.1598 - accuracy: 0.9499#010#010#010#010#010#010#010#010#010#010#010#010#010#010#010#010#010#010#010#010#010#010#010#010#010#010#010#010#010#010#010#010#010#010#010#010#010#010#010#010#010#010#010#010#010#010#010#010#010#010#010#010#010#010#010#010#010#010#010#010#010#010#010#010#010#010#010#010#010#010#010#010#010#010#010#010#010#010#010#010#010#010#010#010#010#010#010#010#015 5792/10000 [================>.............] - ETA: 0s - loss: 0.1490 - accuracy: 0.9542#010#010#010#010#010#010#010#010#010#010#010#010#010#010#010#010#010#010#010#010#010#010#010#010#010#010#010#010#010#010#010#010#010#010#010#010#010#010#010#010#010#010#010#010#010#010#010#010#010#010#010#010#010#010#010#010#010#010#010#010#010#010#010#010#010#010#010#010#010#010#010#010#010#010#010#010#010#010#010#010#010#010#010#010#010#010#010#010#015 6752/10000 [===================>..........] - ETA: 0s - loss: 0.1439 - accuracy: 0.9560#010#010#010#010#010#010#010#010#010#010#010#010#010#010#010#010#010#010#010#010#010#010#010#010#010#010#010#010#010#010#010#010#010#010#010#010#010#010#010#010#010#010#010#010#010#010#010#010#010#010#010#010#010#010#010#010#010#010#010#010#010#010#010#010#010#010#010#010#010#010#010#010#010#010#010#010#010#010#010#010#010#010#010#010#010#010#010#010#015 7712/10000 [======================>.......] - ETA: 0s - loss: 0.1310 - accuracy: 0.9597#010#010#010#010#010#010#010#010#010#010#010#010#010#010#010#010#010#010#010#010#010#010#010#010#010#010#010#010#010#010#010#010#010#010#010#010#010#010#010#010#010#010#010#010#010#010#010#010#010#010#010#010#010#010#010#010#010#010#010#010#010#010#010#010#010#010#010#010#010#010#010#010#010#010#010#010#010#010#010#010#010#010#010#010#010#010#010#010#015 8672/10000 [=========================>....] - ETA: 0s - loss: 0.1245 - accuracy: 0.9614#010#010#010#010#010#010#010#010#010#010#010#010#010#010#010#010#010#010#010#010#010#010#010#010#010#010#010#010#010#010#010#010#010#010#010#010#010#010#010#010#010#010#010#010#010#010#010#010#010#010#010#010#010#010#010#010#010#010#010#010#010#010#010#010#010#010#010#010#010#010#010#010#010#010#010#010#010#010#010#010#010#010#010#010#010#010#010#010#015 9632/10000 [===========================>..] - ETA: 0s - loss: 0.1156 - accuracy: 0.9643#010#010#010#010#010#010#010#010#010#010#010#010#010#010#010#010#010#010#010#010#010#010#010#010#010#010#010#010#010#010#010#010#010#010#010#010#010#010#010#010#010#010#010#010#010#010#010#010#010#010#010#010#010#010#010#010#010#010#010#010#010#010#010#010#010#010#010#010#010#010#010#010#010#010#010#010#010#010#010#010#010#010#010#010#010#010#010#010#01510000/10000 [==============================] - 1s 60us/sample - loss: 0.1208 - accuracy: 0.9625\u001B[0m\n",
      "\u001B[34m2024-03-25 11:04:05.263967: W tensorflow/python/util/util.cc:319] Sets are not currently considered sequences, but this may change in the future, so consider avoiding using them.\u001B[0m\n",
      "\u001B[34mWARNING:tensorflow:From /usr/local/lib/python3.6/dist-packages/tensorflow_core/python/ops/resource_variable_ops.py:1786: calling BaseResourceVariable.__init__ (from tensorflow.python.ops.resource_variable_ops) with constraint is deprecated and will be removed in a future version.\u001B[0m\n",
      "\u001B[34mInstructions for updating:\u001B[0m\n",
      "\u001B[34mIf using Keras pass *_constraint arguments to layers.\u001B[0m\n",
      "\u001B[34mWARNING:tensorflow:From /usr/local/lib/python3.6/dist-packages/tensorflow_core/python/ops/resource_variable_ops.py:1786: calling BaseResourceVariable.__init__ (from tensorflow.python.ops.resource_variable_ops) with constraint is deprecated and will be removed in a future version.\u001B[0m\n",
      "\u001B[34mInstructions for updating:\u001B[0m\n",
      "\u001B[34mIf using Keras pass *_constraint arguments to layers.\u001B[0m\n",
      "\u001B[34mINFO:tensorflow:Assets written to: /opt/ml/model/000000001/assets\u001B[0m\n",
      "\u001B[34mINFO:tensorflow:Assets written to: /opt/ml/model/000000001/assets\u001B[0m\n",
      "\u001B[34m2024-03-25 11:04:06,056 sagemaker-containers INFO     Reporting training SUCCESS\u001B[0m\n",
      "\n",
      "2024-03-25 11:04:19 Completed - Training job completed\n",
      "Training seconds: 142\n",
      "Billable seconds: 142\n"
     ]
    }
   ],
   "source": [
    "mnist_estimator2.fit(training_data_uri)"
   ]
  },
  {
   "cell_type": "markdown",
   "metadata": {
    "collapsed": true
   },
   "source": [
    "## Deploy the trained model to an endpoint\n",
    "\n",
    "The `deploy()` method creates a SageMaker model, which is then deployed to an endpoint to serve prediction requests in real time. We will use the TensorFlow Serving container for the endpoint, because we trained with script mode. This serving container runs an implementation of a web server that is compatible with SageMaker hosting protocol. The [Using your own inference code]() document explains how SageMaker runs inference containers."
   ]
  },
  {
   "cell_type": "code",
   "execution_count": 12,
   "metadata": {
    "ExecuteTime": {
     "end_time": "2024-03-25T11:17:09.921906Z",
     "start_time": "2024-03-25T11:17:09.915241Z"
    }
   },
   "outputs": [],
   "source": [
    "# predictor = mnist_estimator.deploy(initial_instance_count=1, instance_type=\"ml.p2.xlarge\")"
   ]
  },
  {
   "cell_type": "markdown",
   "metadata": {
    "collapsed": true
   },
   "source": [
    "Deployed the trained TensorFlow 2.1 model to an endpoint."
   ]
  },
  {
   "cell_type": "code",
   "execution_count": 13,
   "metadata": {
    "ExecuteTime": {
     "end_time": "2024-03-25T11:21:14.086515Z",
     "start_time": "2024-03-25T11:17:11.993155Z"
    }
   },
   "outputs": [
    {
     "name": "stderr",
     "output_type": "stream",
     "text": [
      "INFO:sagemaker.tensorflow.model:image_uri is not presented, retrieving image_uri based on instance_type, framework etc.\n",
      "INFO:sagemaker:Creating model with name: tensorflow-training-2024-03-25-11-17-11-990\n",
      "INFO:sagemaker:Creating endpoint-config with name tensorflow-training-2024-03-25-11-17-11-990\n",
      "INFO:sagemaker:Creating endpoint with name tensorflow-training-2024-03-25-11-17-11-990\n"
     ]
    },
    {
     "name": "stdout",
     "output_type": "stream",
     "text": [
      "-------!"
     ]
    }
   ],
   "source": [
    "predictor2 = mnist_estimator2.deploy(initial_instance_count=1, instance_type=\"ml.p2.xlarge\")"
   ]
  },
  {
   "cell_type": "markdown",
   "metadata": {},
   "source": [
    "## Invoke the endpoint\n",
    "\n",
    "Let's download the training data and use that as input for inference."
   ]
  },
  {
   "cell_type": "code",
   "execution_count": 14,
   "metadata": {
    "ExecuteTime": {
     "end_time": "2024-03-25T11:21:34.268040Z",
     "start_time": "2024-03-25T11:21:27.408077Z"
    }
   },
   "outputs": [
    {
     "name": "stdout",
     "output_type": "stream",
     "text": [
      "download: s3://sagemaker-sample-data-ap-northeast-2/tensorflow/mnist/train_data.npy to ./train_data.npy\r\n",
      "download: s3://sagemaker-sample-data-ap-northeast-2/tensorflow/mnist/train_labels.npy to ./train_labels.npy\r\n"
     ]
    }
   ],
   "source": [
    "import numpy as np\n",
    "\n",
    "!aws --region {region} s3 cp s3://sagemaker-sample-data-{region}/tensorflow/mnist/train_data.npy train_data.npy\n",
    "!aws --region {region} s3 cp s3://sagemaker-sample-data-{region}/tensorflow/mnist/train_labels.npy train_labels.npy\n",
    "\n",
    "train_data = np.load(\"train_data.npy\")\n",
    "train_labels = np.load(\"train_labels.npy\")"
   ]
  },
  {
   "cell_type": "markdown",
   "metadata": {},
   "source": [
    "The formats of the input and the output data correspond directly to the request and response formats of the `Predict` method in the [TensorFlow Serving REST API](https://www.tensorflow.org/serving/api_rest). SageMaker's TensforFlow Serving endpoints can also accept additional input formats that are not part of the TensorFlow REST API, including the simplified JSON format, line-delimited JSON objects (\"jsons\" or \"jsonlines\"), and CSV data.\n",
    "\n",
    "In this example we are using a `numpy` array as input, which will be serialized into the simplified JSON format. In addtion, TensorFlow serving can also process multiple items at once as you can see in the following code. You can find the complete documentation on how to make predictions against a TensorFlow serving SageMaker endpoint [here](https://github.com/aws/sagemaker-python-sdk/blob/master/src/sagemaker/tensorflow/deploying_tensorflow_serving.rst#making-predictions-against-a-sagemaker-endpoint)."
   ]
  },
  {
   "cell_type": "code",
   "execution_count": null,
   "metadata": {},
   "outputs": [],
   "source": [
    "# predictions = predictor.predict(train_data[:50])\n",
    "# for i in range(0, 50):\n",
    "#     prediction = predictions[\"predictions\"][i][\"classes\"]\n",
    "#     label = train_labels[i]\n",
    "#     print(\n",
    "#         \"prediction is {}, label is {}, matched: {}\".format(prediction, label, prediction == label)\n",
    "#     )"
   ]
  },
  {
   "cell_type": "markdown",
   "metadata": {},
   "source": [
    "Examine the prediction result from the TensorFlow 2.1 model."
   ]
  },
  {
   "cell_type": "code",
   "execution_count": 15,
   "metadata": {
    "ExecuteTime": {
     "end_time": "2024-03-25T11:22:09.509180Z",
     "start_time": "2024-03-25T11:22:09.019587Z"
    }
   },
   "outputs": [
    {
     "name": "stdout",
     "output_type": "stream",
     "text": [
      "prediction is 7, label is 7, matched: True\n",
      "prediction is 3, label is 3, matched: True\n",
      "prediction is 4, label is 4, matched: True\n",
      "prediction is 6, label is 6, matched: True\n",
      "prediction is 1, label is 1, matched: True\n",
      "prediction is 8, label is 8, matched: True\n",
      "prediction is 1, label is 1, matched: True\n",
      "prediction is 0, label is 0, matched: True\n",
      "prediction is 9, label is 9, matched: True\n",
      "prediction is 8, label is 8, matched: True\n",
      "prediction is 0, label is 0, matched: True\n",
      "prediction is 3, label is 3, matched: True\n",
      "prediction is 1, label is 1, matched: True\n",
      "prediction is 7, label is 2, matched: False\n",
      "prediction is 7, label is 7, matched: True\n",
      "prediction is 0, label is 0, matched: True\n",
      "prediction is 2, label is 2, matched: True\n",
      "prediction is 9, label is 9, matched: True\n",
      "prediction is 6, label is 6, matched: True\n",
      "prediction is 0, label is 0, matched: True\n",
      "prediction is 1, label is 1, matched: True\n",
      "prediction is 6, label is 6, matched: True\n",
      "prediction is 7, label is 7, matched: True\n",
      "prediction is 1, label is 1, matched: True\n",
      "prediction is 9, label is 9, matched: True\n",
      "prediction is 7, label is 7, matched: True\n",
      "prediction is 6, label is 6, matched: True\n",
      "prediction is 5, label is 5, matched: True\n",
      "prediction is 5, label is 5, matched: True\n",
      "prediction is 8, label is 8, matched: True\n",
      "prediction is 8, label is 8, matched: True\n",
      "prediction is 3, label is 3, matched: True\n",
      "prediction is 4, label is 4, matched: True\n",
      "prediction is 4, label is 4, matched: True\n",
      "prediction is 8, label is 8, matched: True\n",
      "prediction is 7, label is 7, matched: True\n",
      "prediction is 3, label is 3, matched: True\n",
      "prediction is 6, label is 6, matched: True\n",
      "prediction is 4, label is 4, matched: True\n",
      "prediction is 6, label is 6, matched: True\n",
      "prediction is 6, label is 6, matched: True\n",
      "prediction is 3, label is 3, matched: True\n",
      "prediction is 8, label is 8, matched: True\n",
      "prediction is 8, label is 8, matched: True\n",
      "prediction is 9, label is 9, matched: True\n",
      "prediction is 9, label is 9, matched: True\n",
      "prediction is 4, label is 4, matched: True\n",
      "prediction is 4, label is 4, matched: True\n",
      "prediction is 0, label is 0, matched: True\n",
      "prediction is 7, label is 7, matched: True\n"
     ]
    }
   ],
   "source": [
    "predictions2 = predictor2.predict(train_data[:50])\n",
    "for i in range(0, 50):\n",
    "    prediction = np.argmax(predictions2[\"predictions\"][i])\n",
    "    label = train_labels[i]\n",
    "    print(\n",
    "        \"prediction is {}, label is {}, matched: {}\".format(prediction, label, prediction == label)\n",
    "    )"
   ]
  },
  {
   "cell_type": "markdown",
   "source": [
    "### get predictor from endpoint"
   ],
   "metadata": {
    "collapsed": false
   }
  },
  {
   "cell_type": "code",
   "outputs": [],
   "source": [
    "# from sagemaker.serializers import JSONSerializer\n",
    "# from sagemaker.deserializers import JSONDeserializer\n",
    "from sagemaker.tensorflow import TensorFlowPredictor"
   ],
   "metadata": {
    "collapsed": false,
    "ExecuteTime": {
     "end_time": "2024-03-25T11:30:29.838158Z",
     "start_time": "2024-03-25T11:30:29.832238Z"
    }
   },
   "execution_count": 20
  },
  {
   "cell_type": "code",
   "outputs": [],
   "source": [
    "predictor3 = TensorFlowPredictor(endpoint_name='tensorflow-training-2024-03-25-11-17-11-990', \n",
    "                              sagemaker_session=sagemaker_session)\n",
    "                              # serializer=JSONSerializer,\n",
    "                              # deserializer=JSONDeserializer)"
   ],
   "metadata": {
    "collapsed": false,
    "ExecuteTime": {
     "end_time": "2024-03-25T11:33:13.703939Z",
     "start_time": "2024-03-25T11:33:13.689559Z"
    }
   },
   "execution_count": 31
  },
  {
   "cell_type": "code",
   "outputs": [
    {
     "name": "stdout",
     "output_type": "stream",
     "text": [
      "prediction is 7, label is 7, matched: True\n",
      "prediction is 3, label is 3, matched: True\n",
      "prediction is 4, label is 4, matched: True\n",
      "prediction is 6, label is 6, matched: True\n",
      "prediction is 1, label is 1, matched: True\n",
      "prediction is 8, label is 8, matched: True\n",
      "prediction is 1, label is 1, matched: True\n",
      "prediction is 0, label is 0, matched: True\n",
      "prediction is 9, label is 9, matched: True\n",
      "prediction is 8, label is 8, matched: True\n",
      "prediction is 0, label is 0, matched: True\n",
      "prediction is 3, label is 3, matched: True\n",
      "prediction is 1, label is 1, matched: True\n",
      "prediction is 7, label is 2, matched: False\n",
      "prediction is 7, label is 7, matched: True\n",
      "prediction is 0, label is 0, matched: True\n",
      "prediction is 2, label is 2, matched: True\n",
      "prediction is 9, label is 9, matched: True\n",
      "prediction is 6, label is 6, matched: True\n",
      "prediction is 0, label is 0, matched: True\n",
      "prediction is 1, label is 1, matched: True\n",
      "prediction is 6, label is 6, matched: True\n",
      "prediction is 7, label is 7, matched: True\n",
      "prediction is 1, label is 1, matched: True\n",
      "prediction is 9, label is 9, matched: True\n",
      "prediction is 7, label is 7, matched: True\n",
      "prediction is 6, label is 6, matched: True\n",
      "prediction is 5, label is 5, matched: True\n",
      "prediction is 5, label is 5, matched: True\n",
      "prediction is 8, label is 8, matched: True\n",
      "prediction is 8, label is 8, matched: True\n",
      "prediction is 3, label is 3, matched: True\n",
      "prediction is 4, label is 4, matched: True\n",
      "prediction is 4, label is 4, matched: True\n",
      "prediction is 8, label is 8, matched: True\n",
      "prediction is 7, label is 7, matched: True\n",
      "prediction is 3, label is 3, matched: True\n",
      "prediction is 6, label is 6, matched: True\n",
      "prediction is 4, label is 4, matched: True\n",
      "prediction is 6, label is 6, matched: True\n",
      "prediction is 6, label is 6, matched: True\n",
      "prediction is 3, label is 3, matched: True\n",
      "prediction is 8, label is 8, matched: True\n",
      "prediction is 8, label is 8, matched: True\n",
      "prediction is 9, label is 9, matched: True\n",
      "prediction is 9, label is 9, matched: True\n",
      "prediction is 4, label is 4, matched: True\n",
      "prediction is 4, label is 4, matched: True\n",
      "prediction is 0, label is 0, matched: True\n",
      "prediction is 7, label is 7, matched: True\n"
     ]
    }
   ],
   "source": [
    "predictions3 = predictor3.predict(train_data[:50])\n",
    "for i in range(0, 50):\n",
    "    prediction = np.argmax(predictions3[\"predictions\"][i])\n",
    "    label = train_labels[i]\n",
    "    print(\n",
    "        \"prediction is {}, label is {}, matched: {}\".format(prediction, label, prediction == label)\n",
    "    )"
   ],
   "metadata": {
    "collapsed": false,
    "ExecuteTime": {
     "end_time": "2024-03-25T11:33:14.110228Z",
     "start_time": "2024-03-25T11:33:14.042971Z"
    }
   },
   "execution_count": 32
  },
  {
   "cell_type": "markdown",
   "metadata": {},
   "source": [
    "## Delete the endpoint\n",
    "\n",
    "Let's delete the endpoint we just created to prevent incurring any extra costs."
   ]
  },
  {
   "cell_type": "code",
   "execution_count": null,
   "metadata": {},
   "outputs": [],
   "source": [
    "# predictor.delete_endpoint()"
   ]
  },
  {
   "cell_type": "markdown",
   "metadata": {},
   "source": [
    "Delete the TensorFlow 2.1 endpoint as well."
   ]
  },
  {
   "cell_type": "code",
   "execution_count": 33,
   "metadata": {
    "ExecuteTime": {
     "end_time": "2024-03-25T11:33:54.713716Z",
     "start_time": "2024-03-25T11:33:54.207225Z"
    }
   },
   "outputs": [
    {
     "name": "stderr",
     "output_type": "stream",
     "text": [
      "INFO:sagemaker:Deleting endpoint configuration with name: tensorflow-training-2024-03-25-11-17-11-990\n",
      "INFO:sagemaker:Deleting endpoint with name: tensorflow-training-2024-03-25-11-17-11-990\n"
     ]
    }
   ],
   "source": [
    "predictor2.delete_endpoint()"
   ]
  },
  {
   "cell_type": "code",
   "outputs": [],
   "source": [],
   "metadata": {
    "collapsed": false
   }
  }
 ],
 "metadata": {
  "kernelspec": {
   "name": "venv_sagemaker_39",
   "language": "python",
   "display_name": "venv_sagemaker_39"
  },
  "language_info": {
   "codemirror_mode": {
    "name": "ipython",
    "version": 3
   },
   "file_extension": ".py",
   "mimetype": "text/x-python",
   "name": "python",
   "nbconvert_exporter": "python",
   "pygments_lexer": "ipython3",
   "version": "3.9.16"
  },
  "notice": "Copyright 2017 Amazon.com, Inc. or its affiliates. All Rights Reserved.  Licensed under the Apache License, Version 2.0 (the \"License\"). You may not use this file except in compliance with the License. A copy of the License is located at http://aws.amazon.com/apache2.0/ or in the \"license\" file accompanying this file. This file is distributed on an \"AS IS\" BASIS, WITHOUT WARRANTIES OR CONDITIONS OF ANY KIND, either express or implied. See the License for the specific language governing permissions and limitations under the License."
 },
 "nbformat": 4,
 "nbformat_minor": 2
}
