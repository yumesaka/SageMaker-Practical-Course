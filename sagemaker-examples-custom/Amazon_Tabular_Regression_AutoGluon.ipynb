{
 "cells": [
  {
   "cell_type": "markdown",
   "id": "a5a5f00d",
   "metadata": {},
   "source": [
    "# Tabular regression with Amazon SageMaker AutoGluon-Tabular algorithm\n",
    "[github](https://github.com/aws/amazon-sagemaker-examples/blob/main/introduction_to_amazon_algorithms/autogluon_tabular/Amazon_Tabular_Regression_AutoGluon.ipynb)"
   ]
  },
  {
   "attachments": {},
   "cell_type": "markdown",
   "id": "75a84a95",
   "metadata": {},
   "source": [
    "---\n",
    "\n",
    "This notebook's CI test result for us-west-2 is as follows. CI test results in other regions can be found at the end of the notebook. \n",
    "\n",
    "![This us-west-2 badge failed to load. Check your device's internet connectivity, otherwise the service is currently unavailable](https://prod.us-west-2.tcx-beacon.docs.aws.dev/sagemaker-nb/us-west-2/introduction_to_amazon_algorithms|autogluon_tabular|Amazon_Tabular_Regression_AutoGluon.ipynb)\n",
    "\n",
    "---"
   ]
  },
  {
   "cell_type": "markdown",
   "id": "e4a988c0",
   "metadata": {},
   "source": [
    "---\n",
    "This notebook demonstrates the use of Amazon SageMaker [AutoGluon-Tabular](https://auto.gluon.ai/stable/tutorials/tabular_prediction/index.html) algorithm to train and host a tabular regression model. Tabular regression is the task of analyzing the relationship between predictor variables and a response variable in a structured or relational data.\n",
    "\n",
    "In this notebook, we demonstrate two use cases of tabular regression models:\n",
    "\n",
    "* How to train a tabular model on an example dataset to do regression.\n",
    "* How to use the trained tabular model to perform inference, i.e., predicting new samples.\n",
    "\n",
    "Note: This notebook was tested in Amazon SageMaker Studio on ml.t3.medium instance with Python 3 (Data Science) kernel.\n",
    "\n",
    "---"
   ]
  },
  {
   "cell_type": "markdown",
   "id": "20d6932f",
   "metadata": {},
   "source": [
    "1. [Set Up](#1.-Set-Up)\n",
    "2. [Train A Tabular Model on Abalone Dataset](#2.-Train-a-Tabular-Model-on-Abalone-Dataset)\n",
    "    * [Retrieve Training Artifacts](#2.1.-Retrieve-Training-Artifacts)\n",
    "    * [Set Training Parameters](#2.2.-Set-Training-Parameters)\n",
    "    * [Start Training](#2.3.-Start-Training)\n",
    "3. [Deploy and Run Inference on the Trained Tabular Model](#3.-Deploy-and-Run-Inference-on-the-Trained-Tabular-Model)\n",
    "4. [Evaluate the Prediction Results Returned from the Endpoint](#4.-Evaluate-the-Prediction-Results-Returned-from-the-Endpoint)"
   ]
  },
  {
   "cell_type": "markdown",
   "id": "b48f84d1",
   "metadata": {},
   "source": [
    "## 1. Set Up"
   ]
  },
  {
   "cell_type": "markdown",
   "id": "e64a82bf",
   "metadata": {},
   "source": [
    "---\n",
    "Before executing the notebook, there are some initial steps required for setup. This notebook requires latest version of sagemaker and ipywidgets.\n",
    "\n",
    "---"
   ]
  },
  {
   "cell_type": "code",
   "execution_count": null,
   "id": "8f634c19",
   "metadata": {},
   "outputs": [],
   "source": [
    "# !pip install sagemaker ipywidgets --upgrade --quiet"
   ]
  },
  {
   "cell_type": "markdown",
   "id": "c640693a",
   "metadata": {},
   "source": [
    "\n",
    "---\n",
    "To train and host on Amazon SageMaker, we need to setup and authenticate the use of AWS services. Here, we use the execution role associated with the current notebook instance as the AWS account role with SageMaker access. It has necessary permissions, including access to your data in S3.\n",
    "\n",
    "---"
   ]
  },
  {
   "cell_type": "markdown",
   "source": [
    "### Config"
   ],
   "metadata": {
    "collapsed": false
   },
   "id": "b56d59e474e5083c"
  },
  {
   "cell_type": "code",
   "outputs": [],
   "source": [
    "from omegaconf import OmegaConf"
   ],
   "metadata": {
    "collapsed": false,
    "ExecuteTime": {
     "end_time": "2024-03-25T09:14:30.401240Z",
     "start_time": "2024-03-25T09:14:30.332040Z"
    }
   },
   "id": "536b895264ed0946",
   "execution_count": 1
  },
  {
   "cell_type": "code",
   "outputs": [],
   "source": [
    "path_root = \"/Users/elnath/004_deep_learning/SageMaker-Practical-Course\"\n",
    "conf = OmegaConf.load(f\"{path_root}/config_my.json\")"
   ],
   "metadata": {
    "collapsed": false,
    "ExecuteTime": {
     "end_time": "2024-03-25T09:14:30.523341Z",
     "start_time": "2024-03-25T09:14:30.515843Z"
    }
   },
   "id": "2331e21cef5fafc2",
   "execution_count": 2
  },
  {
   "cell_type": "code",
   "execution_count": 3,
   "id": "ca80c47f",
   "metadata": {
    "ExecuteTime": {
     "end_time": "2024-03-25T09:14:32.116059Z",
     "start_time": "2024-03-25T09:14:30.729418Z"
    }
   },
   "outputs": [
    {
     "name": "stdout",
     "output_type": "stream",
     "text": [
      "sagemaker.config INFO - Not applying SDK defaults from location: /Library/Application Support/sagemaker/config.yaml\n",
      "sagemaker.config INFO - Not applying SDK defaults from location: /Users/elnath/Library/Application Support/sagemaker/config.yaml\n",
      "sagemaker.config INFO - Not applying SDK defaults from location: /Library/Application Support/sagemaker/config.yaml\n",
      "sagemaker.config INFO - Not applying SDK defaults from location: /Users/elnath/Library/Application Support/sagemaker/config.yaml\n"
     ]
    }
   ],
   "source": [
    "import sagemaker, boto3, json\n",
    "from sagemaker import get_execution_role\n",
    "\n",
    "# aws_role = get_execution_role()\n",
    "aws_role = conf.common.execution_role\n",
    "aws_region = boto3.Session().region_name\n",
    "sess = sagemaker.Session()"
   ]
  },
  {
   "cell_type": "markdown",
   "id": "588d7703",
   "metadata": {},
   "source": [
    "## 2. Train a Tabular Model on Abalone Dataset\n",
    "\n",
    "---\n",
    "\n",
    "In this demonstration, we will train a tabular algorithm on the [Abalone](https://www.csie.ntu.edu.tw/~cjlin/libsvmtools/datasets/regression.html) dataset. The dataset contains examples of eight physical measurements such as length, diameter, and height to predict the age of abalone. Among the eight physical measurements (features), there are one categorical feature and seven numerical features. Abalone dataset is downloaded from [LIBSVM](https://www.csie.ntu.edu.tw/~cjlin/libsvmtools/datasets/regression.html).\n",
    "\n",
    "Below is the table of the first 5 examples in the Abalone dataset.\n",
    "\n",
    "| Target | Feature_0 | Feature_1 | Feature_2 | Feature_3 | Feature_4 | Feature_5 | Feature_6 | Feature_7 |\n",
    "|:------:|:---------:|:---------:|:---------:|:---------:|:---------:|:---------:|:---------:|:---------:|\n",
    "|   11   |     1     |   0.585   |   0.455   |   0.150   |  0.9870   |  0.4355   |  0.2075   |  0.3100   |\n",
    "|   5    |     3     |   0.325   |   0.245   |   0.075   |  0.1495   |  0.0605   |  0.0330   |  0.0450   |\n",
    "|   9    |     3     |   0.580   |   0.420   |   0.140   |  0.7010   |  0.3285   |  0.1020   |  0.2255   |\n",
    "|   12   |     2     |   0.480   |   0.380   |   0.145   |  0.5900   |  0.2320   |  0.1410   |  0.2300   |\n",
    "|   11   |     2     |   0.440   |   0.355   |   0.115   |  0.4150   |  0.1585   |  0.0925   |  0.1310   |\n",
    "\n",
    "If you want to bring your own dataset, below are the instructions on how the training data should be formatted as input to the model.\n",
    "\n",
    "A S3 path should contain two sub-directories 'train/', and 'validation/' (optional). Each sub-directory contains a 'data.csv' file (The Abalone dataset used in this example has been prepared and saved in `training_dataset_s3_path` shown below).\n",
    "\n",
    "* The 'data.csv' files under sub-directory 'train/' and 'validation/' are for training and validation, respectively. The validation data is used to compute a validation score at the end of each training iteration or epoch. An early stopping is applied when the validation score stops improving. If the validation data is not provided, a fraction of training data is randomly sampled to serve as the validation data. The fraction value is selected based on the number of rows in the training data. Default values range from 0.2 at 2,500 rows to 0.01 at 250,000 rows. For details, see [AutoGluon-Tabular Documentation](https://auto.gluon.ai/stable/api/autogluon.predictor.html#autogluon.tabular.TabularPredictor.fit).\n",
    "* The first column of the 'data.csv' should have the corresponding target variable. The rest of other columns should have the corresponding predictor variables (features).\n",
    "* All the categorical and numeric features, and target can be kept as their original formats.\n",
    "\n",
    "\n",
    "Citations:\n",
    "\n",
    "- Dua, D. and Graff, C. (2019). UCI Machine Learning Repository [http://archive.ics.uci.edu/ml]. Irvine, CA: University of California, School of Information and Computer Science\n"
   ]
  },
  {
   "cell_type": "markdown",
   "id": "411468dc",
   "metadata": {},
   "source": [
    "### 2.1. Retrieve Training Artifacts\n",
    "\n",
    "___\n",
    "\n",
    "Here, we retrieve the training docker container, the training algorithm source, and the tabular algorithm. Note that model_version=\"*\" fetches the latest model.\n",
    "\n",
    "For the training algorithm, we have one choice in this demonstration.\n",
    "* [AutoGluon-Tabular](https://auto.gluon.ai/stable/tutorials/tabular_prediction/index.html): To use this algorithm, specify `train_model_id` as `autogluon-regression-ensemble` in the cell below.\n",
    "\n",
    "Note. [LightGBM](https://lightgbm.readthedocs.io/en/latest/) (`train_model_id: lightgbm-regression-model`), [CatBoost](https://catboost.ai/en/docs/) (`train_model_id:catboost-regression-model`), [XGBoost](https://xgboost.readthedocs.io/en/latest/) (`train_model_id: xgboost-regression-model`), [Linear Learner](https://scikit-learn.org/stable/modules/generated/sklearn.linear_model.LogisticRegression.html#sklearn.linear_model.LogisticRegression) (`train_model_id: sklearn-regression-linear`), and [TabTransformer](https://arxiv.org/abs/2012.06678) (`train_model_id: pytorch-tabtransformerregression-ensemble`) are the other choices in the tabular regression category. Since they have different input-format requirements, please check separate notebooks `lightgbm_catboost_tabular/Amazon_Tabular_Regression_LightGBM_CatBoost.ipynb`, `xgboost_linear_learner_tabular/Amazon_Tabular_Regression_XGBoost_LinearLearner.ipynb`, and `tabtransformer_tabular/Amazon_Tabular_Regression_TabTransformer.ipynb` for details.\n",
    "\n",
    "---"
   ]
  },
  {
   "cell_type": "code",
   "execution_count": 4,
   "id": "72ff6773",
   "metadata": {
    "ExecuteTime": {
     "end_time": "2024-03-25T09:14:32.534614Z",
     "start_time": "2024-03-25T09:14:32.117853Z"
    }
   },
   "outputs": [
    {
     "name": "stderr",
     "output_type": "stream",
     "text": [
      "Using model 'autogluon-regression-ensemble' with wildcard version identifier '*'. You can pin to version '2.0.0' for more stable results. Note that models may have different input/output signatures after a major version upgrade.\n"
     ]
    }
   ],
   "source": [
    "from sagemaker import image_uris, model_uris, script_uris\n",
    "\n",
    "train_model_id, train_model_version, train_scope = \"autogluon-regression-ensemble\", \"*\", \"training\"\n",
    "\n",
    "# training_instance_type = \"local\"\n",
    "training_instance_type = \"ml.p3.2xlarge\"\n",
    "\n",
    "# Retrieve the docker image\n",
    "train_image_uri = image_uris.retrieve(\n",
    "    region=None,\n",
    "    framework=None,\n",
    "    model_id=train_model_id,\n",
    "    model_version=train_model_version,\n",
    "    image_scope=train_scope,\n",
    "    instance_type=training_instance_type,\n",
    ")\n",
    "# Retrieve the training script\n",
    "train_source_uri = script_uris.retrieve(\n",
    "    model_id=train_model_id, model_version=train_model_version, script_scope=train_scope\n",
    ")\n",
    "# Retrieve the pre-trained model tarball to further fine-tune. In tabular case, however, the pre-trained model tarball is dummy and fine-tune means training from scratch.\n",
    "train_model_uri = model_uris.retrieve(\n",
    "    model_id=train_model_id, model_version=train_model_version, model_scope=train_scope\n",
    ")"
   ]
  },
  {
   "cell_type": "markdown",
   "id": "bcfd1a43",
   "metadata": {},
   "source": [
    "### 2.2. Set Training Parameters\n",
    "\n",
    "---\n",
    "Now that we are done with all the setup that is needed, we are ready to train our tabular algorithm. To begin, let us create a [``sageMaker.estimator.Estimator``](https://sagemaker.readthedocs.io/en/stable/api/training/estimators.html) object. This estimator will launch the training job. \n",
    "\n",
    "There are two kinds of parameters that need to be set for training. The first one are the parameters for the training job. These include: (i) Training data path. This is S3 folder in which the input data is stored, (ii) Output path: This the s3 folder in which the training output is stored. (iii) Training instance type: This indicates the type of machine on which to run the training.\n",
    "\n",
    "The second set of parameters are algorithm specific training hyper-parameters. \n",
    "\n",
    "---"
   ]
  },
  {
   "cell_type": "code",
   "execution_count": 5,
   "id": "8e2c3c20",
   "metadata": {
    "ExecuteTime": {
     "end_time": "2024-03-25T09:14:32.900933Z",
     "start_time": "2024-03-25T09:14:32.532091Z"
    }
   },
   "outputs": [],
   "source": [
    "# Sample training data is available in this bucket\n",
    "training_data_bucket = f\"jumpstart-cache-prod-{aws_region}\"\n",
    "training_data_prefix = \"training-datasets/tabular_regress/\"\n",
    "\n",
    "training_dataset_s3_path = f\"s3://{training_data_bucket}/{training_data_prefix}\"\n",
    "\n",
    "# sagemaker-ap-northeast-2-688554574862\n",
    "output_bucket = sess.default_bucket()\n",
    "output_prefix = \"jumpstart-example-tabular-training\"\n",
    "\n",
    "s3_output_location = f\"s3://{output_bucket}/{output_prefix}/output\""
   ]
  },
  {
   "cell_type": "markdown",
   "id": "7ed97c2c",
   "metadata": {},
   "source": [
    "---\n",
    "For algorithm specific hyper-parameters, we start by fetching python dictionary of the training hyper-parameters that the algorithm accepts with their default values. This can then be overridden to custom values.\n",
    "\n",
    "---"
   ]
  },
  {
   "cell_type": "code",
   "execution_count": 6,
   "id": "540f822c",
   "metadata": {
    "ExecuteTime": {
     "end_time": "2024-03-25T09:14:33.259515Z",
     "start_time": "2024-03-25T09:14:33.253767Z"
    }
   },
   "outputs": [
    {
     "name": "stdout",
     "output_type": "stream",
     "text": [
      "{'eval_metric': 'auto', 'presets': 'medium_quality', 'auto_stack': 'True', 'num_bag_folds': '0', 'num_bag_sets': '1', 'num_stack_levels': '0', 'refit_full': 'False', 'set_best_to_refit_full': 'False', 'save_space': 'False', 'verbosity': '2'}\n"
     ]
    }
   ],
   "source": [
    "from sagemaker import hyperparameters\n",
    "\n",
    "# Retrieve the default hyper-parameters for training the model\n",
    "hyperparameters = hyperparameters.retrieve_default(\n",
    "    model_id=train_model_id, model_version=train_model_version\n",
    ")\n",
    "\n",
    "# [Optional] Override default hyperparameters with custom values\n",
    "hyperparameters[\"auto_stack\"] = \"True\"\n",
    "print(hyperparameters)"
   ]
  },
  {
   "cell_type": "markdown",
   "id": "b765ed27",
   "metadata": {},
   "source": [
    "### 2.3. Start Training"
   ]
  },
  {
   "cell_type": "markdown",
   "id": "87a052d8",
   "metadata": {},
   "source": [
    "---\n",
    "We start by creating the estimator object with all the required assets and then launch the training job.\n",
    "Note. We do not use hyperparameter tuning for AutoGluon models because [AutoGluon](https://arxiv.org/abs/2003.06505) succeeds by ensembling multiple models and stacking them in multiple layers rather than focusing on model/hyperparameter selection.\n",
    "\n",
    "---"
   ]
  },
  {
   "cell_type": "code",
   "execution_count": 7,
   "id": "feb39f11",
   "metadata": {
    "ExecuteTime": {
     "end_time": "2024-03-25T09:20:51.470622Z",
     "start_time": "2024-03-25T09:14:35.648122Z"
    }
   },
   "outputs": [
    {
     "name": "stdout",
     "output_type": "stream",
     "text": [
      "sagemaker.config INFO - Not applying SDK defaults from location: /Library/Application Support/sagemaker/config.yaml\n",
      "sagemaker.config INFO - Not applying SDK defaults from location: /Users/elnath/Library/Application Support/sagemaker/config.yaml\n"
     ]
    },
    {
     "name": "stderr",
     "output_type": "stream",
     "text": [
      "INFO:sagemaker:Creating training-job with name: jumpstart-example-autogluon-regression--2024-03-25-09-14-35-645\n"
     ]
    },
    {
     "name": "stdout",
     "output_type": "stream",
     "text": [
      "2024-03-25 09:14:36 Starting - Starting the training job\n",
      "2024-03-25 09:14:36 Pending - Training job waiting for capacity......\n",
      "2024-03-25 09:15:16 Pending - Preparing the instances for training...\n",
      "2024-03-25 09:16:07 Downloading - Downloading input data...\n",
      "2024-03-25 09:16:27 Downloading - Downloading the training image..................\n",
      "2024-03-25 09:19:23 Training - Training image download completed. Training in progress...\u001B[34m2024-03-25 09:19:47,086 sagemaker-training-toolkit INFO     Imported framework sagemaker_mxnet_container.training\u001B[0m\n",
      "\u001B[34m2024-03-25 09:19:47,116 sagemaker_mxnet_container.training INFO     MXNet training environment: {'SM_HOSTS': '[\"algo-1\"]', 'SM_NETWORK_INTERFACE_NAME': 'eth0', 'SM_HPS': '{\"auto_stack\":\"True\",\"eval_metric\":\"auto\",\"num_bag_folds\":\"0\",\"num_bag_sets\":\"1\",\"num_stack_levels\":\"0\",\"presets\":\"medium_quality\",\"refit_full\":\"False\",\"save_space\":\"False\",\"set_best_to_refit_full\":\"False\",\"verbosity\":\"2\"}', 'SM_USER_ENTRY_POINT': 'transfer_learning.py', 'SM_FRAMEWORK_PARAMS': '{}', 'SM_RESOURCE_CONFIG': '{\"current_group_name\":\"homogeneousCluster\",\"current_host\":\"algo-1\",\"current_instance_type\":\"ml.p3.2xlarge\",\"hosts\":[\"algo-1\"],\"instance_groups\":[{\"hosts\":[\"algo-1\"],\"instance_group_name\":\"homogeneousCluster\",\"instance_type\":\"ml.p3.2xlarge\"}],\"network_interface_name\":\"eth0\"}', 'SM_INPUT_DATA_CONFIG': '{\"model\":{\"ContentType\":\"application/x-sagemaker-model\",\"RecordWrapperType\":\"None\",\"S3DistributionType\":\"FullyReplicated\",\"TrainingInputMode\":\"File\"},\"training\":{\"RecordWrapperType\":\"None\",\"S3DistributionType\":\"FullyReplicated\",\"TrainingInputMode\":\"File\"}}', 'SM_OUTPUT_DATA_DIR': '/opt/ml/output/data', 'SM_CHANNELS': '[\"model\",\"training\"]', 'SM_CURRENT_HOST': 'algo-1', 'SM_MODULE_NAME': 'transfer_learning', 'SM_LOG_LEVEL': '20', 'SM_FRAMEWORK_MODULE': 'sagemaker_mxnet_container.training:main', 'SM_INPUT_DIR': '/opt/ml/input', 'SM_INPUT_CONFIG_DIR': '/opt/ml/input/config', 'SM_OUTPUT_DIR': '/opt/ml/output', 'SM_NUM_CPUS': '8', 'SM_NUM_GPUS': '1', 'SM_MODEL_DIR': '/opt/ml/model', 'SM_MODULE_DIR': 's3://jumpstart-cache-prod-ap-northeast-2/source-directory-tarballs/autogluon/transfer_learning/regression/prepack/v1.1.0/sourcedir.tar.gz', 'SM_TRAINING_ENV': '{\"additional_framework_parameters\":{},\"channel_input_dirs\":{\"model\":\"/opt/ml/input/data/model\",\"training\":\"/opt/ml/input/data/training\"},\"current_host\":\"algo-1\",\"framework_module\":\"sagemaker_mxnet_container.training:main\",\"hosts\":[\"algo-1\"],\"hyperparameters\":{\"auto_stack\":\"True\",\"eval_metric\":\"auto\",\"num_bag_folds\":\"0\",\"num_bag_sets\":\"1\",\"num_stack_levels\":\"0\",\"presets\":\"medium_quality\",\"refit_full\":\"False\",\"save_space\":\"False\",\"set_best_to_refit_full\":\"False\",\"verbosity\":\"2\"},\"input_config_dir\":\"/opt/ml/input/config\",\"input_data_config\":{\"model\":{\"ContentType\":\"application/x-sagemaker-model\",\"RecordWrapperType\":\"None\",\"S3DistributionType\":\"FullyReplicated\",\"TrainingInputMode\":\"File\"},\"training\":{\"RecordWrapperType\":\"None\",\"S3DistributionType\":\"FullyReplicated\",\"TrainingInputMode\":\"File\"}},\"input_dir\":\"/opt/ml/input\",\"is_master\":true,\"is_modelparallel_enabled\":null,\"job_name\":\"jumpstart-example-autogluon-regression--2024-03-25-09-14-35-645\",\"log_level\":20,\"master_hostname\":\"algo-1\",\"model_dir\":\"/opt/ml/model\",\"module_dir\":\"s3://jumpstart-cache-prod-ap-northeast-2/source-directory-tarballs/autogluon/transfer_learning/regression/prepack/v1.1.0/sourcedir.tar.gz\",\"module_name\":\"transfer_learning\",\"network_interface_name\":\"eth0\",\"num_cpus\":8,\"num_gpus\":1,\"output_data_dir\":\"/opt/ml/output/data\",\"output_dir\":\"/opt/ml/output\",\"output_intermediate_dir\":\"/opt/ml/output/intermediate\",\"resource_config\":{\"current_group_name\":\"homogeneousCluster\",\"current_host\":\"algo-1\",\"current_instance_type\":\"ml.p3.2xlarge\",\"hosts\":[\"algo-1\"],\"instance_groups\":[{\"hosts\":[\"algo-1\"],\"instance_group_name\":\"homogeneousCluster\",\"instance_type\":\"ml.p3.2xlarge\"}],\"network_interface_name\":\"eth0\"},\"user_entry_point\":\"transfer_learning.py\"}', 'SM_USER_ARGS': '[\"--auto_stack\",\"True\",\"--eval_metric\",\"auto\",\"--num_bag_folds\",\"0\",\"--num_bag_sets\",\"1\",\"--num_stack_levels\",\"0\",\"--presets\",\"medium_quality\",\"--refit_full\",\"False\",\"--save_space\",\"False\",\"--set_best_to_refit_full\",\"False\",\"--verbosity\",\"2\"]', 'SM_OUTPUT_INTERMEDIATE_DIR': '/opt/ml/output/intermediate', 'SM_CHANNEL_MODEL': '/opt/ml/input/data/model', 'SM_CHANNEL_TRAINING': '/opt/ml/input/data/training', 'SM_HP_AUTO_STACK': 'True', 'SM_HP_EVAL_METRIC': 'auto', 'SM_HP_NUM_BAG_FOLDS': '0', 'SM_HP_NUM_BAG_SETS': '1', 'SM_HP_NUM_STACK_LEVELS': '0', 'SM_HP_PRESETS': 'medium_quality', 'SM_HP_REFIT_FULL': 'False', 'SM_HP_SAVE_SPACE': 'False', 'SM_HP_SET_BEST_TO_REFIT_FULL': 'False', 'SM_HP_VERBOSITY': '2'}\u001B[0m\n",
      "\u001B[34m2024-03-25 09:19:47,300 sagemaker-training-toolkit INFO     Installing dependencies from requirements.txt:\u001B[0m\n",
      "\u001B[34m/usr/bin/python3 -m pip install -r requirements.txt\u001B[0m\n",
      "\u001B[34mProcessing ./lib/sagemaker_jumpstart_script_utilities/sagemaker_jumpstart_script_utilities-1.0.1-py2.py3-none-any.whl\u001B[0m\n",
      "\u001B[34mProcessing ./lib/sagemaker_jumpstart_prepack_script_utilities/sagemaker_jumpstart_prepack_script_utilities-1.0.0-py2.py3-none-any.whl\u001B[0m\n",
      "\u001B[34mInstalling collected packages: sagemaker-jumpstart-script-utilities, sagemaker-jumpstart-prepack-script-utilities\u001B[0m\n",
      "\u001B[34mSuccessfully installed sagemaker-jumpstart-prepack-script-utilities-1.0.0 sagemaker-jumpstart-script-utilities-1.0.1\u001B[0m\n",
      "\u001B[34mWARNING: Running pip as the 'root' user can result in broken permissions and conflicting behaviour with the system package manager. It is recommended to use a virtual environment instead: https://pip.pypa.io/warnings/venv\u001B[0m\n",
      "\u001B[34m--- Logging error ---\u001B[0m\n",
      "\u001B[34mTraceback (most recent call last):\n",
      "  File \"/usr/local/lib/python3.8/dist-packages/pip/_internal/utils/logging.py\", line 177, in emit\n",
      "    self.console.print(renderable, overflow=\"ignore\", crop=False, style=style)\n",
      "  File \"/usr/local/lib/python3.8/dist-packages/pip/_vendor/rich/console.py\", line 1673, in print\n",
      "    extend(render(renderable, render_options))\n",
      "  File \"/usr/local/lib/python3.8/dist-packages/pip/_vendor/rich/console.py\", line 1305, in render\n",
      "    for render_output in iter_render:\n",
      "  File \"/usr/local/lib/python3.8/dist-packages/pip/_internal/utils/logging.py\", line 134, in __rich_console__\n",
      "    for line in lines:\n",
      "  File \"/usr/local/lib/python3.8/dist-packages/pip/_vendor/rich/segment.py\", line 249, in split_lines\n",
      "    for segment in segments:\n",
      "  File \"/usr/local/lib/python3.8/dist-packages/pip/_vendor/rich/console.py\", line 1283, in render\n",
      "    renderable = rich_cast(renderable)\n",
      "  File \"/usr/local/lib/python3.8/dist-packages/pip/_vendor/rich/protocol.py\", line 36, in rich_cast\n",
      "    renderable = cast_method()\n",
      "  File \"/usr/local/lib/python3.8/dist-packages/pip/_internal/self_outdated_check.py\", line 130, in __rich__\n",
      "    pip_cmd = get_best_invocation_for_this_pip()\n",
      "  File \"/usr/local/lib/python3.8/dist-packages/pip/_internal/utils/entrypoints.py\", line 58, in get_best_invocation_for_this_pip\n",
      "    if found_executable and os.path.samefile(\n",
      "  File \"/usr/lib/python3.8/genericpath.py\", line 101, in samefile\n",
      "    s2 = os.stat(f2)\u001B[0m\n",
      "\u001B[34mFileNotFoundError: [Errno 2] No such file or directory: '/usr/bin/pip3.8'\u001B[0m\n",
      "\u001B[34mCall stack:\n",
      "  File \"/usr/lib/python3.8/runpy.py\", line 194, in _run_module_as_main\n",
      "    return _run_code(code, main_globals, None,\n",
      "  File \"/usr/lib/python3.8/runpy.py\", line 87, in _run_code\n",
      "    exec(code, run_globals)\n",
      "  File \"/usr/local/lib/python3.8/dist-packages/pip/__main__.py\", line 31, in <module>\n",
      "    sys.exit(_main())\n",
      "  File \"/usr/local/lib/python3.8/dist-packages/pip/_internal/cli/main.py\", line 70, in main\n",
      "    return command.main(cmd_args)\n",
      "  File \"/usr/local/lib/python3.8/dist-packages/pip/_internal/cli/base_command.py\", line 101, in main\n",
      "    return self._main(args)\n",
      "  File \"/usr/local/lib/python3.8/dist-packages/pip/_internal/cli/base_command.py\", line 223, in _main\n",
      "    self.handle_pip_version_check(options)\n",
      "  File \"/usr/local/lib/python3.8/dist-packages/pip/_internal/cli/req_command.py\", line 190, in handle_pip_version_check\n",
      "    pip_self_version_check(session, options)\n",
      "  File \"/usr/local/lib/python3.8/dist-packages/pip/_internal/self_outdated_check.py\", line 236, in pip_self_version_check\n",
      "    logger.warning(\"[present-rich] %s\", upgrade_prompt)\n",
      "  File \"/usr/lib/python3.8/logging/__init__.py\", line 1458, in warning\n",
      "    self._log(WARNING, msg, args, **kwargs)\n",
      "  File \"/usr/lib/python3.8/logging/__init__.py\", line 1589, in _log\n",
      "    self.handle(record)\n",
      "  File \"/usr/lib/python3.8/logging/__init__.py\", line 1599, in handle\n",
      "    self.callHandlers(record)\n",
      "  File \"/usr/lib/python3.8/logging/__init__.py\", line 1661, in callHandlers\n",
      "    hdlr.handle(record)\n",
      "  File \"/usr/lib/python3.8/logging/__init__.py\", line 954, in handle\n",
      "    self.emit(record)\n",
      "  File \"/usr/local/lib/python3.8/dist-packages/pip/_internal/utils/logging.py\", line 179, in emit\n",
      "    self.handleError(record)\u001B[0m\n",
      "\u001B[34mMessage: '[present-rich] %s'\u001B[0m\n",
      "\u001B[34mArguments: (UpgradePrompt(old='22.2.2', new='24.0'),)\u001B[0m\n",
      "\u001B[34m2024-03-25 09:19:50,056 sagemaker-training-toolkit INFO     Invoking user script\u001B[0m\n",
      "\u001B[34mTraining Env:\u001B[0m\n",
      "\u001B[34m{\n",
      "    \"additional_framework_parameters\": {},\n",
      "    \"channel_input_dirs\": {\n",
      "        \"model\": \"/opt/ml/input/data/model\",\n",
      "        \"training\": \"/opt/ml/input/data/training\"\n",
      "    },\n",
      "    \"current_host\": \"algo-1\",\n",
      "    \"framework_module\": \"sagemaker_mxnet_container.training:main\",\n",
      "    \"hosts\": [\n",
      "        \"algo-1\"\n",
      "    ],\n",
      "    \"hyperparameters\": {\n",
      "        \"auto_stack\": \"True\",\n",
      "        \"eval_metric\": \"auto\",\n",
      "        \"num_bag_folds\": \"0\",\n",
      "        \"num_bag_sets\": \"1\",\n",
      "        \"num_stack_levels\": \"0\",\n",
      "        \"presets\": \"medium_quality\",\n",
      "        \"refit_full\": \"False\",\n",
      "        \"save_space\": \"False\",\n",
      "        \"set_best_to_refit_full\": \"False\",\n",
      "        \"verbosity\": \"2\"\n",
      "    },\n",
      "    \"input_config_dir\": \"/opt/ml/input/config\",\n",
      "    \"input_data_config\": {\n",
      "        \"model\": {\n",
      "            \"ContentType\": \"application/x-sagemaker-model\",\n",
      "            \"TrainingInputMode\": \"File\",\n",
      "            \"S3DistributionType\": \"FullyReplicated\",\n",
      "            \"RecordWrapperType\": \"None\"\n",
      "        },\n",
      "        \"training\": {\n",
      "            \"TrainingInputMode\": \"File\",\n",
      "            \"S3DistributionType\": \"FullyReplicated\",\n",
      "            \"RecordWrapperType\": \"None\"\n",
      "        }\n",
      "    },\n",
      "    \"input_dir\": \"/opt/ml/input\",\n",
      "    \"is_master\": true,\n",
      "    \"is_modelparallel_enabled\": null,\n",
      "    \"job_name\": \"jumpstart-example-autogluon-regression--2024-03-25-09-14-35-645\",\n",
      "    \"log_level\": 20,\n",
      "    \"master_hostname\": \"algo-1\",\n",
      "    \"model_dir\": \"/opt/ml/model\",\n",
      "    \"module_dir\": \"s3://jumpstart-cache-prod-ap-northeast-2/source-directory-tarballs/autogluon/transfer_learning/regression/prepack/v1.1.0/sourcedir.tar.gz\",\n",
      "    \"module_name\": \"transfer_learning\",\n",
      "    \"network_interface_name\": \"eth0\",\n",
      "    \"num_cpus\": 8,\n",
      "    \"num_gpus\": 1,\n",
      "    \"output_data_dir\": \"/opt/ml/output/data\",\n",
      "    \"output_dir\": \"/opt/ml/output\",\n",
      "    \"output_intermediate_dir\": \"/opt/ml/output/intermediate\",\n",
      "    \"resource_config\": {\n",
      "        \"current_host\": \"algo-1\",\n",
      "        \"current_instance_type\": \"ml.p3.2xlarge\",\n",
      "        \"current_group_name\": \"homogeneousCluster\",\n",
      "        \"hosts\": [\n",
      "            \"algo-1\"\n",
      "        ],\n",
      "        \"instance_groups\": [\n",
      "            {\n",
      "                \"instance_group_name\": \"homogeneousCluster\",\n",
      "                \"instance_type\": \"ml.p3.2xlarge\",\n",
      "                \"hosts\": [\n",
      "                    \"algo-1\"\n",
      "                ]\n",
      "            }\n",
      "        ],\n",
      "        \"network_interface_name\": \"eth0\"\n",
      "    },\n",
      "    \"user_entry_point\": \"transfer_learning.py\"\u001B[0m\n",
      "\u001B[34m}\u001B[0m\n",
      "\u001B[34mEnvironment variables:\u001B[0m\n",
      "\u001B[34mSM_HOSTS=[\"algo-1\"]\u001B[0m\n",
      "\u001B[34mSM_NETWORK_INTERFACE_NAME=eth0\u001B[0m\n",
      "\u001B[34mSM_HPS={\"auto_stack\":\"True\",\"eval_metric\":\"auto\",\"num_bag_folds\":\"0\",\"num_bag_sets\":\"1\",\"num_stack_levels\":\"0\",\"presets\":\"medium_quality\",\"refit_full\":\"False\",\"save_space\":\"False\",\"set_best_to_refit_full\":\"False\",\"verbosity\":\"2\"}\u001B[0m\n",
      "\u001B[34mSM_USER_ENTRY_POINT=transfer_learning.py\u001B[0m\n",
      "\u001B[34mSM_FRAMEWORK_PARAMS={}\u001B[0m\n",
      "\u001B[34mSM_RESOURCE_CONFIG={\"current_group_name\":\"homogeneousCluster\",\"current_host\":\"algo-1\",\"current_instance_type\":\"ml.p3.2xlarge\",\"hosts\":[\"algo-1\"],\"instance_groups\":[{\"hosts\":[\"algo-1\"],\"instance_group_name\":\"homogeneousCluster\",\"instance_type\":\"ml.p3.2xlarge\"}],\"network_interface_name\":\"eth0\"}\u001B[0m\n",
      "\u001B[34mSM_INPUT_DATA_CONFIG={\"model\":{\"ContentType\":\"application/x-sagemaker-model\",\"RecordWrapperType\":\"None\",\"S3DistributionType\":\"FullyReplicated\",\"TrainingInputMode\":\"File\"},\"training\":{\"RecordWrapperType\":\"None\",\"S3DistributionType\":\"FullyReplicated\",\"TrainingInputMode\":\"File\"}}\u001B[0m\n",
      "\u001B[34mSM_OUTPUT_DATA_DIR=/opt/ml/output/data\u001B[0m\n",
      "\u001B[34mSM_CHANNELS=[\"model\",\"training\"]\u001B[0m\n",
      "\u001B[34mSM_CURRENT_HOST=algo-1\u001B[0m\n",
      "\u001B[34mSM_MODULE_NAME=transfer_learning\u001B[0m\n",
      "\u001B[34mSM_LOG_LEVEL=20\u001B[0m\n",
      "\u001B[34mSM_FRAMEWORK_MODULE=sagemaker_mxnet_container.training:main\u001B[0m\n",
      "\u001B[34mSM_INPUT_DIR=/opt/ml/input\u001B[0m\n",
      "\u001B[34mSM_INPUT_CONFIG_DIR=/opt/ml/input/config\u001B[0m\n",
      "\u001B[34mSM_OUTPUT_DIR=/opt/ml/output\u001B[0m\n",
      "\u001B[34mSM_NUM_CPUS=8\u001B[0m\n",
      "\u001B[34mSM_NUM_GPUS=1\u001B[0m\n",
      "\u001B[34mSM_MODEL_DIR=/opt/ml/model\u001B[0m\n",
      "\u001B[34mSM_MODULE_DIR=s3://jumpstart-cache-prod-ap-northeast-2/source-directory-tarballs/autogluon/transfer_learning/regression/prepack/v1.1.0/sourcedir.tar.gz\u001B[0m\n",
      "\u001B[34mSM_TRAINING_ENV={\"additional_framework_parameters\":{},\"channel_input_dirs\":{\"model\":\"/opt/ml/input/data/model\",\"training\":\"/opt/ml/input/data/training\"},\"current_host\":\"algo-1\",\"framework_module\":\"sagemaker_mxnet_container.training:main\",\"hosts\":[\"algo-1\"],\"hyperparameters\":{\"auto_stack\":\"True\",\"eval_metric\":\"auto\",\"num_bag_folds\":\"0\",\"num_bag_sets\":\"1\",\"num_stack_levels\":\"0\",\"presets\":\"medium_quality\",\"refit_full\":\"False\",\"save_space\":\"False\",\"set_best_to_refit_full\":\"False\",\"verbosity\":\"2\"},\"input_config_dir\":\"/opt/ml/input/config\",\"input_data_config\":{\"model\":{\"ContentType\":\"application/x-sagemaker-model\",\"RecordWrapperType\":\"None\",\"S3DistributionType\":\"FullyReplicated\",\"TrainingInputMode\":\"File\"},\"training\":{\"RecordWrapperType\":\"None\",\"S3DistributionType\":\"FullyReplicated\",\"TrainingInputMode\":\"File\"}},\"input_dir\":\"/opt/ml/input\",\"is_master\":true,\"is_modelparallel_enabled\":null,\"job_name\":\"jumpstart-example-autogluon-regression--2024-03-25-09-14-35-645\",\"log_level\":20,\"master_hostname\":\"algo-1\",\"model_dir\":\"/opt/ml/model\",\"module_dir\":\"s3://jumpstart-cache-prod-ap-northeast-2/source-directory-tarballs/autogluon/transfer_learning/regression/prepack/v1.1.0/sourcedir.tar.gz\",\"module_name\":\"transfer_learning\",\"network_interface_name\":\"eth0\",\"num_cpus\":8,\"num_gpus\":1,\"output_data_dir\":\"/opt/ml/output/data\",\"output_dir\":\"/opt/ml/output\",\"output_intermediate_dir\":\"/opt/ml/output/intermediate\",\"resource_config\":{\"current_group_name\":\"homogeneousCluster\",\"current_host\":\"algo-1\",\"current_instance_type\":\"ml.p3.2xlarge\",\"hosts\":[\"algo-1\"],\"instance_groups\":[{\"hosts\":[\"algo-1\"],\"instance_group_name\":\"homogeneousCluster\",\"instance_type\":\"ml.p3.2xlarge\"}],\"network_interface_name\":\"eth0\"},\"user_entry_point\":\"transfer_learning.py\"}\u001B[0m\n",
      "\u001B[34mSM_USER_ARGS=[\"--auto_stack\",\"True\",\"--eval_metric\",\"auto\",\"--num_bag_folds\",\"0\",\"--num_bag_sets\",\"1\",\"--num_stack_levels\",\"0\",\"--presets\",\"medium_quality\",\"--refit_full\",\"False\",\"--save_space\",\"False\",\"--set_best_to_refit_full\",\"False\",\"--verbosity\",\"2\"]\u001B[0m\n",
      "\u001B[34mSM_OUTPUT_INTERMEDIATE_DIR=/opt/ml/output/intermediate\u001B[0m\n",
      "\u001B[34mSM_CHANNEL_MODEL=/opt/ml/input/data/model\u001B[0m\n",
      "\u001B[34mSM_CHANNEL_TRAINING=/opt/ml/input/data/training\u001B[0m\n",
      "\u001B[34mSM_HP_AUTO_STACK=True\u001B[0m\n",
      "\u001B[34mSM_HP_EVAL_METRIC=auto\u001B[0m\n",
      "\u001B[34mSM_HP_NUM_BAG_FOLDS=0\u001B[0m\n",
      "\u001B[34mSM_HP_NUM_BAG_SETS=1\u001B[0m\n",
      "\u001B[34mSM_HP_NUM_STACK_LEVELS=0\u001B[0m\n",
      "\u001B[34mSM_HP_PRESETS=medium_quality\u001B[0m\n",
      "\u001B[34mSM_HP_REFIT_FULL=False\u001B[0m\n",
      "\u001B[34mSM_HP_SAVE_SPACE=False\u001B[0m\n",
      "\u001B[34mSM_HP_SET_BEST_TO_REFIT_FULL=False\u001B[0m\n",
      "\u001B[34mSM_HP_VERBOSITY=2\u001B[0m\n",
      "\u001B[34mPYTHONPATH=/opt/ml/code:/usr/local/bin:/usr/lib/python38.zip:/usr/lib/python3.8:/usr/lib/python3.8/lib-dynload:/usr/local/lib/python3.8/dist-packages:/usr/lib/python3/dist-packages\u001B[0m\n",
      "\u001B[34mInvoking script with the following command:\u001B[0m\n",
      "\u001B[34m/usr/bin/python3 transfer_learning.py --auto_stack True --eval_metric auto --num_bag_folds 0 --num_bag_sets 1 --num_stack_levels 0 --presets medium_quality --refit_full False --save_space False --set_best_to_refit_full False --verbosity 2\u001B[0m\n",
      "\u001B[34mRunning training job with the number of gpu: 1\u001B[0m\n",
      "\u001B[34mWarning: path already exists! This predictor may overwrite an existing predictor! path=\"/opt/ml/model\"\u001B[0m\n",
      "\u001B[34mPresets specified: ['medium_quality']\u001B[0m\n",
      "\u001B[34mBeginning AutoGluon training ...\u001B[0m\n",
      "\u001B[34mAutoGluon will save models to \"/opt/ml/model/\"\u001B[0m\n",
      "\u001B[34mAutoGluon Version:  0.4.3\u001B[0m\n",
      "\u001B[34mPython Version:     3.8.10\u001B[0m\n",
      "\u001B[34mOperating System:   Linux\u001B[0m\n",
      "\u001B[34mTrain Data Rows:    2923\u001B[0m\n",
      "\u001B[34mTrain Data Columns: 8\u001B[0m\n",
      "\u001B[34mTuning Data Rows:    626\u001B[0m\n",
      "\u001B[34mTuning Data Columns: 8\u001B[0m\n",
      "\u001B[34mLabel Column: target\u001B[0m\n",
      "\u001B[34mPreprocessing data ...\u001B[0m\n",
      "\u001B[34mUsing Feature Generators to preprocess the data ...\u001B[0m\n",
      "\u001B[34mFitting AutoMLPipelineFeatureGenerator...\u001B[0m\n",
      "\u001B[34m#011Available Memory:                    62317.86 MB\u001B[0m\n",
      "\u001B[34m#011Train Data (Original)  Memory Usage: 0.23 MB (0.0% of available memory)\u001B[0m\n",
      "\u001B[34m#011Inferring data type of each feature based on column values. Set feature_metadata_in to manually specify special dtypes of the features.\u001B[0m\n",
      "\u001B[34m#011Stage 1 Generators:\u001B[0m\n",
      "\u001B[34m#011#011Fitting AsTypeFeatureGenerator...\u001B[0m\n",
      "\u001B[34m#011Stage 2 Generators:\u001B[0m\n",
      "\u001B[34m#011#011Fitting FillNaFeatureGenerator...\u001B[0m\n",
      "\u001B[34m#011Stage 3 Generators:\u001B[0m\n",
      "\u001B[34m#011#011Fitting IdentityFeatureGenerator...\u001B[0m\n",
      "\u001B[34m#011Stage 4 Generators:\u001B[0m\n",
      "\u001B[34m#011#011Fitting DropUniqueFeatureGenerator...\u001B[0m\n",
      "\u001B[34m#011Types of features in original data (raw dtype, special dtypes):\u001B[0m\n",
      "\u001B[34m#011#011('float', []) : 7 | ['feature_1', 'feature_2', 'feature_3', 'feature_4', 'feature_5', ...]\u001B[0m\n",
      "\u001B[34m#011#011('int', [])   : 1 | ['feature_0']\u001B[0m\n",
      "\u001B[34m#011Types of features in processed data (raw dtype, special dtypes):\u001B[0m\n",
      "\u001B[34m#011#011('float', []) : 7 | ['feature_1', 'feature_2', 'feature_3', 'feature_4', 'feature_5', ...]\u001B[0m\n",
      "\u001B[34m#011#011('int', [])   : 1 | ['feature_0']\u001B[0m\n",
      "\u001B[34m#0110.0s = Fit runtime\u001B[0m\n",
      "\u001B[34m#0118 features in original data used to generate 8 features in processed data.\u001B[0m\n",
      "\u001B[34m#011Train Data (Processed) Memory Usage: 0.23 MB (0.0% of available memory)\u001B[0m\n",
      "\u001B[34mData preprocessing and feature engineering runtime = 0.03s ...\u001B[0m\n",
      "\u001B[34mAutoGluon will gauge predictive performance using evaluation metric: 'root_mean_squared_error'\u001B[0m\n",
      "\u001B[34m#011To change this, specify the eval_metric parameter of Predictor()\u001B[0m\n",
      "\u001B[34mFitting 11 L1 models ...\u001B[0m\n",
      "\u001B[34mFitting model: KNeighborsUnif ...\u001B[0m\n",
      "\u001B[34m#011-2.3922#011 = Validation score   (root_mean_squared_error)\u001B[0m\n",
      "\u001B[34m#0110.01s#011 = Training   runtime\u001B[0m\n",
      "\u001B[34m#0110.01s#011 = Validation runtime\u001B[0m\n",
      "\u001B[34mFitting model: KNeighborsDist ...\u001B[0m\n",
      "\u001B[34m#011-2.3987#011 = Validation score   (root_mean_squared_error)\u001B[0m\n",
      "\u001B[34m#0110.01s#011 = Training   runtime\u001B[0m\n",
      "\u001B[34m#0110.01s#011 = Validation runtime\u001B[0m\n",
      "\u001B[34mFitting model: LightGBMXT ...\u001B[0m\n",
      "\u001B[34m[1000]#011valid_set's rmse: 2.25103\u001B[0m\n",
      "\u001B[34m#011-2.2494#011 = Validation score   (root_mean_squared_error)\u001B[0m\n",
      "\u001B[34m#0110.92s#011 = Training   runtime\u001B[0m\n",
      "\u001B[34m#0110.01s#011 = Validation runtime\u001B[0m\n",
      "\u001B[34mFitting model: LightGBM ...\u001B[0m\n",
      "\u001B[34m#011-2.2867#011 = Validation score   (root_mean_squared_error)\u001B[0m\n",
      "\u001B[34m#0110.31s#011 = Training   runtime\u001B[0m\n",
      "\u001B[34m#0110.0s#011 = Validation runtime\u001B[0m\n",
      "\u001B[34mFitting model: RandomForestMSE ...\u001B[0m\n",
      "\u001B[34m#011-2.2969#011 = Validation score   (root_mean_squared_error)\u001B[0m\n",
      "\u001B[34m#0110.95s#011 = Training   runtime\u001B[0m\n",
      "\u001B[34m#0110.09s#011 = Validation runtime\u001B[0m\n",
      "\u001B[34mFitting model: CatBoost ...\u001B[0m\n",
      "\u001B[34m#011-2.2468#011 = Validation score   (root_mean_squared_error)\u001B[0m\n",
      "\u001B[34m#0110.95s#011 = Training   runtime\u001B[0m\n",
      "\u001B[34m#0110.0s#011 = Validation runtime\u001B[0m\n",
      "\u001B[34mFitting model: ExtraTreesMSE ...\u001B[0m\n",
      "\u001B[34m#011-2.2711#011 = Validation score   (root_mean_squared_error)\u001B[0m\n",
      "\u001B[34m#0110.68s#011 = Training   runtime\u001B[0m\n",
      "\u001B[34m#0110.09s#011 = Validation runtime\u001B[0m\n",
      "\u001B[34mFitting model: NeuralNetFastAI ...\u001B[0m\n",
      "\u001B[34m#011-2.2133#011 = Validation score   (root_mean_squared_error)\u001B[0m\n",
      "\u001B[34m#0114.52s#011 = Training   runtime\u001B[0m\n",
      "\u001B[34m#0110.02s#011 = Validation runtime\u001B[0m\n",
      "\u001B[34mFitting model: XGBoost ...\u001B[0m\n",
      "\u001B[34m#011-2.3185#011 = Validation score   (root_mean_squared_error)\u001B[0m\n",
      "\u001B[34m#0110.56s#011 = Training   runtime\u001B[0m\n",
      "\u001B[34m#0110.01s#011 = Validation runtime\u001B[0m\n",
      "\u001B[34mFitting model: NeuralNetTorch ...\u001B[0m\n",
      "\u001B[34m#011-2.2203#011 = Validation score   (root_mean_squared_error)\u001B[0m\n",
      "\u001B[34m#0114.22s#011 = Training   runtime\u001B[0m\n",
      "\u001B[34m#0110.01s#011 = Validation runtime\u001B[0m\n",
      "\u001B[34mFitting model: LightGBMLarge ...\u001B[0m\n",
      "\u001B[34m#011-2.3119#011 = Validation score   (root_mean_squared_error)\u001B[0m\n",
      "\u001B[34m#0110.93s#011 = Training   runtime\u001B[0m\n",
      "\u001B[34m#0110.0s#011 = Validation runtime\u001B[0m\n",
      "\u001B[34mFitting model: WeightedEnsemble_L2 ...\u001B[0m\n",
      "\u001B[34m#011-2.1938#011 = Validation score   (root_mean_squared_error)\u001B[0m\n",
      "\u001B[34m#0110.44s#011 = Training   runtime\u001B[0m\n",
      "\u001B[34m#0110.0s#011 = Validation runtime\u001B[0m\n",
      "\u001B[34mAutoGluon training complete, total runtime = 15.44s ... Best model: \"WeightedEnsemble_L2\"\u001B[0m\n",
      "\u001B[34mTabularPredictor saved. To load, use: predictor = TabularPredictor.load(\"/opt/ml/model/\")\u001B[0m\n",
      "\u001B[34m2024-03-25 09:20:07,110 sagemaker-training-toolkit INFO     Reporting training SUCCESS\u001B[0m\n",
      "\n",
      "2024-03-25 09:20:24 Uploading - Uploading generated training model\n",
      "2024-03-25 09:20:24 Completed - Training job completed\n",
      "Training seconds: 257\n",
      "Billable seconds: 257\n"
     ]
    }
   ],
   "source": [
    "from sagemaker.estimator import Estimator\n",
    "from sagemaker.utils import name_from_base\n",
    "\n",
    "training_job_name = name_from_base(f\"jumpstart-example-{train_model_id}-training\")\n",
    "\n",
    "# Create SageMaker Estimator instance\n",
    "tabular_estimator = Estimator(\n",
    "    role=aws_role,\n",
    "    image_uri=train_image_uri,\n",
    "    source_dir=train_source_uri,\n",
    "    model_uri=train_model_uri,\n",
    "    entry_point=\"transfer_learning.py\",\n",
    "    instance_count=1,\n",
    "    instance_type=training_instance_type,\n",
    "    max_run=360000,\n",
    "    hyperparameters=hyperparameters,\n",
    "    output_path=s3_output_location,\n",
    ")\n",
    "\n",
    "# Launch a SageMaker Training job by passing s3 path of the training data\n",
    "tabular_estimator.fit({\"training\": training_dataset_s3_path}, logs=True, job_name=training_job_name)"
   ]
  },
  {
   "cell_type": "markdown",
   "id": "5fa5c235",
   "metadata": {},
   "source": [
    "## 3. Deploy and Run Inference on the Trained Tabular Model\n",
    "\n",
    "---\n",
    "\n",
    "In this section, you learn how to query an existing endpoint and make predictions of the examples you input. For each example, the model will output a numerical value to estimate the corresponding target value.\n",
    "\n",
    "We start by retrieving the artifacts and deploy the `tabular_estimator` that we trained.\n",
    "\n",
    "---"
   ]
  },
  {
   "cell_type": "code",
   "execution_count": 8,
   "id": "cfcbb4a3",
   "metadata": {
    "ExecuteTime": {
     "end_time": "2024-03-25T09:24:52.072654Z",
     "start_time": "2024-03-25T09:20:51.471693Z"
    }
   },
   "outputs": [
    {
     "name": "stderr",
     "output_type": "stream",
     "text": [
      "INFO:sagemaker:Repacking model artifact (s3://sagemaker-ap-northeast-2-688554574862/jumpstart-example-tabular-training/output/jumpstart-example-autogluon-regression--2024-03-25-09-14-35-645/output/model.tar.gz), script artifact (s3://jumpstart-cache-prod-ap-northeast-2/source-directory-tarballs/autogluon/inference/regression/v1.0.0/sourcedir.tar.gz), and dependencies ([]) into single tar.gz file located at s3://sagemaker-ap-northeast-2-688554574862/sagemaker-jumpstart-2024-03-25-09-20-51-473/model.tar.gz. This may take some time depending on model size...\n",
      "INFO:sagemaker:Creating model with name: sagemaker-jumpstart-2024-03-25-09-20-51-473\n",
      "INFO:sagemaker:Creating endpoint-config with name jumpstart-example-autogluon-regression--2024-03-25-09-20-51-473\n",
      "INFO:sagemaker:Creating endpoint with name jumpstart-example-autogluon-regression--2024-03-25-09-20-51-473\n"
     ]
    },
    {
     "name": "stdout",
     "output_type": "stream",
     "text": [
      "------!"
     ]
    }
   ],
   "source": [
    "inference_instance_type = \"ml.m5.2xlarge\"\n",
    "# inference_instance_type = \"local\"\n",
    "\n",
    "# Retrieve the inference docker container uri\n",
    "deploy_image_uri = image_uris.retrieve(\n",
    "    region=None,\n",
    "    framework=None,\n",
    "    image_scope=\"inference\",\n",
    "    model_id=train_model_id,\n",
    "    model_version=train_model_version,\n",
    "    instance_type=inference_instance_type,\n",
    ")\n",
    "# Retrieve the inference script uri\n",
    "deploy_source_uri = script_uris.retrieve(\n",
    "    model_id=train_model_id, model_version=train_model_version, script_scope=\"inference\"\n",
    ")\n",
    "\n",
    "endpoint_name = name_from_base(f\"jumpstart-example-{train_model_id}-\")\n",
    "\n",
    "# Use the estimator from the previous step to deploy to a SageMaker endpoint\n",
    "predictor = tabular_estimator.deploy(\n",
    "    initial_instance_count=1,\n",
    "    instance_type=inference_instance_type,\n",
    "    entry_point=\"inference.py\",\n",
    "    image_uri=deploy_image_uri,\n",
    "    source_dir=deploy_source_uri,\n",
    "    endpoint_name=endpoint_name,\n",
    ")"
   ]
  },
  {
   "cell_type": "markdown",
   "id": "eb448fa6",
   "metadata": {},
   "source": [
    "---\n",
    "Next, we download a hold-out ABALONE test data from the S3 bucket for inference.\n",
    "\n",
    "---"
   ]
  },
  {
   "cell_type": "code",
   "execution_count": 9,
   "id": "5279b308",
   "metadata": {
    "ExecuteTime": {
     "end_time": "2024-03-25T09:31:27.551628Z",
     "start_time": "2024-03-25T09:31:27.332802Z"
    }
   },
   "outputs": [],
   "source": [
    "jumpstart_assets_bucket = f\"jumpstart-cache-prod-{aws_region}\"\n",
    "test_data_prefix = \"training-datasets/tabular_regress/test\"\n",
    "test_data_file_name = \"data.csv\"\n",
    "\n",
    "boto3.client(\"s3\").download_file(\n",
    "    jumpstart_assets_bucket, f\"{test_data_prefix}/{test_data_file_name}\", test_data_file_name\n",
    ")"
   ]
  },
  {
   "cell_type": "markdown",
   "id": "2b3bfd84",
   "metadata": {},
   "source": [
    "---\n",
    "Next, we read the Abalone test data into pandas data frame, prepare the ground truth target and predicting features to send into the endpoint.\n",
    "\n",
    "Below is the screenshot of the first 5 examples in the Abalone test set. All of the test examples with features\n",
    "from ```Feature_1``` to ```Feature_8``` are sent into the deployed model to get model predictions, to estimate the ground truth ```Target``` column.\n",
    "\n",
    "---"
   ]
  },
  {
   "cell_type": "code",
   "execution_count": 10,
   "id": "a301a885",
   "metadata": {
    "ExecuteTime": {
     "end_time": "2024-03-25T09:31:29.953727Z",
     "start_time": "2024-03-25T09:31:29.077898Z"
    }
   },
   "outputs": [
    {
     "name": "stdout",
     "output_type": "stream",
     "text": [
      "\u001B[1mThe test dataset contains 626 examples and 9 columns.\u001B[0m\n",
      "\n",
      "\u001B[1mThe first 5 observations of the test data: \u001B[0m\n"
     ]
    },
    {
     "data": {
      "text/plain": "   Target  Feature_1  Feature_2  Feature_3  Feature_4  Feature_5  Feature_6  \\\n0      11          1      0.585      0.455      0.150     0.9870     0.4355   \n1       5          3      0.325      0.245      0.075     0.1495     0.0605   \n2       9          3      0.580      0.420      0.140     0.7010     0.3285   \n3      12          2      0.480      0.380      0.145     0.5900     0.2320   \n4      11          2      0.440      0.355      0.115     0.4150     0.1585   \n\n   Feature_7  Feature_8  \n0     0.2075     0.3100  \n1     0.0330     0.0450  \n2     0.1020     0.2255  \n3     0.1410     0.2300  \n4     0.0925     0.1310  ",
      "text/html": "<div>\n<style scoped>\n    .dataframe tbody tr th:only-of-type {\n        vertical-align: middle;\n    }\n\n    .dataframe tbody tr th {\n        vertical-align: top;\n    }\n\n    .dataframe thead th {\n        text-align: right;\n    }\n</style>\n<table border=\"1\" class=\"dataframe\">\n  <thead>\n    <tr style=\"text-align: right;\">\n      <th></th>\n      <th>Target</th>\n      <th>Feature_1</th>\n      <th>Feature_2</th>\n      <th>Feature_3</th>\n      <th>Feature_4</th>\n      <th>Feature_5</th>\n      <th>Feature_6</th>\n      <th>Feature_7</th>\n      <th>Feature_8</th>\n    </tr>\n  </thead>\n  <tbody>\n    <tr>\n      <th>0</th>\n      <td>11</td>\n      <td>1</td>\n      <td>0.585</td>\n      <td>0.455</td>\n      <td>0.150</td>\n      <td>0.9870</td>\n      <td>0.4355</td>\n      <td>0.2075</td>\n      <td>0.3100</td>\n    </tr>\n    <tr>\n      <th>1</th>\n      <td>5</td>\n      <td>3</td>\n      <td>0.325</td>\n      <td>0.245</td>\n      <td>0.075</td>\n      <td>0.1495</td>\n      <td>0.0605</td>\n      <td>0.0330</td>\n      <td>0.0450</td>\n    </tr>\n    <tr>\n      <th>2</th>\n      <td>9</td>\n      <td>3</td>\n      <td>0.580</td>\n      <td>0.420</td>\n      <td>0.140</td>\n      <td>0.7010</td>\n      <td>0.3285</td>\n      <td>0.1020</td>\n      <td>0.2255</td>\n    </tr>\n    <tr>\n      <th>3</th>\n      <td>12</td>\n      <td>2</td>\n      <td>0.480</td>\n      <td>0.380</td>\n      <td>0.145</td>\n      <td>0.5900</td>\n      <td>0.2320</td>\n      <td>0.1410</td>\n      <td>0.2300</td>\n    </tr>\n    <tr>\n      <th>4</th>\n      <td>11</td>\n      <td>2</td>\n      <td>0.440</td>\n      <td>0.355</td>\n      <td>0.115</td>\n      <td>0.4150</td>\n      <td>0.1585</td>\n      <td>0.0925</td>\n      <td>0.1310</td>\n    </tr>\n  </tbody>\n</table>\n</div>"
     },
     "execution_count": 10,
     "metadata": {},
     "output_type": "execute_result"
    }
   ],
   "source": [
    "newline, bold, unbold = \"\\n\", \"\\033[1m\", \"\\033[0m\"\n",
    "\n",
    "import numpy as np\n",
    "import pandas as pd\n",
    "from sklearn.metrics import mean_absolute_error\n",
    "from sklearn.metrics import mean_squared_error\n",
    "from sklearn.metrics import r2_score\n",
    "import matplotlib.pyplot as plt\n",
    "\n",
    "# read the data\n",
    "test_data = pd.read_csv(test_data_file_name, header=None)\n",
    "test_data.columns = [\"Target\"] + [f\"Feature_{i}\" for i in range(1, test_data.shape[1])]\n",
    "\n",
    "num_examples, num_columns = test_data.shape\n",
    "print(\n",
    "    f\"{bold}The test dataset contains {num_examples} examples and {num_columns} columns.{unbold}\\n\"\n",
    ")\n",
    "\n",
    "# prepare the ground truth target and predicting features to send into the endpoint.\n",
    "ground_truth_label, features = test_data.iloc[:, :1], test_data.iloc[:, 1:]\n",
    "\n",
    "print(\n",
    "    f\"{bold}The first 5 observations of the test data: {unbold}\"\n",
    ")  # Feature_1 is the categorical variables and rest of other features are numeric variables.\n",
    "test_data.head(5)"
   ]
  },
  {
   "cell_type": "markdown",
   "id": "cde0cd66",
   "metadata": {},
   "source": [
    "---\n",
    "The following code queries the endpoint you have created to get the prediction for each test example. \n",
    "The `query_endpoint()` function returns a array-like of shape (num_examples, ).\n",
    "\n",
    "---"
   ]
  },
  {
   "cell_type": "code",
   "execution_count": 11,
   "id": "6b311948",
   "metadata": {
    "ExecuteTime": {
     "end_time": "2024-03-25T09:31:33.384018Z",
     "start_time": "2024-03-25T09:31:31.641576Z"
    }
   },
   "outputs": [],
   "source": [
    "content_type = \"text/csv\"\n",
    "\n",
    "\n",
    "def query_endpoint(encoded_tabular_data):\n",
    "    client = boto3.client(\"runtime.sagemaker\")\n",
    "    response = client.invoke_endpoint(\n",
    "        EndpointName=endpoint_name, ContentType=content_type, Body=encoded_tabular_data\n",
    "    )\n",
    "    return response\n",
    "\n",
    "\n",
    "def parse_resonse(query_response):\n",
    "    predictions = json.loads(query_response[\"Body\"].read())\n",
    "    return np.array(predictions[\"prediction\"])\n",
    "\n",
    "\n",
    "query_response = query_endpoint(features.to_csv(header=False, index=False).encode(\"utf-8\"))\n",
    "model_predictions = parse_resonse(query_response)"
   ]
  },
  {
   "cell_type": "markdown",
   "id": "a675cb65",
   "metadata": {},
   "source": [
    "## 4. Evaluate the Prediction Results Returned from the Endpoint\n",
    "\n",
    "---\n",
    "We evaluate the predictions results returned from the endpoint by following two ways.\n",
    "\n",
    "* Visualize the prediction results by a residual plot to compare the model predictions and ground truth targets.\n",
    "\n",
    "* Measure the prediction results quantitatively.\n",
    "\n",
    "---"
   ]
  },
  {
   "cell_type": "code",
   "execution_count": 12,
   "id": "f0629bab",
   "metadata": {
    "ExecuteTime": {
     "end_time": "2024-03-25T09:31:37.100644Z",
     "start_time": "2024-03-25T09:31:36.884970Z"
    }
   },
   "outputs": [
    {
     "data": {
      "text/plain": "<Figure size 640x480 with 1 Axes>",
      "image/png": "[encoded data removed]"
     },
     "metadata": {},
     "output_type": "display_data"
    }
   ],
   "source": [
    "# Visualization: a residual plot to compare the model predictions and ground truth targets. For each example, the residual value\n",
    "# is the subtraction between the prediction and ground truth target.\n",
    "# We can see that the points in the residual plot are randomly dispersed around the horizontal axis y = 0,\n",
    "# which indicates the fitted regression model is appropriate for the ABALONE data\n",
    "\n",
    "residuals = ground_truth_label.values[:, 0] - model_predictions\n",
    "plt.scatter(model_predictions, residuals, color=\"blue\", s=40)\n",
    "plt.hlines(y=0, xmin=4, xmax=18)\n",
    "plt.xlabel(\"Predicted Values\", fontsize=18)\n",
    "plt.ylabel(\"Residuals\", fontsize=18)\n",
    "plt.show()"
   ]
  },
  {
   "cell_type": "code",
   "execution_count": 13,
   "id": "9f523a52",
   "metadata": {
    "ExecuteTime": {
     "end_time": "2024-03-25T09:31:42.784988Z",
     "start_time": "2024-03-25T09:31:42.780178Z"
    }
   },
   "outputs": [
    {
     "name": "stdout",
     "output_type": "stream",
     "text": [
      "\u001B[1mEvaluation result on test data\u001B[0m:\n",
      "\u001B[1mr2_score\u001B[0m: 0.6108650775322776\n",
      "\u001B[1mmean_squared_error\u001B[0m: 4.4532511712817255\n",
      "\u001B[1mmean_absolute_error\u001B[0m: 1.4510031641481784\n"
     ]
    }
   ],
   "source": [
    "# Evaluate the model predictions quantitatively.\n",
    "eval_r2_score = r2_score(ground_truth_label.values, model_predictions)\n",
    "eval_mse_score = mean_squared_error(ground_truth_label.values, model_predictions)\n",
    "eval_mae_score = mean_absolute_error(ground_truth_label.values, model_predictions)\n",
    "print(\n",
    "    f\"{bold}Evaluation result on test data{unbold}:{newline}\"\n",
    "    f\"{bold}{r2_score.__name__}{unbold}: {eval_r2_score}{newline}\"\n",
    "    f\"{bold}{mean_squared_error.__name__}{unbold}: {eval_mse_score}{newline}\"\n",
    "    f\"{bold}{mean_absolute_error.__name__}{unbold}: {eval_mae_score}{newline}\"\n",
    ")"
   ]
  },
  {
   "cell_type": "markdown",
   "id": "c07e16bb",
   "metadata": {},
   "source": [
    "---\n",
    "Next, we delete the endpoint corresponding to the trained model.\n",
    "\n",
    "---"
   ]
  },
  {
   "cell_type": "code",
   "execution_count": 14,
   "id": "0b18b7e1",
   "metadata": {
    "ExecuteTime": {
     "end_time": "2024-03-25T09:31:46.251237Z",
     "start_time": "2024-03-25T09:31:45.373559Z"
    }
   },
   "outputs": [
    {
     "name": "stderr",
     "output_type": "stream",
     "text": [
      "INFO:sagemaker:Deleting model with name: sagemaker-jumpstart-2024-03-25-09-20-51-473\n",
      "INFO:sagemaker:Deleting endpoint configuration with name: jumpstart-example-autogluon-regression--2024-03-25-09-20-51-473\n",
      "INFO:sagemaker:Deleting endpoint with name: jumpstart-example-autogluon-regression--2024-03-25-09-20-51-473\n"
     ]
    }
   ],
   "source": [
    "# Delete the SageMaker endpoint and the attached resources\n",
    "predictor.delete_model()\n",
    "predictor.delete_endpoint()"
   ]
  },
  {
   "cell_type": "code",
   "outputs": [],
   "source": [],
   "metadata": {
    "collapsed": false
   },
   "id": "4955dc13e28b5a4e"
  }
 ],
 "metadata": {
  "instance_type": "ml.t3.medium",
  "kernelspec": {
   "name": "venv_sagemaker_39",
   "language": "python",
   "display_name": "venv_sagemaker_39"
  },
  "language_info": {
   "codemirror_mode": {
    "name": "ipython",
    "version": 3
   },
   "file_extension": ".py",
   "mimetype": "text/x-python",
   "name": "python",
   "nbconvert_exporter": "python",
   "pygments_lexer": "ipython3",
   "version": "3.10.6"
  }
 },
 "nbformat": 4,
 "nbformat_minor": 5
}
