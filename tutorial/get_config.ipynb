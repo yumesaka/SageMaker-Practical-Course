{
 "cells": [
  {
   "cell_type": "code",
   "outputs": [],
   "source": [
    "import sagemaker"
   ],
   "metadata": {
    "collapsed": false,
    "ExecuteTime": {
     "end_time": "2024-03-25T11:59:22.228265Z",
     "start_time": "2024-03-25T11:59:22.220309Z"
    }
   },
   "id": "e76fe98c3b640efe",
   "execution_count": 2
  },
  {
   "cell_type": "code",
   "outputs": [
    {
     "name": "stdout",
     "output_type": "stream",
     "text": [
      "2.198.0\n"
     ]
    }
   ],
   "source": [
    "print(sagemaker.__version__)"
   ],
   "metadata": {
    "collapsed": false,
    "ExecuteTime": {
     "end_time": "2024-03-25T11:59:24.073337Z",
     "start_time": "2024-03-25T11:59:24.055216Z"
    }
   },
   "id": "5715ed678fbfb5e9",
   "execution_count": 3
  },
  {
   "cell_type": "code",
   "execution_count": 1,
   "id": "initial_id",
   "metadata": {
    "collapsed": true,
    "ExecuteTime": {
     "end_time": "2024-03-25T07:18:26.601372Z",
     "start_time": "2024-03-25T07:18:26.534538Z"
    }
   },
   "outputs": [],
   "source": [
    "from omegaconf import OmegaConf"
   ]
  },
  {
   "cell_type": "code",
   "outputs": [],
   "source": [
    "path_root = \"/Users/elnath/004_deep_learning/SageMaker-Practical-Course\"\n",
    "conf = OmegaConf.load(f\"{path_root}/config_my.json\")"
   ],
   "metadata": {
    "collapsed": false,
    "ExecuteTime": {
     "end_time": "2024-03-25T07:18:26.709899Z",
     "start_time": "2024-03-25T07:18:26.701056Z"
    }
   },
   "id": "e3c628f53ac90258",
   "execution_count": 2
  },
  {
   "cell_type": "markdown",
   "source": [
    "## set config"
   ],
   "metadata": {
    "collapsed": false
   },
   "id": "9ef4ea9ca739159d"
  },
  {
   "cell_type": "code",
   "outputs": [],
   "source": [
    "execution_role = conf.common.execution_role\n",
    "region = conf.common.region\n",
    "\n",
    "#training_instance_type = \"ml.p3.2xlarge\"\n",
    "training_instance_type = \"local\""
   ],
   "metadata": {
    "collapsed": false,
    "ExecuteTime": {
     "end_time": "2024-03-25T07:18:28.241276Z",
     "start_time": "2024-03-25T07:18:28.237399Z"
    }
   },
   "id": "382041d2ff41be34",
   "execution_count": 4
  }
 ],
 "metadata": {
  "kernelspec": {
   "name": "venv_sagemaker_39",
   "language": "python",
   "display_name": "venv_sagemaker_39"
  },
  "language_info": {
   "codemirror_mode": {
    "name": "ipython",
    "version": 2
   },
   "file_extension": ".py",
   "mimetype": "text/x-python",
   "name": "python",
   "nbconvert_exporter": "python",
   "pygments_lexer": "ipython2",
   "version": "2.7.6"
  }
 },
 "nbformat": 4,
 "nbformat_minor": 5
}
